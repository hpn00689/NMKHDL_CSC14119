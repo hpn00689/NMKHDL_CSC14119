{
 "cells": [
  {
   "attachments": {},
   "cell_type": "markdown",
   "metadata": {},
   "source": [
    "# <p style=\"text-align:center\"> **GIAI ĐOẠN 3: PHÂN TÍCH DỮ LIỆU** </p>\n",
    "---\n",
    "- **Về công cụ**: Sử dụng numpy và pandas để phân tích dữ liệu và trả lời các câu hỏi được đưa ra. \n",
    "---"
   ]
  },
  {
   "attachments": {},
   "cell_type": "markdown",
   "metadata": {},
   "source": [
    "### <p style=\"text-align:center\"> **I. IMPORT THƯ VIỆN CẦN THIẾT** </p>"
   ]
  },
  {
   "cell_type": "code",
   "execution_count": 10,
   "metadata": {},
   "outputs": [],
   "source": [
    "# Import thư viện cần thiết để thao tác dữ liệu\n",
    "import pandas as pd\n",
    "import numpy as np \n",
    "\n",
    "# Import thư viện để trực quan những kết quả tìm hiểu được:\n",
    "import matplotlib.pyplot as plt\n",
    "\n",
    "#Lấy các biến từ pha trước vào\n",
    "%store -r dfMidfielder\n",
    "%store -r dfKeeper\n",
    "%store -r dfForward\n",
    "%store -r dfDefender"
   ]
  },
  {
   "cell_type": "code",
   "execution_count": 11,
   "metadata": {},
   "outputs": [],
   "source": [
    "#Lưu trữ các biến lại để tránh bị dính các note ở các giá trị chưa được khai báo \n",
    "dfMidfieder = dfMidfielder\n",
    "dfKeeper = dfKeeper\n",
    "dfForward = dfForward\n",
    "dfDefender = dfDefender"
   ]
  },
  {
   "attachments": {},
   "cell_type": "markdown",
   "metadata": {},
   "source": [
    "### <p style=\"text-align:center\"> **II. ĐẶT VÀ TRẢ LỜI CÂU HỎI** </p>"
   ]
  },
  {
   "attachments": {},
   "cell_type": "markdown",
   "metadata": {},
   "source": [
    "Các thuộc tính có mang tiền tố average sẽ được hiểu là chỉ số trung bình trong một trận đấu của một cầu thủ. Các chỉ số này sẽ được tính bằng cách lấy chỉ số gốc chia cho tổng số lần ra sân của cầu thủ đó."
   ]
  },
  {
   "attachments": {},
   "cell_type": "markdown",
   "metadata": {},
   "source": [
    "CÂU HỎI THỨ NHẤT $$\\newline$$\n",
    "Thông thường xu hướng chơi bóng của các cầu thủ sẽ được chia làm ba loại: chủ động, trung lập và bị động.\n",
    "Ứng với từng vị trí, chúng ta sẽ cân nhắc các thuộc tính khác nhau để xác định xu hướng chơi bóng của các cầu thủ thuộc vị trí đó. Thông qua việc phân lớp này, ta có thể hiểu hơn về lối chơi của các cầu thủ và có thể giúp các huấn luyện viên có các điều chỉnh chiến thuật hoặc thậm chí là quyết đinh chuyển nhượng hợp lí.$$\\newline$$\n",
    "- Đối với vị trí tiền đạo, ta sẽ xét các thuộc tính:\n",
    "    + Average shots\n",
    "    + Average crosses\n",
    "    + Average tackles\n",
    "    + Average interceptions $$\\newline$$\n",
    "Ta sẽ đưa nó về một thang điểm 10 với mỗi chỉ số sẽ chiếm 2.5 điểm và được tính bởi công thức:\n",
    "    $$value \\ scale = \\frac{value}{max} \\times 2.5$$\n",
    "    Trong đó:\n",
    "    + value: giá trị của thuộc tính đang xét của cầu thủ       \n",
    "    + max: giá trị lớn nhất của thuộc tính trong số các cầu thủ cùng vị trí\n",
    "    + value scale: giá trị đã được tính toán lại\n",
    "    $$\\newline$$\n",
    "- Đối với vị trí tiền vệ, ta sẽ xét các thuộc tính:\n",
    "    + Average crosses\n",
    "    + Average through balls\n",
    "    + Average passes\n",
    "    + Average tackles\n",
    "    + Average interceptions $$\\newline$$\n",
    "Ta sẽ đưa nó về một thang điểm 10 với mỗi chỉ số sẽ chiếm 2 điểm và được tính bởi công thức:\n",
    "    $$value \\ scale = \\frac{value}{max} \\times 2$$\n",
    "    Trong đó:\n",
    "    + value: giá trị của thuộc tính đang xét của cầu thủ       \n",
    "    + max: giá trị lớn nhất của thuộc tính trong số các cầu thủ cùng vị trí\n",
    "    + value scale: giá trị đã được tính toán lại\n",
    "    $$\\newline$$\n",
    "- Đối với vị trí hậu vệ, ta sẽ xét các thuộc tính:\n",
    "    + Average clearances offline\n",
    "    + Average headed clearances\n",
    "    + Average tackles\n",
    "    + Average interceptions $$\\newline$$\n",
    "Ta sẽ đưa nó về một thang điểm 10 với mỗi chỉ số sẽ chiếm 2.5 điểm và được tính bởi công thức:\n",
    "    $$value \\ scale = \\frac{value}{max} \\times 2.5$$\n",
    "    Trong đó:\n",
    "    + value: giá trị của thuộc tính đang xét của cầu thủ       \n",
    "    + max: giá trị lớn nhất của thuộc tính trong số các cầu thủ cùng vị trí\n",
    "    + value scale: giá trị đã được tính toán lại\n",
    "    $$\\newline$$\n",
    "- Đối với vị trí thủ môn, ta sẽ xét các thuộc tính:\n",
    "    + Average punches\n",
    "    + Average catches\n",
    "    + Average high claims\n",
    "    + Average sweeper clearance $$\\newline$$\n",
    "Ta sẽ đưa nó về một thang điểm 10 với mỗi chỉ số sẽ chiếm 2.5 điểm và được tính bởi công thức:\n",
    "    $$value \\ scale = \\frac{value}{max} \\times 2.5$$\n",
    "    Trong đó:\n",
    "    + value: giá trị của thuộc tính đang xét của cầu thủ       \n",
    "    + max: giá trị lớn nhất của thuộc tính trong số các cầu thủ cùng vị trí\n",
    "    + value scale: giá trị đã được tính toán lại\n",
    "    $$\\newline$$\n",
    "Sau khi đã tính toán ra được \"điểm số xu hướng chơi bóng\" ta phân lớp như sau: \\\n",
    "Bị động: $$value \\leq 4 $$\n",
    "Trung lập: $$4 \\le value \\leq 7$$\n",
    "Chủ động: $$ value > 7 $$   "
   ]
  },
  {
   "cell_type": "code",
   "execution_count": 12,
   "metadata": {},
   "outputs": [],
   "source": [
    "#CODE HERE"
   ]
  },
  {
   "attachments": {},
   "cell_type": "markdown",
   "metadata": {},
   "source": [
    "CÂU HỎI THỨ HAI\n",
    "$$\\newline$$\n",
    "Dựa vào số lượng lỗi, thẻ vàng và thẻ đỏ trung bình của cầu thủ trong một trận đấu, ta có thể biết liệu cầu thủ đó có đang mắc nhiều lỗi hơn mức trung bình hay không. Việc này có thể giúp chấn chỉnh lại hành vi thi đấu của cầu thủ, tránh những bất lợi không đáng có cho đội bóng trong trận đấu.\n",
    "$$\\newline$$\n",
    "Ta sẽ xét các thuộc tính:\n",
    "+ Average red cards\n",
    "+ Average yellow cards\n",
    "+ Average fouls\n",
    "\n",
    "Ta sẽ đưa nó về một thang điểm 10 với mỗi chỉ số sẽ chiếm tỉ lệ điểm khác nhau (6 cho average red cards; 3 cho average yellow cards, 1 cho average fouls):\n",
    "    $$value \\ scale = \\frac{value}{max} \\times portion$$\n",
    "    Trong đó:\n",
    "- value: giá trị của thuộc tính đang xét của cầu thủ       \n",
    "- max: giá trị lớn nhất của thuộc tính trong số các cầu thủ cùng vị trí\n",
    "- portion: tỉ lệ điểm của giá trị tương ứng (tỉ lệ càng cao thì thuộc tính đó càng có giá trị để trả lời câu hỏi)\n",
    "- value scale: giá trị đã được tính toán lại\n",
    "$$\\newline$$\n",
    "Sau khi tính toán, nếu cầu thủ nào có chỉ số \"điểm phạm lỗi\" lớn hơn 5 thì đang thực hiện nhiều lỗi hơn mức cần thiết.\n"
   ]
  },
  {
   "cell_type": "code",
   "execution_count": 13,
   "metadata": {},
   "outputs": [],
   "source": [
    "#CODE HERE"
   ]
  },
  {
   "attachments": {},
   "cell_type": "markdown",
   "metadata": {},
   "source": [
    "CÂU HỎI THỨ BA\n",
    "$$\\newline$$\n",
    "Đối với vị trí tiền đạo, có ý kiến cho rằng cầu thủ ghi càng nhiều bàn thắng thì họ họ sẽ có xu hướng chơi bóng cá nhân hơn. Bằng việc so sánh độ tương quan giữa cột giá trị average goals với 2 cột giá trị average passes và average assists, ta sẽ biết được liệu ý kiến ở trên là đúng hay sai."
   ]
  },
  {
   "cell_type": "code",
   "execution_count": 14,
   "metadata": {},
   "outputs": [],
   "source": [
    "#CODE HERE"
   ]
  },
  {
   "attachments": {},
   "cell_type": "markdown",
   "metadata": {},
   "source": [
    "CÂU HỎI THỨ TƯ\n",
    "$$\\newline$$\n",
    "Đối với vị trí tiền đạo, có ý kiến cho rằng cầu thủ ghi càng nhiều bàn thắng thì họ họ sẽ có xu hướng chơi bóng cá nhân hơn. Bằng việc so sánh độ tương quan giữa cột giá trị average big chances missed với 2 cột giá trị average passes và average assists, ta sẽ biết được liệu ý kiến ở trên là đúng hay sai."
   ]
  },
  {
   "cell_type": "code",
   "execution_count": 15,
   "metadata": {},
   "outputs": [],
   "source": [
    "#CODE HERE"
   ]
  },
  {
   "attachments": {},
   "cell_type": "markdown",
   "metadata": {},
   "source": [
    "CÂU HỎI THỨ NĂM\n",
    "$$\\newline$$\n",
    "Đối với vị trí tiền đạo, có ý kiến cho rằng cầu thủ càng bỏ lỡ nhiều cơ hội ghi bàn thì họ họ sẽ có xu hướng chơi bóng đồng đội, kiến tạo nhiều hơn. Bằng việc so sánh độ tương quan giữa cột giá trị average big chances missed với 2 cột giá trị average passes và average assists, ta sẽ biết được liệu ý kiến ở trên là đúng hay sai."
   ]
  },
  {
   "cell_type": "code",
   "execution_count": 16,
   "metadata": {},
   "outputs": [],
   "source": [
    "#CODE HERE"
   ]
  },
  {
   "attachments": {},
   "cell_type": "markdown",
   "metadata": {},
   "source": [
    "CÂU HỎI THỨ SÁU\n",
    "$$\\newline$$\n",
    "Đối với vị trí hậu vệ, có ý kiến cho rằng cầu thủ càng bị thủng lưới nhiều sẽ có xu hướng chơi bóng chủ động hơn. Bằng việc so sánh độ tương quan giữa cột giá trị average goals conceded với cột giá trị \"điểm số xu hướng chơi bóng\", ta sẽ biết được liệu ý kiến ở trên là đúng hay sai. Việc này sẽ giúp công tác chuẩn bị tâm lí thi đấu với các cầu thủ sẽ được cải thiện."
   ]
  },
  {
   "cell_type": "code",
   "execution_count": 17,
   "metadata": {},
   "outputs": [],
   "source": [
    "#CODE HERE"
   ]
  },
  {
   "attachments": {},
   "cell_type": "markdown",
   "metadata": {},
   "source": [
    "CÂU HỎI THỨ BẢY\n",
    "$$\\newline$$\n",
    "Đối với vị trí hậu vệ, có ý kiến cho rằng các cầu thủ nên giảm thiểu số lượng chuyền bóng để ít mắc lỗi hơn dẫn đến bàn thắng cho đối phương hơn. Bằng việc so sánh độ tương quan giữa cột giá trị average passes với cột giá trị average errors leading to goal, ta sẽ biết được liệu ý kiến ở trên là đúng hay sai. Việc này sẽ giúp điều chỉnh lối đá của cầu thủ nhắm tăng khả năng phòng thủ của đội bóng."
   ]
  },
  {
   "cell_type": "code",
   "execution_count": 18,
   "metadata": {},
   "outputs": [],
   "source": [
    "#CODE HERE"
   ]
  },
  {
   "attachments": {},
   "cell_type": "markdown",
   "metadata": {},
   "source": [
    "CÂU HỎI THỨ TÁM\n",
    "$$\\newline$$\n",
    "Đối với vị trí tiền vệ, hầu hết chúng ta có thể nghĩ tới việc cầu thủ ra sân càng nhiều thì sẽ có nhiều kinh nghiệm và chất lượng chơi bóng của cầu thủ đó sẽ tốt hơn. Bằng việc so sánh độ tương quan giữa cột giá trị appearance với 2 cột giá trị crosses accuracy và through ball accuracy, ta sẽ xác minh được quan điểm trên. Đồng thời điều này sẽ có lợi với việc quyết định giữ lại các cầu thủ gạo cội hay ưu tiên bồi dưỡng các lứa cầu thủ trẻ hơn."
   ]
  },
  {
   "cell_type": "code",
   "execution_count": 19,
   "metadata": {},
   "outputs": [],
   "source": [
    "#CODE HERE"
   ]
  },
  {
   "attachments": {},
   "cell_type": "markdown",
   "metadata": {},
   "source": [
    "CÂU HỎI THỨ CHÍN\n",
    "$$\\newline$$\n",
    "Đối với vị trí tiền vệ, có ý kiến cho rằng việc những đường chuyền vượt tuyến(through ball) của các tiền vệ là những tình huống tạo ra độ nguy hiểm cao đối với đối phương. Bằng việc so sánh độ tương quan giữa cột giá trị average through balls với cột giá trị average big chances created, ta sẽ biết liệu ý kiến trên là đúng hay sai. Đồng thời điều này sẽ giúp cho các đội bóng có cách đối phó với lối chơi của từng cầu thủ tiền vệ."
   ]
  },
  {
   "cell_type": "code",
   "execution_count": 20,
   "metadata": {},
   "outputs": [],
   "source": [
    "#CODE HERE"
   ]
  }
 ],
 "metadata": {
  "kernelspec": {
   "display_name": "Python 3",
   "language": "python",
   "name": "python3"
  },
  "language_info": {
   "codemirror_mode": {
    "name": "ipython",
    "version": 3
   },
   "file_extension": ".py",
   "mimetype": "text/x-python",
   "name": "python",
   "nbconvert_exporter": "python",
   "pygments_lexer": "ipython3",
   "version": "3.10.2 (tags/v3.10.2:a58ebcc, Jan 17 2022, 14:12:15) [MSC v.1929 64 bit (AMD64)]"
  },
  "orig_nbformat": 4,
  "vscode": {
   "interpreter": {
    "hash": "31671a60cee805c34c73116577b485118ff3a75c458d3004d49632c19702ac60"
   }
  }
 },
 "nbformat": 4,
 "nbformat_minor": 2
}

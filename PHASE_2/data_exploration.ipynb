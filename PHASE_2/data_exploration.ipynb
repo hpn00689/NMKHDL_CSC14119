{
 "cells": [
  {
   "attachments": {},
   "cell_type": "markdown",
   "metadata": {},
   "source": [
    "# <p style=\"text-align:center\"> **GIAI ĐOẠN 2: TIỀN XỬ LÝ DỮ LIỆU** </p>\n",
    "---\n",
    "- **Về công cụ**: Sử dụng numpy và pandas để tiền xử lý dữ liệu. \n",
    "- Bước này dùng để tiền xử lý và khám phá dữ liệu.\n",
    "---"
   ]
  },
  {
   "attachments": {},
   "cell_type": "markdown",
   "metadata": {},
   "source": [
    "### <p style=\"text-align:center\"> **I. IMPORT THƯ VIỆN CẦN THIẾT** </p>"
   ]
  },
  {
   "cell_type": "code",
   "execution_count": null,
   "metadata": {},
   "outputs": [],
   "source": [
    "# Import thư viện cần thiết để tiền xử lý dữ liệu\n",
    "import pandas as pd\n",
    "import numpy as np \n",
    "\n",
    "# Import thư viện để trực quan những kết quả tìm hiểu được:\n",
    "import matplotlib.pyplot as plt"
   ]
  },
  {
   "attachments": {},
   "cell_type": "markdown",
   "metadata": {},
   "source": [
    "### <p style=\"text-align:center\"> **II. DATA EXPLORATIONS AND PREPROCESSING** </p>\n",
    "#### <p style=\"text-align:center\"> **0. Cái nhìn sơ lược về bộ dữ liệu** </p>\n",
    "- Bộ dữ liệu được chia làm 4 phần, tương ứng với mỗi phần là vị trí của cầu thủ trong một đội bóng. 4 vị trí lần lượt là defender (hậu vệ), forward (tiền đạo), keeper (thủ môn), midfielder (tiền vệ). "
   ]
  },
  {
   "cell_type": "code",
   "execution_count": null,
   "metadata": {},
   "outputs": [],
   "source": [
    "# Đọc hết dữ liệu trong CSV về các biến tương ứng\n",
    "dfKeeper = pd.read_csv('../DATA/keeper_data.csv')\n",
    "dfForward = pd.read_csv('../DATA/forward_data.csv')\n",
    "dfDefender = pd.read_csv('../DATA/defender_data.csv')\n",
    "dfMidfielder = pd.read_csv('../DATA/midfielder_data.csv')"
   ]
  },
  {
   "attachments": {},
   "cell_type": "markdown",
   "metadata": {},
   "source": [
    "- Để có cái nhìn sơ lược về dữ liệu, nhóm em in ra 5 dòng đầu tiên và các đặc điểm chính của mỗi bộ dữ liệu."
   ]
  },
  {
   "cell_type": "code",
   "execution_count": null,
   "metadata": {},
   "outputs": [],
   "source": [
    "dfKeeper.head() "
   ]
  },
  {
   "cell_type": "code",
   "execution_count": null,
   "metadata": {},
   "outputs": [],
   "source": [
    "dfForward.head()"
   ]
  },
  {
   "cell_type": "code",
   "execution_count": null,
   "metadata": {},
   "outputs": [],
   "source": [
    "dfDefender.head()"
   ]
  },
  {
   "cell_type": "code",
   "execution_count": null,
   "metadata": {},
   "outputs": [],
   "source": [
    "dfMidfielder.head()"
   ]
  },
  {
   "attachments": {},
   "cell_type": "markdown",
   "metadata": {},
   "source": [
    "#### <p style=\"text-align:center\"> **1. Số hàng và cột trong bộ dữ liệu** </p>\n",
    "- Mỗi vị trí khác nhau sẽ có các thuộc tính dữ liệu khác nhau. Như vậy, mỗi bộ dữ liệu sẽ có các thông tin và đặc điểm riêng của nó.\n",
    "- Bước đầu tiên, nhóm em đọc file dữ liệu đưa vào các DataFrame để xử lý:"
   ]
  },
  {
   "cell_type": "code",
   "execution_count": null,
   "metadata": {},
   "outputs": [],
   "source": [
    "# Midfielder\n",
    "print(\"Số hàng (số cầu thủ) của tiền vệ: \", dfMidfielder.shape[0])\n",
    "print(\"Số cột (số thuộc tính) của tiền vệ: \", dfMidfielder.shape[1])"
   ]
  },
  {
   "cell_type": "code",
   "execution_count": null,
   "metadata": {},
   "outputs": [],
   "source": [
    "# Defender\n",
    "print(\"Số hàng (số cầu thủ) của hậu vệ: \", dfDefender.shape[0])\n",
    "print(\"Số cột (số thuộc tính) của hậu vệ: \", dfDefender.shape[1])"
   ]
  },
  {
   "cell_type": "code",
   "execution_count": null,
   "metadata": {},
   "outputs": [],
   "source": [
    "# Keeper\n",
    "print(\"Số hàng (số cầu thủ) của thủ môn: \", dfKeeper.shape[0])\n",
    "print(\"Số cột (số thuộc tính) của thủ môn: \", dfKeeper.shape[1])"
   ]
  },
  {
   "cell_type": "code",
   "execution_count": null,
   "metadata": {},
   "outputs": [],
   "source": [
    "# Forward\n",
    "print(\"Số hàng (số cầu thủ) của tiền đạo: \", dfForward.shape[0])\n",
    "print(\"Số cột (số thuộc tính) của tiền đạo: \", dfForward.shape[1])"
   ]
  },
  {
   "attachments": {},
   "cell_type": "markdown",
   "metadata": {},
   "source": [
    "#### <p style=\"text-align:center\"> **2. Ý nghĩa mỗi cột và mỗi hàng** <p>\n",
    "- Mỗi hàng trong bộ dữ liệu chỉ ra các chỉ số của cầu thủ trong tổng số các giải đấu ngoại hạng Anh mà họ đã tham gia trước đó, được trang chủ chính thức của Premier League tổng hợp. Có một số hàng bất thường chỉ chứa toàn giá trị là số 0, tức là cầu thủ đó chưa ra sân hoặc nằm ở vị trí dự bị.\n",
    "- Mỗi cột ở mỗi bộ sẽ tương ứng với thuộc tính của cầu thủ trong bộ dữ liệu đó. Tất cả bộ dữ liệu có một vài thuộc tính giống nhau nhưng nhìn chung không nhiều, dưới đây là các thuộc tính đó:\n",
    "  - **Player name**: Tên cầu thủ.\n",
    "  - **Appearances**: Số lần ra sân của cầu thủ.\n",
    "  - **Goals Overview**: Tổng số bàn thắng của các cầu thủ.\n",
    "  - **Wins**: Tổng số trận thắng của cầu thủ.\n",
    "  - **Losses**: Tổng số trận thua của cầu thủ.\n",
    "  - **Yellow cards**: Tổng số thẻ vàng của cầu thủ.\n",
    "  - **Red cards**: Tổng số thẻ đỏ của cầu thủ.\n",
    "  - **Assists**: Tổng số đường kiến tạo.\n",
    "  - **Passes**: Tổng số đường chuyền.\n",
    "  - **Passes per match**: Số đường chuyền trung bình mỗi trận. \n",
    "- Ngoài ra, các bộ còn có đặc trưng riêng của mình, lần lượt được thể hiện trong các tác vụ khám phá dữ liệu sau đây:"
   ]
  },
  {
   "attachments": {},
   "cell_type": "markdown",
   "metadata": {},
   "source": [
    "---\n",
    "**TIỀN XỬ LÝ DỮ LIỆU: LỌC BỎ CỘT TRÙNG**\n",
    "- Mặc dù trong bộ dữ liệu theo quan sát thì không có thuộc tính nào trùng lặp, nhưng để chắc chắn thì nhóm em vẫn thực hiện việc xóa hết các cột trùng với nhau và in ra số lượng cột sau khi đã lọc trùng đó."
   ]
  },
  {
   "cell_type": "code",
   "execution_count": null,
   "metadata": {},
   "outputs": [],
   "source": [
    "# Khi quan sát bộ dữ liệu, có một vài thuộc tính trùng, nhóm em xóa hết các thuộc tính \n",
    "# trùng đó và in ra số lượng cuối cùng thuộc tính:\n",
    "\n",
    "# Lọc trùng của midfielder\n",
    "temp = dfMidfielder.T.drop_duplicates().T\n",
    "dfMidfielder = temp\n",
    "\n",
    "# Lọc trùng của defender\n",
    "temp = dfDefender.T.drop_duplicates().T\n",
    "dfDefender = temp\n",
    "\n",
    "# Lọc trùng của forward\n",
    "temp = dfForward.T.drop_duplicates().T\n",
    "dfForward = temp\n",
    "\n",
    "# Lọc trùng của keeper\n",
    "temp = dfKeeper.T.drop_duplicates().T\n",
    "dfKeeper = temp"
   ]
  },
  {
   "cell_type": "code",
   "execution_count": null,
   "metadata": {},
   "outputs": [],
   "source": [
    "# Keeper\n",
    "print(\"Số lượng thuộc tính sau khi lọc của thủ môn:\", dfKeeper.columns.size)\n",
    "dfKeeper.columns.to_numpy()"
   ]
  },
  {
   "attachments": {},
   "cell_type": "markdown",
   "metadata": {},
   "source": [
    "- Trong tất cả các mùa giải, thủ môn có các thuộc tính như sau: \n",
    "  - **Clean sheets**: Tổng số trận giữ sạch lưới.\n",
    "  - **Saves**: Tổng số lần cứu thua (cản phá cú sút).\n",
    "  - **Penalties Saved**: Tổng số lần cản phá trên chấm phạt đền.\n",
    "  - **Punches**: Tổng số cú đấm bóng.\n",
    "  - **High Claims**: Tổng số cú bắt bóng từ những đường tạt bóng.\n",
    "  - **Catches**: Tổng số cú bắt dính bóng từ những cú sút.\n",
    "  - **Sweeper Clearances**: Tổng số tình huống cứu thua khi đối đầu trực tiếp với đối phương.\n",
    "  - **Throw Outs**: Tổng số tình huống ném bóng lên.\n",
    "  - **Goal Kicks**: Tổng số tình huống phát bóng lên.\n",
    "  - **Goals Conceded**: Tổng số bàn thua.\n",
    "  - **Errors leading to goal**: Tổng số lỗi dẫn đến bàn thua.\n",
    "  - **Own goals**: Tổng số lần phản lưới nhà.\n",
    "  - **Accurate long balls**: số đường chuyền dài chính xác."
   ]
  },
  {
   "cell_type": "code",
   "execution_count": null,
   "metadata": {},
   "outputs": [],
   "source": [
    "# Defender\n",
    "print(\"Số lượng thuộc tính sau khi lọc của hậu vệ:\", dfDefender.columns.size)\n",
    "dfDefender.columns.to_numpy()"
   ]
  },
  {
   "attachments": {},
   "cell_type": "markdown",
   "metadata": {},
   "source": [
    "- Trong tất cả các mùa giải, hậu vệ có các thuộc tính như sau:   \n",
    "  - **Clean sheets**: Tổng số trận giữ sạch lưới.\n",
    "  - **Goals Conceded**: Tổng số bàn thua.\n",
    "  - **Tackle**: Tổng số lần chủ động đoạt bóng.\n",
    "  - **Tackle success**: Tổng số chủ động đoạt bóng bóng thành công.\n",
    "  - **Last man tackles**: Tổng số lần tranh chấp bóng thành công với cương vị là cầu thủ phòng thủ cuối cùng.\n",
    "  - **Blocked shots**: Tổng số tình huống ngăn cản cú sút của đối thủ.\n",
    "  - **Interceptions**: Tổng số tình huống đánh chặn.\n",
    "  - **Clearances**: Tổng số tình huống phá bóng lên bằng chân.\n",
    "  - **Headed Clearance**: Tổng số tình huống phá bóng lên bằng đầu.\n",
    "  - **Clearances off line**: Tổng số tình huống phá bóng lên ở gần vạch vôi.\n",
    "  - **Recoveries**: Tổng số tình huống chiếm lại quyền kiểm soát bóng.\n",
    "  - **Duels won**: Tổng số tình huống đối đầu thành công.\n",
    "  - **Duels lost**: Tổng số tình huống đối đầu thất bại.\n",
    "  - **Successful 50/50s**: Tổng số tình huống tranh chấp bóng sống thành công.\n",
    "  - **Aerial battles won**: Tổng số tình huống tranh chấp bóng bổng thành công.\n",
    "  - **Aerial battles lost**: Tổng số tình huống tranh chấp bóng bổng thất bại.\n",
    "  - **Own goals**: Tổng số lần phản lưới nhà.\n",
    "  - **Errors leading to goal**: Tổng số lỗi dẫn đến bàn thua.\n",
    "  - **Big chance created**: Tổng số những cơ hội thành bàn được tạo ra.\n",
    "  - **Crosses**: Tổng số đường tạt bóng.\n",
    "  - **Cross accuracy**: Tỉ lệ tạt bóng chính xác.\n",
    "  - **Through balls**: Tổng số đường chọc khe.\n",
    "  - **Accurate long balls**: Tổng số đường chuyển dài chính xác.\n",
    "  - **Offsides**: Tổng số lần rơi vào thế việt vị.\n",
    "  - **Headed goals**: Tổng số bàn thắng bằng đầu.\n",
    "  - **Goals with right foot**: Tổng số bàn thắng bằng chân phải.\n",
    "  - **Goals with left foot**: Tổng số bàn thắng bằng chân trái.\n",
    "  - **Hit woodword**: Tổng số cú sút chạm cột dọc hoặc xà ngang."
   ]
  },
  {
   "cell_type": "code",
   "execution_count": null,
   "metadata": {},
   "outputs": [],
   "source": [
    "# Forward\n",
    "print(\"Số lượng thuộc tính sau khi lọc của tiền đạo:\", dfForward.columns.size)\n",
    "dfForward.columns.to_numpy()"
   ]
  },
  {
   "attachments": {},
   "cell_type": "markdown",
   "metadata": {},
   "source": [
    "- Trong tất cả các mùa giải, tiền đạo có các thuộc tính như sau: \n",
    "  - **Goals per match**: Số bàn thắng trung bình mỗi trận.\n",
    "  - **Headed goals**: Tổng số bàn thắng bằng đầu.\n",
    "  - **Goals with right foot**: Tổng số bàn thắng bằng chân phải.\n",
    "  - **Goals with left foot**: Tổng số bàn thắng bằng chân trái.\n",
    "  - **Penalties scored**: Tổng số bàn thắng ghi từ chấm phạt đền.\n",
    "  - **Freekicks scored**: Tổng số bàn thắng ghi từ tình huống đá phạt trực tiếp.\n",
    "  - **Shots**: Tổng số cú sút.\n",
    "  - **Shots on target**: Tổng số cú sút trúng đích.\n",
    "  - **Shooting accuracy**: Tỉ lệ chính xác của những cú sút.\n",
    "  - **Hit woodwork**: Tổng số cú sút chạm cột dọc hoặc xà ngang.\n",
    "  - **Big chances missed**: Tổng những cơ hội thành bàn bị bỏ lỡ.\n",
    "  - **Big chance created**: Tổng số những cơ hội thành bàn được tạo ra.\n",
    "  - **Crosses**: Tổng số đường tạt bóng.\n",
    "  - **Offsides**: Tổng số lần rơi vào thế việt vị.\n",
    "  - **Tackle**: Tổng số lần chủ động đoạt bóng.\n",
    "  - **Blocked shots**: Tổng số tình huống ngăn cản cú sút của đối thủ.\n",
    "  - **Interceptions**: Tổng số tình huống đánh chặn.\n",
    "  - **Clearances**: Tổng số tình huống phá bóng lên bằng chân.\n",
    "  - **Headed Clearance**: Tổng số tình huống phá bóng lên bằng đầu."
   ]
  },
  {
   "cell_type": "code",
   "execution_count": null,
   "metadata": {},
   "outputs": [],
   "source": [
    "# Midfielder\n",
    "print(\"Số lượng thuộc tính sau khi lọc của tiền vệ:\", dfMidfielder.columns.size)\n",
    "dfMidfielder.columns.to_numpy()"
   ]
  },
  {
   "attachments": {},
   "cell_type": "markdown",
   "metadata": {},
   "source": [
    "- Trong tất cả các mùa giải, tiền vệ có các thuộc tính như sau: \n",
    "  - **Goals per match**: Số bàn thắng trung bình mỗi trận.\n",
    "  - **Headed goals**: Tổng số bàn thắng bằng đầu.\n",
    "  - **Goals with right foot**: Tổng số bàn thắng bằng chân phải.\n",
    "  - **Goals with left foot**: Tổng số bàn thắng bằng chân trái.\n",
    "  - **Penalties scored**: Tổng số bàn thắng ghi từ chấm phạt đền.\n",
    "  - **Freekicks scored**: Tổng số bàn thắng ghi từ tình huống đá phạt trực tiếp.\n",
    "  - **Shots**: Tổng số cú sút.\n",
    "  - **Shots on target**: Tổng số cú sút trúng đích.\n",
    "  - **Shooting accuracy**: Tỉ lệ chính xác của những cú sút.\n",
    "  - **Hit woodwork**: Tổng số cú sút chạm cột dọc hoặc xà ngang.\n",
    "  - **Big chances missed**: Tổng những cơ hội thành bàn bị bỏ lỡ.\n",
    "  - **Crosses**: Tổng số đường tạt bóng.\n",
    "  - **Cross accuracy**: Tỉ lệ tạt bóng chính xác.\n",
    "  - **Through balls**: Tổng số đường chọc khe.\n",
    "  - **Accurate long balls**: Tổng số đường chuyển dài chính xác.\n",
    "  - **Offsides**: Tổng số lần rơi vào thế việt vị.\n",
    "  - **Tackle**: Tổng số lần chủ động đoạt bóng.\n",
    "  - **Blocked shots**: Tổng số tình huống ngăn cản cú sút của đối thủ.\n",
    "  - **Interceptions**: Tổng số tình huống đánh chặn.\n",
    "  - **Clearances**: Tổng số tình huống phá bóng lên bằng chân.\n",
    "  - **Headed Clearance**: Tổng số tình huống phá bóng lên bằng đầu.\n",
    "  - **Recoveries**: Tổng số tình huống chiếm lại quyền kiểm soát bóng.\n",
    "  - **Duels won**: Tổng số tình huống đối đầu thành công.\n",
    "  - **Duels lost**: Tổng số tình huống đối đầu thất bại.\n",
    "  - **Successful 50/50s**: Tổng số tình huống tranh chấp bóng sống thành công.\n",
    "  - **Aerial battles won**: Tổng số tình huống tranh chấp bóng bổng thành công.\n",
    "  - **Aerial battles lost**: Tổng số tình huống tranh chấp bóng bổng thất bại.\n",
    "  - **Own goals**: Tổng số lần phản lưới nhà.\n",
    "  - **Errors leading to goal**: Tổng số lỗi dẫn đến bàn thua."
   ]
  },
  {
   "attachments": {},
   "cell_type": "markdown",
   "metadata": {},
   "source": [
    "#### <p style=\"text-align:center\"> **3. Suy diễn thuộc tính** </p>\n",
    "\n",
    "- Vị trí cầu thủ nào cũng có thuộc tính suy diễn (có thể tính toán, suy ra từ các thuộc tính khác), nhóm em xóa các thuộc tính đó để có bộ dữ liệu đạt chuẩn hơn.\n",
    "  - Thuộc tính suy diễn của thủ môn: $$Passes \\ per \\ match = \\frac{Passes}{Appearances}$$\n",
    "  - Thuộc tính suy diễn của hậu vệ: $$Passes \\ per \\ match = \\frac{Passes}{Appearances}$$\n",
    "  - Thuộc tính suy diễn của tiền vệ: $$Goals \\ per \\ match = \\frac{Goals}{Appearances}$$ \n",
    "  $$Passes \\ per \\ match = \\frac{Passes}{Appearances}$$\n",
    "  $$Shooting \\ Accuracy = \\frac{Shots \\ on \\ target}{Shots}$$\n",
    "  - Thuộc tính suy diễn của tiền đạo: $$Goals \\ per \\ match = \\frac{Goals}{Appearances}$$\n",
    "  $$Passes \\ per \\ match = \\frac{Passes}{Appearances}$$\n",
    "  $$Shooting \\ Accuracy = \\frac{Shots \\ on \\ target}{Shots}$$\n",
    "\n",
    "---\n",
    "**TIỀN XỬ LÝ DỮ LIỆU: BỎ THUỘC TÍNH SUY DIỄN, THUỘC TÍNH KHÔNG CẦN THIẾT:**"
   ]
  },
  {
   "cell_type": "code",
   "execution_count": null,
   "metadata": {},
   "outputs": [],
   "source": [
    "dfKeeper.drop('Passes per match', axis = 1, inplace = True)\n",
    "\n",
    "dfDefender.drop('Passes per match', axis = 1, inplace = True)\n",
    "\n",
    "dfMidfielder.drop('Goals per match', axis = 1, inplace = True)\n",
    "dfMidfielder.drop('Passes per match', axis = 1, inplace = True)\n",
    "dfMidfielder.drop('Shooting accuracy', axis = 1, inplace = True)\n",
    "\n",
    "dfForward.drop('Shooting accuracy', axis = 1, inplace = True)\n",
    "dfForward.drop('Passes per match', axis = 1, inplace = True)\n",
    "dfForward.drop('Goals per match', axis = 1, inplace = True)"
   ]
  },
  {
   "attachments": {},
   "cell_type": "markdown",
   "metadata": {},
   "source": [
    "#### <p style=\"text-align:center\"> **4. Sự trùng lắp dữ liệu các hàng** </p>\n",
    "- Bộ dữ liệu được lấy từ 5 mùa giải gần nhất để xây dựng ứng dụng nên sẽ có một số cầu thủ bị trùng lắp. Mặc dù với các năm thì bộ thống kê của cầu thủ đó sẽ khác nhưng website luôn cập nhật các cầu thủ đó về một năm mới nhất khi nhấn vào trang thông tin cá nhân thì chỉ cần kiểm tra tên của họ có trong bộ dữ liệu không là đã được gọi là trùng.\n",
    "- Để lý giải cho việc trùng lắp này là có thể một phần nhỏ là website trong quá trình lưu dữ liệu bị lỗi, còn phần lớn là do các cầu thủ của các năm trước tham gia đá lại vào mùa giải các năm sau."
   ]
  },
  {
   "cell_type": "code",
   "execution_count": null,
   "metadata": {},
   "outputs": [],
   "source": [
    "# Đếm số giá trị trùng.\n",
    "num_duplicate_data_Defender = dfDefender.duplicated().sum()\n",
    "print(\"Số giá trị bị trùng lắp của hậu vệ: \", num_duplicate_data_Defender)\n",
    "\n",
    "num_duplicate_data_Forward = dfForward.duplicated().sum()\n",
    "print(\"Số giá trị bị trùng lắp của tiền đạo: \", num_duplicate_data_Forward)\n",
    "\n",
    "num_duplicate_data_Keeper = dfKeeper.duplicated().sum()\n",
    "print(\"Số giá trị bị trùng lắp của thủ môn: \", num_duplicate_data_Keeper)\n",
    "\n",
    "num_duplicate_data_Midfielder = dfMidfielder.duplicated().sum()\n",
    "print(\"Số giá trị bị trùng lắp của tiền vệ: \", num_duplicate_data_Midfielder)"
   ]
  },
  {
   "attachments": {},
   "cell_type": "markdown",
   "metadata": {},
   "source": [
    "---\n",
    "**TIỀN XỬ LÝ DỮ LIỆU: XÓA CÁC HÀNG TRÙNG:**"
   ]
  },
  {
   "cell_type": "code",
   "execution_count": null,
   "metadata": {},
   "outputs": [],
   "source": [
    "# Xóa các hàng trùng\n",
    "dfDefender.drop_duplicates(inplace = True)\n",
    "print(\"Số hậu vệ sau khi lọc trùng: \", dfDefender.shape[0])\n",
    "\n",
    "dfMidfielder.drop_duplicates(inplace = True)\n",
    "print(\"Số tiền vệ sau khi lọc trùng: \", dfMidfielder.shape[0])\n",
    "\n",
    "dfForward.drop_duplicates(inplace = True)\n",
    "print(\"Số tiền đạo sau khi lọc trùng: \", dfForward.shape[0])\n",
    "\n",
    "dfKeeper.drop_duplicates(inplace = True)\n",
    "print(\"Số thủ môn sau khi lọc trùng: \", dfKeeper.shape[0])"
   ]
  },
  {
   "attachments": {},
   "cell_type": "markdown",
   "metadata": {},
   "source": [
    "#### <p style=\"text-align:center\"> **5. Độ quan trọng của thuộc tính.** </p>\n",
    "- Như vậy, sau khi đã phân tích rõ ý nghĩa các bộ dữ liệu, nhóm em sẽ bắt đầu thực hiện lọc bỏ các thuộc tính không cần thiết để cho các tác vụ sau được nhanh chóng và gọn hơn.\n",
    "- Để thực hiện xây dựng mô hình, nhóm em giữ lại các thuộc tính chung của 3 vị trí: Tiền vệ, tiền đạo, hậu vệ, còn thủ môn về tính chất của nó rất khác với các vị trí trên nên không được đưa vào xây dựng mô hình. \n",
    "  - Các **thuộc tính chung** đó gồm có: *Player name, Appearances, Goals Overview, Wins, Losses, Headed goals, Goals with right foot, Goals with left foot, Hit woodwork, Assists, Passes, Crosses, Yellow cards, Red cards, Fouls, Offsides, Tackles, Blocked shots, Interceptions, Clearances.*\n",
    "- Về các thuộc tính riêng trên mỗi bộ, vì đã xác định được câu hỏi cần trả lời và biết cách thực hiện cài đặt đoạn code đó như thế nào nên ở các vị trí, thực hiện loại bỏ các thuộc tính không cần thiết sau đây:\n",
    "  - **Tiền đạo** bỏ: *Penalty scored, Freekick scored*.\n",
    "  - **Tiền vệ** bỏ: *Penalty scored, Freekick scored, Big chance missed, Tackle success, Head clearance, Recoveries, Duels lost, Duels won, Successful 50/50s, Aerial battles win, Aerial battles lost, Errors leading to goal*.\n",
    "  - **Hậu vệ** bỏ: *Tackle success, Last man tackle, Recoveries, Duels lost, Duels won, Successful 50/50s, Aerial battles win, Aerial battles lost, Own goals, Cross accuracy, Accurate through balls.*\n",
    "  - **Thủ môn** bỏ: *Clean sheets, Saves, Penalties saved, Throw outs, Goal kicks, Goals conceded, Errors leading to goal, Own goals, Assists, Passes, Accurate long balls*."
   ]
  },
  {
   "attachments": {},
   "cell_type": "markdown",
   "metadata": {},
   "source": [
    "---\n",
    "**TIỀN XỬ LÝ DỮ LIỆU: XÓA CÁC THUỘC TÍNH KHÔNG CẦN THIẾT:**\n",
    "\n",
    "Sử dụng hàm `drop` của pandas để xóa các thuộc tính từ các bộ dữ liệu:"
   ]
  },
  {
   "cell_type": "code",
   "execution_count": null,
   "metadata": {},
   "outputs": [],
   "source": [
    "# Xóa của forward\n",
    "dfForward.drop(\"Penalties scored\", inplace=True, axis=1)\n",
    "dfForward.drop(\"Freekicks scored\", inplace=True, axis=1)\n",
    "\n",
    "# Xóa của midfielder\n",
    "dfMidfielder.drop(\"Penalties scored\", inplace=True, axis=1)\n",
    "dfMidfielder.drop(\"Freekicks scored\", inplace=True, axis=1)\n",
    "dfMidfielder.drop(\"Big chances missed\", inplace=True, axis=1)\n",
    "dfMidfielder.drop(\"Tackle success\", inplace=True, axis=1)\n",
    "dfMidfielder.drop(\"Headed clearances\", inplace=True, axis=1)\n",
    "dfMidfielder.drop(\"Recoveries\", inplace=True, axis=1)\n",
    "dfMidfielder.drop(\"Duels lost\", inplace=True, axis=1)\n",
    "dfMidfielder.drop(\"Duels won\", inplace=True, axis=1)\n",
    "dfMidfielder.drop(\"Succesful 50/50s\", inplace=True, axis=1)\n",
    "dfMidfielder.drop(\"Aerial battles won\", inplace=True, axis=1)\n",
    "dfMidfielder.drop(\"Aerial battles lost\", inplace=True, axis=1)\n",
    "dfMidfielder.drop(\"Errors leading to goal\", inplace=True, axis=1)\n",
    "\n",
    "# Xóa của defender\n",
    "dfDefender.drop(\"Tackle success\", inplace=True, axis=1)\n",
    "dfDefender.drop(\"Last man tackles\", inplace=True, axis=1)\n",
    "dfDefender.drop(\"Recoveries\", inplace=True, axis=1)\n",
    "dfDefender.drop(\"Duels lost\", inplace=True,  axis=1)\n",
    "dfDefender.drop(\"Duels won\", inplace=True, axis=1)\n",
    "dfDefender.drop(\"Successful 50/50s\", inplace=True, axis=1)\n",
    "dfDefender.drop(\"Aerial battles won\", inplace=True, axis=1)\n",
    "dfDefender.drop(\"Aerial battles lost\", inplace=True, axis=1)\n",
    "dfDefender.drop(\"Own goals\", inplace=True, axis=1)\n",
    "dfDefender.drop(\"Cross accuracy\", inplace=True, axis=1)\n",
    "dfDefender.drop(\"Accurate long balls\", inplace=True, axis=1)\n",
    "\n",
    "# Xóa của keeper\n",
    "dfKeeper.drop(\"Clean sheets\", inplace=True, axis=1)\n",
    "dfKeeper.drop(\"Saves\", inplace=True, axis=1)\n",
    "dfKeeper.drop(\"Penalties saved\", inplace=True, axis=1)\n",
    "dfKeeper.drop(\"Throw outs\", inplace=True, axis=1)\n",
    "dfKeeper.drop(\"Goal kicks\", inplace=True, axis=1)\n",
    "dfKeeper.drop(\"Goals conceded\", inplace=True, axis=1)\n",
    "dfKeeper.drop(\"Errors leading to goal\", inplace=True, axis=1)\n",
    "dfKeeper.drop(\"Own goals\", inplace=True, axis=1)\n",
    "dfKeeper.drop(\"Assists\", inplace=True, axis=1)\n",
    "dfKeeper.drop(\"Passes\", inplace=True, axis=1)\n",
    "dfKeeper.drop(\"Accurate long balls\", inplace=True, axis=1)"
   ]
  },
  {
   "attachments": {},
   "cell_type": "markdown",
   "metadata": {},
   "source": [
    "#### <p style=\"text-align:center\"> **6. Kiểu dữ liệu của mỗi cột là gì?** </p>\n",
    "- Đầu tiên, khi nhìn vào bộ dữ liệu của mỗi vị trí còn có một số thuộc tính bị dính tới ký tự đặc biệt là %. Việc có ký tự này sẽ làm cho cả thuộc tính đó sẽ là `string`, không phải là thuộc tính số nên cần giải quyết trường hợp này để sẵn sàng cho bước chuyển kiểu dữ liệu tiếp theo:\n",
    "---\n",
    "**TIỀN XỬ LÝ DỮ LIỆU: XÓA KÝ TỰ ĐẶC BIỆT CỦA CÁC CỘT CẦN XÉT:**\n",
    "- Sử dụng `replace` của `string` để thay thế ký tự % và gán lại cột đã xử lý. Khi gán xong thì ép nó về kiểu numeric, cụ thể là kiểu `float`."
   ]
  },
  {
   "cell_type": "code",
   "execution_count": null,
   "metadata": {},
   "outputs": [],
   "source": [
    "dfMidfielder['Cross accuracy'] = dfMidfielder['Cross accuracy'].str.replace(\"%\",\"\")\n",
    "\n",
    "# Có một cầu thủ ngoại lệ là Pierre Ekwah, do web bị lỗi thuộc tính nên \n",
    "# Goals with right foot sẽ bị đổi với cột Shooting accuracy, nhóm xóa tên cầu thủ này:\n",
    "dfMidfielder.drop(dfMidfielder[dfMidfielder['Player name'] == 'Pierre Ekwah'].index, inplace=True)\n",
    "\n",
    "dfMidfielder['Cross accuracy'] = pd.to_numeric(dfMidfielder['Cross accuracy'], downcast='float')"
   ]
  },
  {
   "attachments": {},
   "cell_type": "markdown",
   "metadata": {},
   "source": [
    "---"
   ]
  },
  {
   "attachments": {},
   "cell_type": "markdown",
   "metadata": {},
   "source": [
    "- Việc chuyển kiểu dữ liệu với mục đích sử dụng các hàm tính toán được dễ dàng hơn.\n",
    "- Đầu tiên, nhóm tiến hành kiểm tra trên toàn tập các bộ dữ liệu:"
   ]
  },
  {
   "cell_type": "code",
   "execution_count": null,
   "metadata": {},
   "outputs": [],
   "source": [
    "# Kiểu dữ liệu của từng cột trong forward:\n",
    "Forward_types = dfForward.dtypes\n",
    "Forward_types"
   ]
  },
  {
   "cell_type": "code",
   "execution_count": null,
   "metadata": {},
   "outputs": [],
   "source": [
    "# Kiểu dữ liệu của từng cột trong defender:\n",
    "Defender_types = dfDefender.dtypes\n",
    "Defender_types"
   ]
  },
  {
   "cell_type": "code",
   "execution_count": null,
   "metadata": {},
   "outputs": [],
   "source": [
    "# Kiểu dữ liệu của từng cột trong keeper:\n",
    "Keeper_types = dfKeeper.dtypes\n",
    "Keeper_types\n"
   ]
  },
  {
   "cell_type": "code",
   "execution_count": null,
   "metadata": {},
   "outputs": [],
   "source": [
    "# Kiểu dữ liệu của từng cột trong midfielder\n",
    "MidFielder_types = dfMidfielder.dtypes\n",
    "MidFielder_types "
   ]
  },
  {
   "attachments": {},
   "cell_type": "markdown",
   "metadata": {},
   "source": [
    "- Qua những đoạn code xuất các kiểu dữ liệu của thuộc tính, nhóm em nhận thấy rằng toàn bộ kiểu dữ liệu điều là object (trừ cột ở midfielder đã xử lý trước đó). Như vậy, nhóm sẽ tiến hành bước tiền xử lý chuyển kiểu dữ liệu.\n",
    "\n",
    "---\n",
    "**TIỀN XỬ LÝ DỮ LIỆU: CHUYỂN KIỂU DỮ LIỆU VỀ ĐÚNG DẠNG MONG MUỐN:**"
   ]
  },
  {
   "attachments": {},
   "cell_type": "markdown",
   "metadata": {},
   "source": [
    "- Trước khi tiến hành tiền xử lý, sử dụng hàm `open_object_dtype(s)` để lấy ra kiểu dữ liệu thực sự mà một cột đang chứa:"
   ]
  },
  {
   "cell_type": "code",
   "execution_count": null,
   "metadata": {},
   "outputs": [],
   "source": [
    "# Sử dụng hàm aply để lấy kiểu dữ liệu thực sự:\n",
    "def open_object_dtype(s):\n",
    "    dtypes = set()\n",
    "    \n",
    "    func = lambda e: dtypes.add(type(e))\n",
    "    s.apply(func)\n",
    "    \n",
    "    return dtypes"
   ]
  },
  {
   "attachments": {},
   "cell_type": "markdown",
   "metadata": {},
   "source": [
    "- Bắt đầu với bộ dữ liệu midfielder:"
   ]
  },
  {
   "cell_type": "code",
   "execution_count": null,
   "metadata": {},
   "outputs": [],
   "source": [
    "midfielder_column = dfMidfielder.columns.to_list() \n",
    "for col in midfielder_column:\n",
    "    print(col, \":\", open_object_dtype(dfMidfielder[col]))"
   ]
  },
  {
   "attachments": {},
   "cell_type": "markdown",
   "metadata": {},
   "source": [
    "Điểm bất thường của kiểu dữ liệu: Các thuộc tính như là `Goals with right foot`, `Passes`, `Crosses`, `Accurate long balls` (bị dính dấu %), `Offsides` điều là giá trị số nhưng lại để là dạng `string`. Để giải thích cho trường hợp này thì ở trang web lấy dữ liệu thì các thuộc tính đó bị dính dấu ',' (do web đó quy định khi dữ liệu lớn hơn hàng 1000). "
   ]
  },
  {
   "cell_type": "code",
   "execution_count": null,
   "metadata": {},
   "outputs": [],
   "source": [
    "# Xóa bỏ dấu ,\n",
    "dfMidfielder['Passes'] = dfMidfielder['Passes'].str.replace(\",\",\"\")\n",
    "dfMidfielder['Crosses'] = dfMidfielder['Crosses'].str.replace(\",\",\"\")\n",
    "dfMidfielder['Offsides'] = dfMidfielder['Offsides'].str.replace(\",\",\"\")"
   ]
  },
  {
   "attachments": {},
   "cell_type": "markdown",
   "metadata": {},
   "source": [
    "- Bộ dữ liệu keeper:"
   ]
  },
  {
   "cell_type": "code",
   "execution_count": null,
   "metadata": {},
   "outputs": [],
   "source": [
    "keeper_column = dfKeeper.columns.to_list() \n",
    "for col in keeper_column:\n",
    "    print(col, \":\", open_object_dtype(dfKeeper[col]))"
   ]
  },
  {
   "attachments": {},
   "cell_type": "markdown",
   "metadata": {},
   "source": [
    "Không có các kiểu dữ liệu ngoại lệ."
   ]
  },
  {
   "attachments": {},
   "cell_type": "markdown",
   "metadata": {},
   "source": [
    "- Bộ dữ liệu forward:"
   ]
  },
  {
   "cell_type": "code",
   "execution_count": null,
   "metadata": {},
   "outputs": [],
   "source": [
    "forward_column = dfForward.columns.to_list() \n",
    "for col in forward_column:\n",
    "    print(col, \":\", open_object_dtype(dfForward[col]))"
   ]
  },
  {
   "attachments": {},
   "cell_type": "markdown",
   "metadata": {},
   "source": [
    "Điểm bất thường của kiểu dữ liệu: Các thuộc tính như là `Shots`, `Passes`, `Crosses` điều là giá trị số nhưng lại để là dạng `string`. Để giải thích cho trường hợp này thì ở trang web lấy dữ liệu thì các thuộc tính đó bị dính dấu ',' (do web đó quy định). "
   ]
  },
  {
   "cell_type": "code",
   "execution_count": null,
   "metadata": {},
   "outputs": [],
   "source": [
    "# Xóa bỏ dấu , trong bộ dữ liệu \n",
    "dfForward['Passes'] = dfForward['Passes'].str.replace(\",\",\"\")\n",
    "dfForward['Crosses'] = dfForward['Crosses'].str.replace(\",\",\"\")\n",
    "dfForward['Shots'] = dfForward['Shots'].str.replace(\",\",\"\")"
   ]
  },
  {
   "attachments": {},
   "cell_type": "markdown",
   "metadata": {},
   "source": [
    "- Bộ dữ liệu defender:"
   ]
  },
  {
   "cell_type": "code",
   "execution_count": null,
   "metadata": {},
   "outputs": [],
   "source": [
    "defender_column = dfDefender.columns.to_list() \n",
    "for col in defender_column:\n",
    "    print(col, \":\", open_object_dtype(dfDefender[col]))"
   ]
  },
  {
   "attachments": {},
   "cell_type": "markdown",
   "metadata": {},
   "source": [
    "Điểm bất thường của kiểu dữ liệu: Các thuộc tính như là `Clearances`, `Headed clearance`, `Passes`, `Crosses` điều là giá trị số nhưng lại để là dạng `string`. Để giải thích cho trường hợp này thì ở trang web lấy dữ liệu thì các thuộc tính đó bị dính dấu ',' (do web đó quy định khi dữ liệu lớn hơn hàng 1000). "
   ]
  },
  {
   "cell_type": "code",
   "execution_count": null,
   "metadata": {},
   "outputs": [],
   "source": [
    "dfDefender['Clearances'] = dfDefender['Clearances'].str.replace(\",\",\"\")\n",
    "dfDefender['Headed clearance'] = dfDefender['Headed clearance'].str.replace(\",\",\"\")\n",
    "dfDefender['Passes'] = dfDefender['Passes'].str.replace(\",\",\"\")\n",
    "dfDefender['Crosses'] = dfDefender['Crosses'].str.replace(\",\",\"\")"
   ]
  },
  {
   "attachments": {},
   "cell_type": "markdown",
   "metadata": {},
   "source": [
    "- Như vậy, ta chuyển hết tất cả các thuộc tính của từng bộ dữ liệu (trừ thủ môn) về giá trị số (trừ `Player name`). Tiến hành chuyển kiểu dữ liệu của cột bằng cách sử dụng hàm `to_numeric`."
   ]
  },
  {
   "cell_type": "code",
   "execution_count": null,
   "metadata": {},
   "outputs": [],
   "source": [
    "# Bỏ player name từ mảng tên cột của từng bộ dữ liệu\n",
    "\n",
    "# Defender\n",
    "defender_columns = dfDefender.columns.to_list()\n",
    "defender_columns.remove('Player name')\n",
    "\n",
    "for col in defender_columns:\n",
    "    dfDefender[col] = pd.to_numeric(dfDefender[col], errors='coerce')\n",
    "\n",
    "# Forward\n",
    "forward_columns = dfForward.columns.to_list()\n",
    "forward_columns.remove('Player name')\n",
    "\n",
    "for col in forward_columns:\n",
    "    dfForward[col] = pd.to_numeric(dfForward[col], errors='coerce')\n",
    "\n",
    "# Midfielder\n",
    "midfielder_columns = dfMidfielder.columns.to_list()\n",
    "midfielder_columns.remove('Player name')\n",
    "\n",
    "for col in midfielder_columns:\n",
    "    dfMidfielder[col] = pd.to_numeric(dfMidfielder[col], errors='coerce')"
   ]
  },
  {
   "attachments": {},
   "cell_type": "markdown",
   "metadata": {},
   "source": [
    "#### <p style=\"text-align:center\"> **7. Thiếu dữ liệu** </p>\n",
    "- Trong quá trình crawling dữ liệu thì sẽ có rất ít các thuộc tính từ các bộ bị thiếu dữ liệu. Ở mục 7 nhóm em sẽ tìm ra các gía trị đó và xóa hàng bị thiếu dữ liệu đó ra khỏi bộ dữ liệu.\n",
    "- Đầu tiên, nhóm kiểm tra từng bộ dữ liệu có thuộc tính nào bị mất dữ liệu hay không:"
   ]
  },
  {
   "attachments": {},
   "cell_type": "markdown",
   "metadata": {},
   "source": [
    "##### <p style=\"text-align:center\"> **7.1 Xử lý bộ tiền đạo** </p>"
   ]
  },
  {
   "attachments": {},
   "cell_type": "markdown",
   "metadata": {},
   "source": [
    "- Đầu tiên, kiểm tra thuộc tính nào không mang giá trị trong bộ dữ liệu:"
   ]
  },
  {
   "cell_type": "code",
   "execution_count": null,
   "metadata": {},
   "outputs": [],
   "source": [
    "# Kiểm tra trên bộ dữ liệu tiền đạo\n",
    "dfForward.isnull().sum()"
   ]
  },
  {
   "attachments": {},
   "cell_type": "markdown",
   "metadata": {},
   "source": [
    "- Tiền đạo không bị thiếu dữ liệu ở bất kỳ cột nào."
   ]
  },
  {
   "attachments": {},
   "cell_type": "markdown",
   "metadata": {},
   "source": [
    "##### <p style=\"text-align:center\"> **7.2 Xử lý bộ dữ liệu tiền vệ** </p>\n",
    "\n",
    "- Kiểm tra thuộc tính nào không mang giá trị trong bộ dữ liệu:"
   ]
  },
  {
   "cell_type": "code",
   "execution_count": null,
   "metadata": {},
   "outputs": [],
   "source": [
    "# Kiểm tra trên bộ dữ liệu tiền vệ:\n",
    "dfMidfielder.isnull().sum()"
   ]
  },
  {
   "attachments": {},
   "cell_type": "markdown",
   "metadata": {},
   "source": [
    "- Tiền vệ bị thiếu giá trị ở 4 thuộc tính là `Accurate long balls, Blocked shots' Interceptions, Clearances`. Ta drop hết các hàng có thuộc tính bị thiếu đó và xem lại bộ dữ liệu còn bao nhiêu giá trị."
   ]
  },
  {
   "cell_type": "code",
   "execution_count": null,
   "metadata": {},
   "outputs": [],
   "source": [
    "dfMidfielder.dropna(inplace=True)\n",
    "dfMidfielder.info()"
   ]
  },
  {
   "attachments": {},
   "cell_type": "markdown",
   "metadata": {},
   "source": [
    "##### <p style=\"text-align:center\"> **7.3 Xử lý dữ liệu thủ môn** </p>\n",
    "\n",
    "- Kiểm tra thuộc tính nào không mang giá trị trong bộ dữ liệu:"
   ]
  },
  {
   "cell_type": "code",
   "execution_count": null,
   "metadata": {},
   "outputs": [],
   "source": [
    "dfKeeper.isnull().sum()"
   ]
  },
  {
   "attachments": {},
   "cell_type": "markdown",
   "metadata": {},
   "source": [
    "- Như vậy, thủ môn không có cột giá trị nào bị thiếu dữ liệu."
   ]
  },
  {
   "attachments": {},
   "cell_type": "markdown",
   "metadata": {},
   "source": [
    "##### <p style=\"text-align:center\"> **7.4 Xử lý dữ liệu hậu vệ** </p>\n",
    "- Kiểm tra thuộc tính nào không mang giá trị trong bộ dữ liệu:"
   ]
  },
  {
   "cell_type": "code",
   "execution_count": null,
   "metadata": {},
   "outputs": [],
   "source": [
    "dfDefender.isnull().sum()"
   ]
  },
  {
   "attachments": {},
   "cell_type": "markdown",
   "metadata": {},
   "source": [
    "- Như vậy, hậu vệ không có cột giá trị nào bị thiếu dữ liệu."
   ]
  },
  {
   "attachments": {},
   "cell_type": "markdown",
   "metadata": {},
   "source": [
    "##### <p style=\"text-align:center\"> **8. Phân loại thuộc tính và phân bổ của thuộc tính trong dữ liệu** </p>\n",
    "\n",
    "- Các dữ liệu được đo đạc từ thực tế, nhất là với chủ đề về bóng đá thì hầu như rất ít thuộc tính phân loại. Vì bộ dữ liệu này liên quan đến tất cả các chỉ số của cầu thủ trong sự nghiệp thi đấu cho các mùa giải Ngoại hạng Anh nên tất cả thuộc tính đều là số.\n",
    "\n",
    "##### <p style=\"text-align:center\"> **8.1 Cầu thủ chưa ra sân** </p>\n",
    "\n",
    "- Đầu tiên, nhóm sẽ kiểm tra xem có bao nhiêu cầu thủ mới (cầu thủ chưa chưa có thống kê cụ nên các chỉ số đều là 0) được trình làng."
   ]
  },
  {
   "cell_type": "code",
   "execution_count": null,
   "metadata": {},
   "outputs": [],
   "source": [
    "# Midfielder - Thông tin các cầu thủ chưa vào sân:\n",
    "info_new_midfieder = dfMidfielder[dfMidfielder['Appearances'] == 0]\n",
    "info_new_midfieder"
   ]
  },
  {
   "cell_type": "code",
   "execution_count": null,
   "metadata": {},
   "outputs": [],
   "source": [
    "print(\"Số cầu thủ ở vị trí tiền vệ chưa ra sân: \", info_new_midfieder.shape[0])\n",
    "\n",
    "plt.figure(figsize=(8, 5));\n",
    "plt.title('Phần trăm cầu thủ chưa ra sân của tiền vệ', fontsize=18);\n",
    "plt.pie((dfMidfielder['Appearances'] == 0).value_counts(),\n",
    "        labels=['Ra sân', 'Chưa ra sân'],\n",
    "        textprops={'fontsize': 13},\n",
    "        radius=1.2, startangle=0,\n",
    "        colors=['#ff5050', '#0066cc'],\n",
    "        autopct='%.1f%%');"
   ]
  },
  {
   "cell_type": "code",
   "execution_count": null,
   "metadata": {},
   "outputs": [],
   "source": [
    "# Defender\n",
    "info_new_defender = dfDefender[dfDefender['Appearances'] == 0]\n",
    "info_new_defender"
   ]
  },
  {
   "cell_type": "code",
   "execution_count": null,
   "metadata": {},
   "outputs": [],
   "source": [
    "print(\"Số cầu thủ ở vị trí hậu vệ chưa ra sân: \", info_new_defender.shape[0])\n",
    "\n",
    "plt.figure(figsize=(8, 5));\n",
    "plt.title('Phần trăm cầu thủ chưa ra sân của hậu vệ', fontsize=18);\n",
    "plt.pie((dfDefender['Appearances'] == 0).value_counts(),\n",
    "        labels=['Ra sân', 'Chưa ra sân'],\n",
    "        textprops={'fontsize': 13},\n",
    "        radius=1.2, startangle=0,\n",
    "        colors=['#ff5050', '#0066cc'],\n",
    "        autopct='%.1f%%');"
   ]
  },
  {
   "cell_type": "code",
   "execution_count": null,
   "metadata": {},
   "outputs": [],
   "source": [
    "# Forward\n",
    "info_new_forward = dfForward[dfForward['Appearances'] == 0]\n",
    "info_new_forward"
   ]
  },
  {
   "cell_type": "code",
   "execution_count": null,
   "metadata": {},
   "outputs": [],
   "source": [
    "print(\"Số cầu thủ ở vị trí tiền đạo chưa ra sân: \", info_new_forward.shape[0])\n",
    "\n",
    "plt.figure(figsize=(8, 5));\n",
    "plt.title('Phần trăm cầu thủ chưa ra sân của tiền đạo', fontsize=18);\n",
    "plt.pie((dfForward['Appearances'] == 0).value_counts(),\n",
    "        labels=['Ra sân', 'Chưa ra sân'],\n",
    "        textprops={'fontsize': 13},\n",
    "        radius=1.2, startangle=0,\n",
    "        colors=['#ff5050', '#0066cc'],\n",
    "        autopct='%.1f%%');"
   ]
  },
  {
   "cell_type": "code",
   "execution_count": null,
   "metadata": {},
   "outputs": [],
   "source": [
    "# Keeper\n",
    "info_new_keeper = dfKeeper[dfKeeper['Appearances'] == 0]\n",
    "info_new_keeper"
   ]
  },
  {
   "cell_type": "code",
   "execution_count": null,
   "metadata": {},
   "outputs": [],
   "source": [
    "print(\"Số cầu thủ ở vị trí thủ môn chưa ra sân: \", info_new_keeper.shape[0])\n",
    "\n",
    "plt.figure(figsize=(8, 5));\n",
    "plt.title('Phần trăm cầu thủ chưa ra sân của thủ môn', fontsize=18);\n",
    "plt.pie((dfKeeper['Appearances'] == 0).value_counts(),\n",
    "        labels=['Ra sân', 'Chưa ra sân'],\n",
    "        textprops={'fontsize': 13},\n",
    "        radius=1.2, startangle=0,\n",
    "        colors=['#ff5050', '#0066cc'],\n",
    "        autopct='%.1f%%');"
   ]
  },
  {
   "attachments": {},
   "cell_type": "markdown",
   "metadata": {},
   "source": [
    "##### <p style=\"text-align:center\"> **8.2 Phân bổ các thuộc tính** </p>"
   ]
  },
  {
   "attachments": {},
   "cell_type": "markdown",
   "metadata": {},
   "source": [
    "- Phân bổ các thuộc tính là số trên từng cầu thủ để các giá trị số được biểu diễn như thể nào trong bộ dữ liệu.\n",
    "- Dựa trên những thông số thống kê để xác định được phân bố thuộc tính như thế nào. Ở đây nhóm không xét đến phần trăm giá trị bị thiếu vì cơ bản nhóm đã lọc bỏ trùng cho nó, như vậy thì nhóm chỉ còn xét: \n",
    "  - Giá trị min.\n",
    "  - Giá trị lower quartile (phân vị 25).\n",
    "  - Giá trị median (phân vị 50).\n",
    "  - Giá trị upper quartile (phân vị 75).\n",
    "  - Giá trị max.\n",
    "  - Giá trị mean."
   ]
  },
  {
   "cell_type": "code",
   "execution_count": null,
   "metadata": {},
   "outputs": [],
   "source": [
    "def lower_quantile(column):\n",
    "    return column.quantile(q = 0.25)\n",
    "\n",
    "def upper_quantile(column):\n",
    "    return column.quantile(q = 0.75)\n",
    "\n",
    "def mean(column):\n",
    "    return column.mean()\n",
    "\n",
    "def median(column):\n",
    "    return column.median()"
   ]
  },
  {
   "cell_type": "code",
   "execution_count": null,
   "metadata": {},
   "outputs": [],
   "source": [
    "# Phân bổ giá trị cho thủ môn\n",
    "keeper_numeric = dfKeeper.iloc[:, dfKeeper.columns != 'Player name']\n",
    "keeper_numeric.agg([min, lower_quantile, upper_quantile, max, mean, median]).round(2)"
   ]
  },
  {
   "cell_type": "code",
   "execution_count": null,
   "metadata": {},
   "outputs": [],
   "source": [
    "# Phân bổ giá trị cho hậu vệ\n",
    "defender_numeric = dfDefender.iloc[:, dfDefender.columns != 'Player name']\n",
    "defender_numeric.agg([min, lower_quantile, upper_quantile, max, mean, median]).round(2)"
   ]
  },
  {
   "cell_type": "code",
   "execution_count": null,
   "metadata": {},
   "outputs": [],
   "source": [
    "# Phân bổ giá trị cho tiền đạo\n",
    "forward_numeric = dfForward.iloc[:, dfForward.columns != 'Player name']\n",
    "forward_numeric.agg([min, lower_quantile, upper_quantile, max, mean, median]).round(2)"
   ]
  },
  {
   "cell_type": "code",
   "execution_count": null,
   "metadata": {},
   "outputs": [],
   "source": [
    "# Phân bổ giá trị cho tiền vệ:\n",
    "midfielder_numeric = dfMidfielder.iloc[:, dfMidfielder.columns != 'Player name']\n",
    "midfielder_numeric.agg([min, lower_quantile, upper_quantile, max, mean, median]).round(2)"
   ]
  },
  {
   "attachments": {},
   "cell_type": "markdown",
   "metadata": {},
   "source": [
    "Đoạn code sau để lưu trữ biến cho phase_3."
   ]
  },
  {
   "cell_type": "code",
   "execution_count": null,
   "metadata": {},
   "outputs": [],
   "source": [
    "%store dfDefender\n",
    "%store dfForward \n",
    "%store dfKeeper \n",
    "%store dfMidfielder"
   ]
  },
  {
   "attachments": {},
   "cell_type": "markdown",
   "metadata": {},
   "source": [
    "---\n",
    "HẾT GIAI ĐOẠN 2"
   ]
  }
 ],
 "metadata": {
  "kernelspec": {
   "display_name": "Python 3",
   "language": "python",
   "name": "python3"
  },
  "language_info": {
   "codemirror_mode": {
    "name": "ipython",
    "version": 3
   },
   "file_extension": ".py",
   "mimetype": "text/x-python",
   "name": "python",
   "nbconvert_exporter": "python",
   "pygments_lexer": "ipython3",
   "version": "3.10.2 (tags/v3.10.2:a58ebcc, Jan 17 2022, 14:12:15) [MSC v.1929 64 bit (AMD64)]"
  },
  "orig_nbformat": 4,
  "vscode": {
   "interpreter": {
    "hash": "31671a60cee805c34c73116577b485118ff3a75c458d3004d49632c19702ac60"
   }
  }
 },
 "nbformat": 4,
 "nbformat_minor": 2
}

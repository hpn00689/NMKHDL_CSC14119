{
 "cells": [
  {
   "attachments": {},
   "cell_type": "markdown",
   "metadata": {},
   "source": [
    "# <p style=\"text-align:center\"> **GIAI ĐOẠN 2: TIỀN XỬ LÝ DỮ LIỆU** </p>\n",
    "---\n",
    "- **Về công cụ**: Sử dụng numpy và pandas để tiền xử lý dữ liệu. \n",
    "- Bước này dùng để tiền xử lý dữ liệu, task có sẵn ở bên dưới.\n",
    "---"
   ]
  },
  {
   "attachments": {},
   "cell_type": "markdown",
   "metadata": {},
   "source": [
    "### <p style=\"text-align:center\"> **I. IMPORT THƯ VIỆN CẦN THIẾT** </p>"
   ]
  },
  {
   "cell_type": "code",
   "execution_count": 136,
   "metadata": {},
   "outputs": [],
   "source": [
    "# Import thư viện cần thiết để tiền xử lý dữ liệu\n",
    "import pandas as pd\n",
    "import numpy as np "
   ]
  },
  {
   "attachments": {},
   "cell_type": "markdown",
   "metadata": {},
   "source": [
    "### <p style=\"text-align:center\"> **II. DATA EXPLORATIONS AND PREPROCESSING** </p>\n",
    "#### **0. Cái nhìn sơ lược về bộ dữ liệu**\n",
    "- Bộ dữ liệu được chia làm 4 phần, tương ứng với mỗi phần là vị trí của cầu thủ trong một đội bóng. 4 vị trí lần lượt là defender (hậu vệ), forward (tiền đạo), keeper (thủ môn), midfielder (tiền vệ). "
   ]
  },
  {
   "cell_type": "code",
   "execution_count": 137,
   "metadata": {},
   "outputs": [],
   "source": [
    "# Đọc hết dữ liệu trong CSV về các biến tương ứng\n",
    "dfKeeper = pd.read_csv('../DATA/keeper_data.csv')\n",
    "dfForward = pd.read_csv('../DATA/forward_data.csv')\n",
    "dfDefender = pd.read_csv('../DATA/defender_data.csv')\n",
    "dfMidfielder = pd.read_csv('../DATA/midfielder_data.csv')"
   ]
  },
  {
   "attachments": {},
   "cell_type": "markdown",
   "metadata": {},
   "source": [
    "- Để có cái nhìn sơ lược về dữ liệu, nhóm em in ra 5 dòng đầu tiên và các đặc điểm chính của mỗi bộ dữ liệu."
   ]
  },
  {
   "cell_type": "code",
   "execution_count": 138,
   "metadata": {},
   "outputs": [
    {
     "data": {
      "text/html": [
       "<div>\n",
       "<style scoped>\n",
       "    .dataframe tbody tr th:only-of-type {\n",
       "        vertical-align: middle;\n",
       "    }\n",
       "\n",
       "    .dataframe tbody tr th {\n",
       "        vertical-align: top;\n",
       "    }\n",
       "\n",
       "    .dataframe thead th {\n",
       "        text-align: right;\n",
       "    }\n",
       "</style>\n",
       "<table border=\"1\" class=\"dataframe\">\n",
       "  <thead>\n",
       "    <tr style=\"text-align: right;\">\n",
       "      <th></th>\n",
       "      <th>Player name</th>\n",
       "      <th>Appearances</th>\n",
       "      <th>Clean sheets</th>\n",
       "      <th>Wins</th>\n",
       "      <th>Losses</th>\n",
       "      <th>Saves</th>\n",
       "      <th>Penalties Saved</th>\n",
       "      <th>Punches</th>\n",
       "      <th>High Claims</th>\n",
       "      <th>Catches</th>\n",
       "      <th>...</th>\n",
       "      <th>Errors leading to goal</th>\n",
       "      <th>Own goals</th>\n",
       "      <th>Yellow cards</th>\n",
       "      <th>Red cards</th>\n",
       "      <th>Fouls</th>\n",
       "      <th>Goals</th>\n",
       "      <th>Assists</th>\n",
       "      <th>Passes</th>\n",
       "      <th>Passes per match</th>\n",
       "      <th>Accurate long balls</th>\n",
       "    </tr>\n",
       "  </thead>\n",
       "  <tbody>\n",
       "    <tr>\n",
       "      <th>0</th>\n",
       "      <td>Adrián</td>\n",
       "      <td>139</td>\n",
       "      <td>38</td>\n",
       "      <td>57</td>\n",
       "      <td>45</td>\n",
       "      <td>464</td>\n",
       "      <td>5</td>\n",
       "      <td>57</td>\n",
       "      <td>150</td>\n",
       "      <td>53</td>\n",
       "      <td>...</td>\n",
       "      <td>10</td>\n",
       "      <td>0</td>\n",
       "      <td>10</td>\n",
       "      <td>2</td>\n",
       "      <td>5</td>\n",
       "      <td>0</td>\n",
       "      <td>0</td>\n",
       "      <td>3,481</td>\n",
       "      <td>25.04</td>\n",
       "      <td>1,096</td>\n",
       "    </tr>\n",
       "    <tr>\n",
       "      <th>1</th>\n",
       "      <td>Alisson</td>\n",
       "      <td>150</td>\n",
       "      <td>68</td>\n",
       "      <td>104</td>\n",
       "      <td>17</td>\n",
       "      <td>341</td>\n",
       "      <td>2</td>\n",
       "      <td>67</td>\n",
       "      <td>64</td>\n",
       "      <td>21</td>\n",
       "      <td>...</td>\n",
       "      <td>8</td>\n",
       "      <td>1</td>\n",
       "      <td>2</td>\n",
       "      <td>1</td>\n",
       "      <td>3</td>\n",
       "      <td>1</td>\n",
       "      <td>3</td>\n",
       "      <td>4,471</td>\n",
       "      <td>29.81</td>\n",
       "      <td>617</td>\n",
       "    </tr>\n",
       "    <tr>\n",
       "      <th>2</th>\n",
       "      <td>Álvaro Fernández</td>\n",
       "      <td>12</td>\n",
       "      <td>1</td>\n",
       "      <td>3</td>\n",
       "      <td>7</td>\n",
       "      <td>49</td>\n",
       "      <td>0</td>\n",
       "      <td>4</td>\n",
       "      <td>8</td>\n",
       "      <td>4</td>\n",
       "      <td>...</td>\n",
       "      <td>1</td>\n",
       "      <td>1</td>\n",
       "      <td>0</td>\n",
       "      <td>0</td>\n",
       "      <td>0</td>\n",
       "      <td>0</td>\n",
       "      <td>0</td>\n",
       "      <td>456</td>\n",
       "      <td>38.00</td>\n",
       "      <td>80</td>\n",
       "    </tr>\n",
       "    <tr>\n",
       "      <th>3</th>\n",
       "      <td>Alphonse Aréola</td>\n",
       "      <td>39</td>\n",
       "      <td>9</td>\n",
       "      <td>5</td>\n",
       "      <td>21</td>\n",
       "      <td>118</td>\n",
       "      <td>0</td>\n",
       "      <td>27</td>\n",
       "      <td>23</td>\n",
       "      <td>5</td>\n",
       "      <td>...</td>\n",
       "      <td>2</td>\n",
       "      <td>0</td>\n",
       "      <td>2</td>\n",
       "      <td>0</td>\n",
       "      <td>1</td>\n",
       "      <td>0</td>\n",
       "      <td>0</td>\n",
       "      <td>913</td>\n",
       "      <td>23.41</td>\n",
       "      <td>177</td>\n",
       "    </tr>\n",
       "    <tr>\n",
       "      <th>4</th>\n",
       "      <td>Kepa Arrizabalaga</td>\n",
       "      <td>86</td>\n",
       "      <td>29</td>\n",
       "      <td>45</td>\n",
       "      <td>24</td>\n",
       "      <td>186</td>\n",
       "      <td>1</td>\n",
       "      <td>25</td>\n",
       "      <td>38</td>\n",
       "      <td>12</td>\n",
       "      <td>...</td>\n",
       "      <td>3</td>\n",
       "      <td>0</td>\n",
       "      <td>3</td>\n",
       "      <td>0</td>\n",
       "      <td>0</td>\n",
       "      <td>0</td>\n",
       "      <td>0</td>\n",
       "      <td>2,435</td>\n",
       "      <td>28.31</td>\n",
       "      <td>398</td>\n",
       "    </tr>\n",
       "  </tbody>\n",
       "</table>\n",
       "<p>5 rows × 25 columns</p>\n",
       "</div>"
      ],
      "text/plain": [
       "         Player name  Appearances  Clean sheets  Wins  Losses Saves  \\\n",
       "0             Adrián          139            38    57      45   464   \n",
       "1            Alisson          150            68   104      17   341   \n",
       "2   Álvaro Fernández           12             1     3       7    49   \n",
       "3    Alphonse Aréola           39             9     5      21   118   \n",
       "4  Kepa Arrizabalaga           86            29    45      24   186   \n",
       "\n",
       "   Penalties Saved  Punches  High Claims  Catches  ...  \\\n",
       "0                5       57          150       53  ...   \n",
       "1                2       67           64       21  ...   \n",
       "2                0        4            8        4  ...   \n",
       "3                0       27           23        5  ...   \n",
       "4                1       25           38       12  ...   \n",
       "\n",
       "   Errors leading to goal Own goals Yellow cards  Red cards  Fouls  Goals  \\\n",
       "0                      10         0           10          2      5      0   \n",
       "1                       8         1            2          1      3      1   \n",
       "2                       1         1            0          0      0      0   \n",
       "3                       2         0            2          0      1      0   \n",
       "4                       3         0            3          0      0      0   \n",
       "\n",
       "   Assists  Passes  Passes per match  Accurate long balls  \n",
       "0        0   3,481             25.04                1,096  \n",
       "1        3   4,471             29.81                  617  \n",
       "2        0     456             38.00                   80  \n",
       "3        0     913             23.41                  177  \n",
       "4        0   2,435             28.31                  398  \n",
       "\n",
       "[5 rows x 25 columns]"
      ]
     },
     "execution_count": 138,
     "metadata": {},
     "output_type": "execute_result"
    }
   ],
   "source": [
    "dfKeeper.head() "
   ]
  },
  {
   "cell_type": "code",
   "execution_count": 139,
   "metadata": {},
   "outputs": [
    {
     "data": {
      "text/html": [
       "<div>\n",
       "<style scoped>\n",
       "    .dataframe tbody tr th:only-of-type {\n",
       "        vertical-align: middle;\n",
       "    }\n",
       "\n",
       "    .dataframe tbody tr th {\n",
       "        vertical-align: top;\n",
       "    }\n",
       "\n",
       "    .dataframe thead th {\n",
       "        text-align: right;\n",
       "    }\n",
       "</style>\n",
       "<table border=\"1\" class=\"dataframe\">\n",
       "  <thead>\n",
       "    <tr style=\"text-align: right;\">\n",
       "      <th></th>\n",
       "      <th>Player name</th>\n",
       "      <th>Appearances</th>\n",
       "      <th>Goals Overview</th>\n",
       "      <th>Wins</th>\n",
       "      <th>Losses</th>\n",
       "      <th>Goals</th>\n",
       "      <th>Goals per match</th>\n",
       "      <th>Headed goals</th>\n",
       "      <th>Goals with right foot</th>\n",
       "      <th>Goals with left foot</th>\n",
       "      <th>...</th>\n",
       "      <th>Crosses</th>\n",
       "      <th>Yellow cards</th>\n",
       "      <th>Red cards</th>\n",
       "      <th>Fouls</th>\n",
       "      <th>Offsides</th>\n",
       "      <th>Tackles</th>\n",
       "      <th>Blocked shots</th>\n",
       "      <th>Interceptions</th>\n",
       "      <th>Clearances</th>\n",
       "      <th>Headed Clearance</th>\n",
       "    </tr>\n",
       "  </thead>\n",
       "  <tbody>\n",
       "    <tr>\n",
       "      <th>0</th>\n",
       "      <td>Terry Ablade</td>\n",
       "      <td>0</td>\n",
       "      <td>0</td>\n",
       "      <td>0</td>\n",
       "      <td>0</td>\n",
       "      <td>0</td>\n",
       "      <td>0.00</td>\n",
       "      <td>0</td>\n",
       "      <td>0</td>\n",
       "      <td>0</td>\n",
       "      <td>...</td>\n",
       "      <td>0</td>\n",
       "      <td>0</td>\n",
       "      <td>0</td>\n",
       "      <td>0</td>\n",
       "      <td>0</td>\n",
       "      <td>0</td>\n",
       "      <td>0</td>\n",
       "      <td>0</td>\n",
       "      <td>0</td>\n",
       "      <td>0</td>\n",
       "    </tr>\n",
       "    <tr>\n",
       "      <th>1</th>\n",
       "      <td>Tammy Abraham</td>\n",
       "      <td>89</td>\n",
       "      <td>26</td>\n",
       "      <td>36</td>\n",
       "      <td>33</td>\n",
       "      <td>26</td>\n",
       "      <td>0.29</td>\n",
       "      <td>3</td>\n",
       "      <td>20</td>\n",
       "      <td>1</td>\n",
       "      <td>...</td>\n",
       "      <td>32</td>\n",
       "      <td>2</td>\n",
       "      <td>0</td>\n",
       "      <td>56</td>\n",
       "      <td>39</td>\n",
       "      <td>25</td>\n",
       "      <td>31</td>\n",
       "      <td>12</td>\n",
       "      <td>55</td>\n",
       "      <td>45</td>\n",
       "    </tr>\n",
       "    <tr>\n",
       "      <th>2</th>\n",
       "      <td>Adam Armstrong</td>\n",
       "      <td>52</td>\n",
       "      <td>3</td>\n",
       "      <td>8</td>\n",
       "      <td>32</td>\n",
       "      <td>3</td>\n",
       "      <td>0.06</td>\n",
       "      <td>0</td>\n",
       "      <td>1</td>\n",
       "      <td>2</td>\n",
       "      <td>...</td>\n",
       "      <td>39</td>\n",
       "      <td>2</td>\n",
       "      <td>0</td>\n",
       "      <td>28</td>\n",
       "      <td>4</td>\n",
       "      <td>24</td>\n",
       "      <td>19</td>\n",
       "      <td>6</td>\n",
       "      <td>10</td>\n",
       "      <td>7</td>\n",
       "    </tr>\n",
       "    <tr>\n",
       "      <th>3</th>\n",
       "      <td>Adama Traoré</td>\n",
       "      <td>172</td>\n",
       "      <td>9</td>\n",
       "      <td>49</td>\n",
       "      <td>76</td>\n",
       "      <td>9</td>\n",
       "      <td>0.05</td>\n",
       "      <td>1</td>\n",
       "      <td>7</td>\n",
       "      <td>1</td>\n",
       "      <td>...</td>\n",
       "      <td>547</td>\n",
       "      <td>8</td>\n",
       "      <td>0</td>\n",
       "      <td>142</td>\n",
       "      <td>30</td>\n",
       "      <td>122</td>\n",
       "      <td>55</td>\n",
       "      <td>34</td>\n",
       "      <td>40</td>\n",
       "      <td>22</td>\n",
       "    </tr>\n",
       "    <tr>\n",
       "      <th>4</th>\n",
       "      <td>Simon Adingra</td>\n",
       "      <td>0</td>\n",
       "      <td>0</td>\n",
       "      <td>0</td>\n",
       "      <td>0</td>\n",
       "      <td>0</td>\n",
       "      <td>0.00</td>\n",
       "      <td>0</td>\n",
       "      <td>0</td>\n",
       "      <td>0</td>\n",
       "      <td>...</td>\n",
       "      <td>0</td>\n",
       "      <td>0</td>\n",
       "      <td>0</td>\n",
       "      <td>0</td>\n",
       "      <td>0</td>\n",
       "      <td>0</td>\n",
       "      <td>0</td>\n",
       "      <td>0</td>\n",
       "      <td>0</td>\n",
       "      <td>0</td>\n",
       "    </tr>\n",
       "  </tbody>\n",
       "</table>\n",
       "<p>5 rows × 31 columns</p>\n",
       "</div>"
      ],
      "text/plain": [
       "      Player name  Appearances  Goals Overview  Wins  Losses  Goals  \\\n",
       "0    Terry Ablade            0               0     0       0      0   \n",
       "1   Tammy Abraham           89              26    36      33     26   \n",
       "2  Adam Armstrong           52               3     8      32      3   \n",
       "3    Adama Traoré          172               9    49      76      9   \n",
       "4   Simon Adingra            0               0     0       0      0   \n",
       "\n",
       "   Goals per match  Headed goals  Goals with right foot  Goals with left foot  \\\n",
       "0             0.00             0                      0                     0   \n",
       "1             0.29             3                     20                     1   \n",
       "2             0.06             0                      1                     2   \n",
       "3             0.05             1                      7                     1   \n",
       "4             0.00             0                      0                     0   \n",
       "\n",
       "   ...  Crosses  Yellow cards Red cards  Fouls Offsides  Tackles  \\\n",
       "0  ...        0             0         0      0        0        0   \n",
       "1  ...       32             2         0     56       39       25   \n",
       "2  ...       39             2         0     28        4       24   \n",
       "3  ...      547             8         0    142       30      122   \n",
       "4  ...        0             0         0      0        0        0   \n",
       "\n",
       "   Blocked shots  Interceptions Clearances  Headed Clearance  \n",
       "0              0              0          0                 0  \n",
       "1             31             12         55                45  \n",
       "2             19              6         10                 7  \n",
       "3             55             34         40                22  \n",
       "4              0              0          0                 0  \n",
       "\n",
       "[5 rows x 31 columns]"
      ]
     },
     "execution_count": 139,
     "metadata": {},
     "output_type": "execute_result"
    }
   ],
   "source": [
    "dfForward.head()"
   ]
  },
  {
   "cell_type": "code",
   "execution_count": 140,
   "metadata": {},
   "outputs": [
    {
     "data": {
      "text/html": [
       "<div>\n",
       "<style scoped>\n",
       "    .dataframe tbody tr th:only-of-type {\n",
       "        vertical-align: middle;\n",
       "    }\n",
       "\n",
       "    .dataframe tbody tr th {\n",
       "        vertical-align: top;\n",
       "    }\n",
       "\n",
       "    .dataframe thead th {\n",
       "        text-align: right;\n",
       "    }\n",
       "</style>\n",
       "<table border=\"1\" class=\"dataframe\">\n",
       "  <thead>\n",
       "    <tr style=\"text-align: right;\">\n",
       "      <th></th>\n",
       "      <th>Player name</th>\n",
       "      <th>Appearances</th>\n",
       "      <th>Goals Overview</th>\n",
       "      <th>Wins</th>\n",
       "      <th>Losses</th>\n",
       "      <th>Clean sheets</th>\n",
       "      <th>Goals Conceded</th>\n",
       "      <th>Tackles</th>\n",
       "      <th>Tackle success</th>\n",
       "      <th>Last man tackles</th>\n",
       "      <th>...</th>\n",
       "      <th>Accurate long balls</th>\n",
       "      <th>Yellow cards</th>\n",
       "      <th>Red cards</th>\n",
       "      <th>Fouls</th>\n",
       "      <th>Offsides</th>\n",
       "      <th>Goals</th>\n",
       "      <th>Headed goals</th>\n",
       "      <th>Goals with right foot</th>\n",
       "      <th>Goals with left foot</th>\n",
       "      <th>Hit woodwork</th>\n",
       "    </tr>\n",
       "  </thead>\n",
       "  <tbody>\n",
       "    <tr>\n",
       "      <th>0</th>\n",
       "      <td>Zach Abbott</td>\n",
       "      <td>0</td>\n",
       "      <td>0</td>\n",
       "      <td>0</td>\n",
       "      <td>0</td>\n",
       "      <td>0</td>\n",
       "      <td>0</td>\n",
       "      <td>0</td>\n",
       "      <td>0%</td>\n",
       "      <td>0</td>\n",
       "      <td>...</td>\n",
       "      <td>0</td>\n",
       "      <td>0</td>\n",
       "      <td>0</td>\n",
       "      <td>0</td>\n",
       "      <td>0</td>\n",
       "      <td>0</td>\n",
       "      <td>0</td>\n",
       "      <td>0</td>\n",
       "      <td>0</td>\n",
       "      <td>0</td>\n",
       "    </tr>\n",
       "    <tr>\n",
       "      <th>1</th>\n",
       "      <td>Tosin Adarabioyo</td>\n",
       "      <td>43</td>\n",
       "      <td>1</td>\n",
       "      <td>9</td>\n",
       "      <td>19</td>\n",
       "      <td>10</td>\n",
       "      <td>61</td>\n",
       "      <td>48</td>\n",
       "      <td>48%</td>\n",
       "      <td>0</td>\n",
       "      <td>...</td>\n",
       "      <td>142</td>\n",
       "      <td>1</td>\n",
       "      <td>0</td>\n",
       "      <td>22</td>\n",
       "      <td>2</td>\n",
       "      <td>1</td>\n",
       "      <td>1</td>\n",
       "      <td>0</td>\n",
       "      <td>0</td>\n",
       "      <td>0</td>\n",
       "    </tr>\n",
       "    <tr>\n",
       "      <th>2</th>\n",
       "      <td>Tayo Adaramola</td>\n",
       "      <td>0</td>\n",
       "      <td>0</td>\n",
       "      <td>0</td>\n",
       "      <td>0</td>\n",
       "      <td>0</td>\n",
       "      <td>0</td>\n",
       "      <td>0</td>\n",
       "      <td>0%</td>\n",
       "      <td>0</td>\n",
       "      <td>...</td>\n",
       "      <td>0</td>\n",
       "      <td>0</td>\n",
       "      <td>0</td>\n",
       "      <td>0</td>\n",
       "      <td>0</td>\n",
       "      <td>0</td>\n",
       "      <td>0</td>\n",
       "      <td>0</td>\n",
       "      <td>0</td>\n",
       "      <td>0</td>\n",
       "    </tr>\n",
       "    <tr>\n",
       "      <th>3</th>\n",
       "      <td>Joshua Addae</td>\n",
       "      <td>0</td>\n",
       "      <td>0</td>\n",
       "      <td>0</td>\n",
       "      <td>0</td>\n",
       "      <td>0</td>\n",
       "      <td>0</td>\n",
       "      <td>0</td>\n",
       "      <td>0%</td>\n",
       "      <td>0</td>\n",
       "      <td>...</td>\n",
       "      <td>0</td>\n",
       "      <td>0</td>\n",
       "      <td>0</td>\n",
       "      <td>0</td>\n",
       "      <td>0</td>\n",
       "      <td>0</td>\n",
       "      <td>0</td>\n",
       "      <td>0</td>\n",
       "      <td>0</td>\n",
       "      <td>0</td>\n",
       "    </tr>\n",
       "    <tr>\n",
       "      <th>4</th>\n",
       "      <td>Nayef Aguerd</td>\n",
       "      <td>1</td>\n",
       "      <td>0</td>\n",
       "      <td>0</td>\n",
       "      <td>1</td>\n",
       "      <td>0</td>\n",
       "      <td>1</td>\n",
       "      <td>1</td>\n",
       "      <td>100%</td>\n",
       "      <td>0</td>\n",
       "      <td>...</td>\n",
       "      <td>6</td>\n",
       "      <td>0</td>\n",
       "      <td>0</td>\n",
       "      <td>0</td>\n",
       "      <td>0</td>\n",
       "      <td>0</td>\n",
       "      <td>0</td>\n",
       "      <td>0</td>\n",
       "      <td>0</td>\n",
       "      <td>0</td>\n",
       "    </tr>\n",
       "  </tbody>\n",
       "</table>\n",
       "<p>5 rows × 40 columns</p>\n",
       "</div>"
      ],
      "text/plain": [
       "        Player name  Appearances  Goals Overview  Wins  Losses  Clean sheets  \\\n",
       "0       Zach Abbott            0               0     0       0             0   \n",
       "1  Tosin Adarabioyo           43               1     9      19            10   \n",
       "2    Tayo Adaramola            0               0     0       0             0   \n",
       "3      Joshua Addae            0               0     0       0             0   \n",
       "4      Nayef Aguerd            1               0     0       1             0   \n",
       "\n",
       "   Goals Conceded  Tackles Tackle success  Last man tackles  ...  \\\n",
       "0               0        0             0%                 0  ...   \n",
       "1              61       48            48%                 0  ...   \n",
       "2               0        0             0%                 0  ...   \n",
       "3               0        0             0%                 0  ...   \n",
       "4               1        1           100%                 0  ...   \n",
       "\n",
       "   Accurate long balls  Yellow cards Red cards Fouls  Offsides Goals  \\\n",
       "0                    0             0         0     0         0     0   \n",
       "1                  142             1         0    22         2     1   \n",
       "2                    0             0         0     0         0     0   \n",
       "3                    0             0         0     0         0     0   \n",
       "4                    6             0         0     0         0     0   \n",
       "\n",
       "  Headed goals Goals with right foot  Goals with left foot Hit woodwork  \n",
       "0            0                     0                     0            0  \n",
       "1            1                     0                     0            0  \n",
       "2            0                     0                     0            0  \n",
       "3            0                     0                     0            0  \n",
       "4            0                     0                     0            0  \n",
       "\n",
       "[5 rows x 40 columns]"
      ]
     },
     "execution_count": 140,
     "metadata": {},
     "output_type": "execute_result"
    }
   ],
   "source": [
    "dfDefender.head()"
   ]
  },
  {
   "cell_type": "code",
   "execution_count": 141,
   "metadata": {},
   "outputs": [
    {
     "data": {
      "text/html": [
       "<div>\n",
       "<style scoped>\n",
       "    .dataframe tbody tr th:only-of-type {\n",
       "        vertical-align: middle;\n",
       "    }\n",
       "\n",
       "    .dataframe tbody tr th {\n",
       "        vertical-align: top;\n",
       "    }\n",
       "\n",
       "    .dataframe thead th {\n",
       "        text-align: right;\n",
       "    }\n",
       "</style>\n",
       "<table border=\"1\" class=\"dataframe\">\n",
       "  <thead>\n",
       "    <tr style=\"text-align: right;\">\n",
       "      <th></th>\n",
       "      <th>Player name</th>\n",
       "      <th>Appearances</th>\n",
       "      <th>Goals Overview</th>\n",
       "      <th>Wins</th>\n",
       "      <th>Losses</th>\n",
       "      <th>Goals</th>\n",
       "      <th>Goals per match</th>\n",
       "      <th>Headed goals</th>\n",
       "      <th>Goals with right foot</th>\n",
       "      <th>Goals with left foot</th>\n",
       "      <th>...</th>\n",
       "      <th>Interceptions</th>\n",
       "      <th>Clearances</th>\n",
       "      <th>Headed clearances</th>\n",
       "      <th>Recoveries</th>\n",
       "      <th>Duels won</th>\n",
       "      <th>Duels lost</th>\n",
       "      <th>Succesful 50/50s</th>\n",
       "      <th>Aerial battles won</th>\n",
       "      <th>Aerial battles lost</th>\n",
       "      <th>Errors leading to goal</th>\n",
       "    </tr>\n",
       "  </thead>\n",
       "  <tbody>\n",
       "    <tr>\n",
       "      <th>0</th>\n",
       "      <td>Brenden Aaronson</td>\n",
       "      <td>14</td>\n",
       "      <td>1</td>\n",
       "      <td>4</td>\n",
       "      <td>7</td>\n",
       "      <td>1</td>\n",
       "      <td>0.07</td>\n",
       "      <td>0</td>\n",
       "      <td>1</td>\n",
       "      <td>0</td>\n",
       "      <td>...</td>\n",
       "      <td>1.0</td>\n",
       "      <td>5.0</td>\n",
       "      <td>1.0</td>\n",
       "      <td>68</td>\n",
       "      <td>77</td>\n",
       "      <td>106</td>\n",
       "      <td>19.0</td>\n",
       "      <td>6.0</td>\n",
       "      <td>17.0</td>\n",
       "      <td>0.0</td>\n",
       "    </tr>\n",
       "    <tr>\n",
       "      <th>1</th>\n",
       "      <td>Tyler Adams</td>\n",
       "      <td>13</td>\n",
       "      <td>0</td>\n",
       "      <td>4</td>\n",
       "      <td>6</td>\n",
       "      <td>0</td>\n",
       "      <td>13.00</td>\n",
       "      <td>0</td>\n",
       "      <td>0</td>\n",
       "      <td>0</td>\n",
       "      <td>...</td>\n",
       "      <td>16.0</td>\n",
       "      <td>11.0</td>\n",
       "      <td>2.0</td>\n",
       "      <td>104</td>\n",
       "      <td>75</td>\n",
       "      <td>62</td>\n",
       "      <td>2.0</td>\n",
       "      <td>10.0</td>\n",
       "      <td>7.0</td>\n",
       "      <td>0.0</td>\n",
       "    </tr>\n",
       "    <tr>\n",
       "      <th>2</th>\n",
       "      <td>Marc Albrighton</td>\n",
       "      <td>307</td>\n",
       "      <td>19</td>\n",
       "      <td>117</td>\n",
       "      <td>110</td>\n",
       "      <td>19</td>\n",
       "      <td>0.06</td>\n",
       "      <td>2</td>\n",
       "      <td>15</td>\n",
       "      <td>2</td>\n",
       "      <td>...</td>\n",
       "      <td>292.0</td>\n",
       "      <td>204.0</td>\n",
       "      <td>60.0</td>\n",
       "      <td>1,437</td>\n",
       "      <td>1,128</td>\n",
       "      <td>1,346</td>\n",
       "      <td>336.0</td>\n",
       "      <td>84.0</td>\n",
       "      <td>233.0</td>\n",
       "      <td>0.0</td>\n",
       "    </tr>\n",
       "    <tr>\n",
       "      <th>3</th>\n",
       "      <td>Allan</td>\n",
       "      <td>52</td>\n",
       "      <td>0</td>\n",
       "      <td>20</td>\n",
       "      <td>23</td>\n",
       "      <td>0</td>\n",
       "      <td>52.00</td>\n",
       "      <td>0</td>\n",
       "      <td>0</td>\n",
       "      <td>0</td>\n",
       "      <td>...</td>\n",
       "      <td>42.0</td>\n",
       "      <td>59.0</td>\n",
       "      <td>23.0</td>\n",
       "      <td>378</td>\n",
       "      <td>273</td>\n",
       "      <td>299</td>\n",
       "      <td>52.0</td>\n",
       "      <td>16.0</td>\n",
       "      <td>26.0</td>\n",
       "      <td>1.0</td>\n",
       "    </tr>\n",
       "    <tr>\n",
       "      <th>4</th>\n",
       "      <td>Charlie Allen</td>\n",
       "      <td>0</td>\n",
       "      <td>0</td>\n",
       "      <td>0</td>\n",
       "      <td>0</td>\n",
       "      <td>0</td>\n",
       "      <td>0.00</td>\n",
       "      <td>0</td>\n",
       "      <td>0</td>\n",
       "      <td>0</td>\n",
       "      <td>...</td>\n",
       "      <td>0.0</td>\n",
       "      <td>0.0</td>\n",
       "      <td>0.0</td>\n",
       "      <td>0</td>\n",
       "      <td>0</td>\n",
       "      <td>0</td>\n",
       "      <td>0.0</td>\n",
       "      <td>0.0</td>\n",
       "      <td>0.0</td>\n",
       "      <td>0.0</td>\n",
       "    </tr>\n",
       "  </tbody>\n",
       "</table>\n",
       "<p>5 rows × 42 columns</p>\n",
       "</div>"
      ],
      "text/plain": [
       "        Player name  Appearances  Goals Overview  Wins  Losses  Goals  \\\n",
       "0  Brenden Aaronson           14               1     4       7      1   \n",
       "1       Tyler Adams           13               0     4       6      0   \n",
       "2   Marc Albrighton          307              19   117     110     19   \n",
       "3             Allan           52               0    20      23      0   \n",
       "4     Charlie Allen            0               0     0       0      0   \n",
       "\n",
       "   Goals per match  Headed goals Goals with right foot  Goals with left foot  \\\n",
       "0             0.07             0                     1                     0   \n",
       "1            13.00             0                     0                     0   \n",
       "2             0.06             2                    15                     2   \n",
       "3            52.00             0                     0                     0   \n",
       "4             0.00             0                     0                     0   \n",
       "\n",
       "   ...  Interceptions  Clearances  Headed clearances  Recoveries Duels won  \\\n",
       "0  ...            1.0         5.0                1.0          68        77   \n",
       "1  ...           16.0        11.0                2.0         104        75   \n",
       "2  ...          292.0       204.0               60.0       1,437     1,128   \n",
       "3  ...           42.0        59.0               23.0         378       273   \n",
       "4  ...            0.0         0.0                0.0           0         0   \n",
       "\n",
       "   Duels lost  Succesful 50/50s  Aerial battles won Aerial battles lost  \\\n",
       "0         106              19.0                 6.0                17.0   \n",
       "1          62               2.0                10.0                 7.0   \n",
       "2       1,346             336.0                84.0               233.0   \n",
       "3         299              52.0                16.0                26.0   \n",
       "4           0               0.0                 0.0                 0.0   \n",
       "\n",
       "   Errors leading to goal  \n",
       "0                     0.0  \n",
       "1                     0.0  \n",
       "2                     0.0  \n",
       "3                     1.0  \n",
       "4                     0.0  \n",
       "\n",
       "[5 rows x 42 columns]"
      ]
     },
     "execution_count": 141,
     "metadata": {},
     "output_type": "execute_result"
    }
   ],
   "source": [
    "dfMidfielder.head()"
   ]
  },
  {
   "attachments": {},
   "cell_type": "markdown",
   "metadata": {},
   "source": [
    "#### **1. Có bao nhiêu hàng và cột trong bộ dữ liệu?**\n",
    "- Mỗi vị trí khác nhau sẽ có các thuộc tính dữ liệu khác nhau. Như vậy, mỗi bộ dữ liệu sẽ có các thông tin và đặc điểm riêng của nó.\n",
    "- Bước đầu tiên, nhóm em đọc file dữ liệu đưa vào các DataFrame để xử lý:"
   ]
  },
  {
   "cell_type": "code",
   "execution_count": 142,
   "metadata": {},
   "outputs": [
    {
     "name": "stdout",
     "output_type": "stream",
     "text": [
      "Số hàng (số cầu thủ) của tiền vệ:  712\n",
      "Số cột (số thuộc tính) của tiền vệ:  42\n"
     ]
    }
   ],
   "source": [
    "# Midfielder\n",
    "print(\"Số hàng (số cầu thủ) của tiền vệ: \", dfMidfielder.shape[0])\n",
    "print(\"Số cột (số thuộc tính) của tiền vệ: \", dfMidfielder.shape[1])"
   ]
  },
  {
   "cell_type": "code",
   "execution_count": 143,
   "metadata": {},
   "outputs": [
    {
     "name": "stdout",
     "output_type": "stream",
     "text": [
      "Số hàng (số cầu thủ) của hậu vệ:  656\n",
      "Số cột (số thuộc tính) của hậu vệ:  40\n"
     ]
    }
   ],
   "source": [
    "# Defender\n",
    "print(\"Số hàng (số cầu thủ) của hậu vệ: \", dfDefender.shape[0])\n",
    "print(\"Số cột (số thuộc tính) của hậu vệ: \", dfDefender.shape[1])"
   ]
  },
  {
   "cell_type": "code",
   "execution_count": 144,
   "metadata": {},
   "outputs": [
    {
     "name": "stdout",
     "output_type": "stream",
     "text": [
      "Số hàng (số cầu thủ) của thủ môn:  234\n",
      "Số cột (số thuộc tính) của thủ môn:  25\n"
     ]
    }
   ],
   "source": [
    "# Keeper\n",
    "print(\"Số hàng (số cầu thủ) của thủ môn: \", dfKeeper.shape[0])\n",
    "print(\"Số cột (số thuộc tính) của thủ môn: \", dfKeeper.shape[1])"
   ]
  },
  {
   "cell_type": "code",
   "execution_count": 145,
   "metadata": {},
   "outputs": [
    {
     "name": "stdout",
     "output_type": "stream",
     "text": [
      "Số hàng (số cầu thủ) của tiền đạo:  416\n",
      "Số cột (số thuộc tính) của tiền đạo:  31\n"
     ]
    }
   ],
   "source": [
    "# Forward\n",
    "print(\"Số hàng (số cầu thủ) của tiền đạo: \", dfForward.shape[0])\n",
    "print(\"Số cột (số thuộc tính) của tiền đạo: \", dfForward.shape[1])"
   ]
  },
  {
   "attachments": {},
   "cell_type": "markdown",
   "metadata": {},
   "source": [
    "#### **2. Mỗi cột và mỗi hàng trong các bộ dữ liệu có ý nghĩa gì?**\n",
    "- Mỗi hàng trong bộ dữ liệu chỉ ra các chỉ số của cầu thủ trong tổng số các giải đấu ngoại hạng Anh mà họ đã tham gia trước đó, được trang chủ chính thức của Premier League tổng hợp. Có một số hàng bất thường chỉ chứa toàn giá trị là số 0, tức là cầu thủ đó chưa ra sân hoặc nằm ở vị trí dự bị.\n",
    "- Mỗi cột ở mỗi bộ sẽ tương ứng với thuộc tính của cầu thủ trong bộ dữ liệu đó. Tất cả bộ dữ liệu có một vài thuộc tính giống nhau nhưng nhìn chung không nhiều, dưới đây là các thuộc tính đó:\n",
    "  - **Player name**: Tên cầu thủ.\n",
    "  - **Appearances**: Số lần ra sân của cầu thủ.\n",
    "  - **Goals Overview**: Tổng số bàn thắng của các cầu thủ.\n",
    "  - **Wins**: Tổng số trận thắng của cầu thủ.\n",
    "  - **Losses**: Tổng số trận thua của cầu thủ.\n",
    "  - **Yellow cards**: Tổng số thẻ vàng của cầu thủ.\n",
    "  - **Red cards**: Tổng số thẻ đỏ của cầu thủ.\n",
    "  - **Assists**: Tổng số đường kiến tạo.\n",
    "  - **Passes**: Tổng số đường chuyền.\n",
    "  - **Passes per match**: Số đường chuyền trung bình mỗi trận. \n",
    "- Ngoài ra, các bộ còn có đặc trưng riêng của mình, lần lượt được thể hiện trong các đoạn code sau đây:"
   ]
  },
  {
   "attachments": {},
   "cell_type": "markdown",
   "metadata": {},
   "source": [
    "---\n",
    "**TIỀN XỬ LÝ DỮ LIỆU: LỌC BỎ CỘT TRÙNG**\n",
    "- Mặc dù trong bộ dữ liệu theo quan sát thì không có thuộc tính nào trùng lặp, nhưng để chắc chắn thì nhóm em vẫn thực hiện việc xóa hết các cột trùng với nhau và in ra số lượng cột sau khi đã lọc trùng đó."
   ]
  },
  {
   "cell_type": "code",
   "execution_count": 146,
   "metadata": {},
   "outputs": [],
   "source": [
    "# Khi quan sát bộ dữ liệu, có một vài thuộc tính trùng, nhóm em xóa hết các thuộc tính \n",
    "# trùng đó và in ra số lượng cuối cùng thuộc tính:\n",
    "\n",
    "# Lọc trùng của midfielder\n",
    "temp = dfMidfielder.T.drop_duplicates().T\n",
    "dfMidfielder = temp\n",
    "\n",
    "# Lọc trùng của defender\n",
    "temp = dfDefender.T.drop_duplicates().T\n",
    "dfDefender = temp\n",
    "\n",
    "# Lọc trùng của forward\n",
    "temp = dfForward.T.drop_duplicates().T\n",
    "dfForward = temp\n",
    "\n",
    "# Lọc trùng của keeper\n",
    "temp = dfKeeper.T.drop_duplicates().T\n",
    "dfKeeper = temp"
   ]
  },
  {
   "cell_type": "code",
   "execution_count": 147,
   "metadata": {},
   "outputs": [
    {
     "name": "stdout",
     "output_type": "stream",
     "text": [
      "['Player name', 'Appearances', 'Goals Overview', 'Wins', 'Losses', 'Headed goals', 'Goals with right foot', 'Goals with left foot', 'Hit woodwork', 'Assists', 'Passes', 'Passes per match', 'Crosses', 'Yellow cards', 'Red cards', 'Fouls', 'Offsides', 'Tackles', 'Blocked shots', 'Interceptions', 'Clearances']\n"
     ]
    }
   ],
   "source": [
    "a = dfMidfielder.columns.to_list()\n",
    "b = dfForward.columns.to_list()\n",
    "c = dfDefender.columns.to_list()\n",
    "\n",
    "d = [ i for i in a if i in b and i in c]\n",
    "print(d)"
   ]
  },
  {
   "cell_type": "code",
   "execution_count": 148,
   "metadata": {},
   "outputs": [
    {
     "name": "stdout",
     "output_type": "stream",
     "text": [
      "Số lượng thuộc tính sau khi lọc của thủ môn: 24\n"
     ]
    },
    {
     "data": {
      "text/plain": [
       "array(['Player name', 'Appearances', 'Clean sheets', 'Wins', 'Losses',\n",
       "       'Saves', 'Penalties Saved', 'Punches', 'High Claims', 'Catches',\n",
       "       'Sweeper clearances', 'Throw outs', 'Goal Kicks', 'Goals Conceded',\n",
       "       'Errors leading to goal', 'Own goals', 'Yellow cards', 'Red cards',\n",
       "       'Fouls', 'Goals', 'Assists', 'Passes', 'Passes per match',\n",
       "       'Accurate long balls'], dtype=object)"
      ]
     },
     "execution_count": 148,
     "metadata": {},
     "output_type": "execute_result"
    }
   ],
   "source": [
    "# Keeper\n",
    "print(\"Số lượng thuộc tính sau khi lọc của thủ môn:\", dfKeeper.columns.size)\n",
    "dfKeeper.columns.to_numpy()"
   ]
  },
  {
   "attachments": {},
   "cell_type": "markdown",
   "metadata": {},
   "source": [
    "- Trong tất cả các mùa giải, thủ môn có các thuộc tính như sau: \n",
    "  - **Clean sheets**: Tổng số trận giữ sạch lưới.\n",
    "  - **Saves**: Tổng số lần cứu thua (cản phá cú sút).\n",
    "  - **Penalties Saved**: Tổng số lần cản phá trên chấm phạt đền.\n",
    "  - **Punches**: Tổng số cú đấm bóng.\n",
    "  - **High Claims**: Tổng số cú bắt bóng từ những đường tạt bóng.\n",
    "  - **Catches**: Tổng số cú bắt dính bóng từ những cú sút.\n",
    "  - **Sweeper Clearances**: Tổng số tình huống cứu thua khi đối đầu trực tiếp với đối phương.\n",
    "  - **Throw Outs**: Tổng số tình huống ném bóng lên.\n",
    "  - **Goal Kicks**: Tổng số tình huống phát bóng lên.\n",
    "  - **Goals Conceded**: Tổng số bàn thua.\n",
    "  - **Errors leading to goal**: Tổng số lỗi dẫn đến bàn thua.\n",
    "  - **Own goals**: Tổng số lần phản lưới nhà.\n",
    "  - **Accurate long balls**: số đường chuyền dài chính xác."
   ]
  },
  {
   "cell_type": "code",
   "execution_count": 149,
   "metadata": {},
   "outputs": [
    {
     "name": "stdout",
     "output_type": "stream",
     "text": [
      "Số lượng thuộc tính sau khi lọc của hậu vệ: 39\n"
     ]
    },
    {
     "data": {
      "text/plain": [
       "array(['Player name', 'Appearances', 'Goals Overview', 'Wins', 'Losses',\n",
       "       'Clean sheets', 'Goals Conceded', 'Tackles', 'Tackle success',\n",
       "       'Last man tackles', 'Blocked shots', 'Interceptions', 'Clearances',\n",
       "       'Headed Clearance', 'Clearances off line', 'Recoveries',\n",
       "       'Duels won', 'Duels lost', 'Successful 50/50s',\n",
       "       'Aerial battles won', 'Aerial battles lost', 'Own goals',\n",
       "       'Errors leading to goal', 'Assists', 'Passes', 'Passes per match',\n",
       "       'Big Chances Created', 'Crosses', 'Cross accuracy',\n",
       "       'Through balls', 'Accurate long balls', 'Yellow cards',\n",
       "       'Red cards', 'Fouls', 'Offsides', 'Headed goals',\n",
       "       'Goals with right foot', 'Goals with left foot', 'Hit woodwork'],\n",
       "      dtype=object)"
      ]
     },
     "execution_count": 149,
     "metadata": {},
     "output_type": "execute_result"
    }
   ],
   "source": [
    "# Defender\n",
    "print(\"Số lượng thuộc tính sau khi lọc của hậu vệ:\", dfDefender.columns.size)\n",
    "dfDefender.columns.to_numpy()"
   ]
  },
  {
   "attachments": {},
   "cell_type": "markdown",
   "metadata": {},
   "source": [
    "- Trong tất cả các mùa giải, hậu vệ có các thuộc tính như sau:   \n",
    "  - Clean sheets $\\Rightarrow$ Tổng số trận giữ sạch lưới.\n",
    "  - Goals Conceded $\\Rightarrow$ Tổng số bàn thua.\n",
    "  - Tackle $\\Rightarrow$ Tổng số lần chủ động đoạt bóng.\n",
    "  - Tackle success $\\Rightarrow$ Tổng số chủ động đoạt bóng bóng thành công.\n",
    "  - Last man tackles $\\Rightarrow$ Tổng số lần tranh chấp bóng thành công với cương vị là cầu thủ phòng thủ cuối cùng.\n",
    "  - Blocked shots $\\Rightarrow$ Tổng số tình huống ngăn cản cú sút của đối thủ.\n",
    "  - Interceptions $\\Rightarrow$ Tổng số tình huống đánh chặn.\n",
    "  - Clearances $\\Rightarrow$ Tổng số tình huống phá bóng lên bằng chân.\n",
    "  - Headed Clearance $\\Rightarrow$ Tổng số tình huống phá bóng lên bằng đầu.\n",
    "  - Clearances off line $\\Rightarrow$ Tổng số tình huống phá bóng lên ở gần vạch vôi.\n",
    "  - Recoveries $\\Rightarrow$ Tổng số tình huống chiếm lại quyền kiểm soát bóng.\n",
    "  - Duels won $\\Rightarrow$ Tổng số tình huống đối đầu thành công.\n",
    "  - Duels lost $\\Rightarrow$ Tổng số tình huống đối đầu thất bại.\n",
    "  - Successful 50/50s $\\Rightarrow$ Tổng số tình huống tranh chấp bóng sống thành công.\n",
    "  - Aerial battles won $\\Rightarrow$ Tổng số tình huống tranh chấp bóng bổng thành công.\n",
    "  - Aerial battles lost $\\Rightarrow$ Tổng số tình huống tranh chấp bóng bổng thất bại.\n",
    "  - Own goals $\\Rightarrow$ Tổng số lần phản lưới nhà.\n",
    "  - Errors leading to goal $\\Rightarrow$ Tổng số lỗi dẫn đến bàn thua.\n",
    "  - Big chance created $\\Rightarrow$ Tổng số những cơ hội thành bàn được tạo ra.\n",
    "  - Crosses $\\Rightarrow$ Tổng số đường tạt bóng.\n",
    "  - Cross accuracy $\\Rightarrow$ Tỉ lệ tạt bóng chính xác.\n",
    "  - Through balls $\\Rightarrow$ Tổng số đường chọc khe.\n",
    "  - Accurate long balls $\\Rightarrow$ Tổng số đường chuyển dài chính xác.\n",
    "  - Offsides $\\Rightarrow$ Tổng số lần rơi vào thế việt vị.\n",
    "  - Headed goals $\\Rightarrow$ Tổng số bàn thắng bằng đầu.\n",
    "  - Goals with right foot $\\Rightarrow$ Tổng số bàn thắng bằng chân phải.\n",
    "  - Goals with left foot $\\Rightarrow$ Tổng số bàn thắng bằng chân trái.\n",
    "  - Hid woodword $\\Rightarrow$ Tổng số cú sút chạm cột dọc hoặc xà ngang."
   ]
  },
  {
   "cell_type": "code",
   "execution_count": 150,
   "metadata": {},
   "outputs": [
    {
     "name": "stdout",
     "output_type": "stream",
     "text": [
      "Số lượng thuộc tính sau khi lọc của tiền đạo: 30\n"
     ]
    },
    {
     "data": {
      "text/plain": [
       "array(['Player name', 'Appearances', 'Goals Overview', 'Wins', 'Losses',\n",
       "       'Goals per match', 'Headed goals', 'Goals with right foot',\n",
       "       'Goals with left foot', 'Penalties scored', 'Freekicks scored',\n",
       "       'Shots', 'Shots on target', 'Shooting accuracy', 'Hit woodwork',\n",
       "       'Big chances missed', 'Assists', 'Passes', 'Passes per match',\n",
       "       'Big Chances Created', 'Crosses', 'Yellow cards', 'Red cards',\n",
       "       'Fouls', 'Offsides', 'Tackles', 'Blocked shots', 'Interceptions',\n",
       "       'Clearances', 'Headed Clearance'], dtype=object)"
      ]
     },
     "execution_count": 150,
     "metadata": {},
     "output_type": "execute_result"
    }
   ],
   "source": [
    "# Forward\n",
    "print(\"Số lượng thuộc tính sau khi lọc của tiền đạo:\", dfForward.columns.size)\n",
    "dfForward.columns.to_numpy()"
   ]
  },
  {
   "attachments": {},
   "cell_type": "markdown",
   "metadata": {},
   "source": [
    "- Trong tất cả các mùa giải, tiền đạo có các thuộc tính như sau: \n",
    "  - Goals per match $\\Rightarrow$ Số bàn thắng trung bình mỗi trận.\n",
    "  - Headed goals $\\Rightarrow$ Tổng số bàn thắng bằng đầu.\n",
    "  - Goals with right foot $\\Rightarrow$ Tổng số bàn thắng bằng chân phải.\n",
    "  - Goals with left foot $\\Rightarrow$ Tổng số bàn thắng bằng chân trái.\n",
    "  - Penalties scored $\\Rightarrow$ Tổng số bàn thắng ghi từ chấm phạt đền.\n",
    "  - Freekicks scored $\\Rightarrow$ Tổng số bàn thắng ghi từ tình huống đá phạt trực tiếp.\n",
    "  - Shots $\\Rightarrow$ Tổng số cú sút.\n",
    "  - Shots on target $\\Rightarrow$ Tổng số cú sút trúng đích.\n",
    "  - Shooting accuracy $\\Rightarrow$ Tỉ lệ chính xác của những cú sút.\n",
    "  - Hit woodwork $\\Rightarrow$ Tổng số cú sút chạm cột dọc hoặc xà ngang.\n",
    "  - Big chances missed $\\Rightarrow$ Tổng những cơ hội thành bàn bị bỏ lỡ.\n",
    "  - Big chance created $\\Rightarrow$ Tổng số những cơ hội thành bàn được tạo ra.\n",
    "  - Crosses $\\Rightarrow$ Tổng số đường tạt bóng.\n",
    "  - Offsides $\\Rightarrow$ Tổng số lần rơi vào thế việt vị.\n",
    "  - Tackle $\\Rightarrow$ Tổng số lần chủ động đoạt bóng.\n",
    "  - Blocked shots $\\Rightarrow$ Tổng số tình huống ngăn cản cú sút của đối thủ.\n",
    "  - Interceptions $\\Rightarrow$ Tổng số tình huống đánh chặn.\n",
    "  - Clearances $\\Rightarrow$ Tổng số tình huống phá bóng lên bằng chân.\n",
    "  - Headed Clearance $\\Rightarrow$ Tổng số tình huống phá bóng lên bằng đầu."
   ]
  },
  {
   "cell_type": "code",
   "execution_count": 151,
   "metadata": {},
   "outputs": [
    {
     "name": "stdout",
     "output_type": "stream",
     "text": [
      "Số lượng thuộc tính sau khi lọc của tiền vệ: 41\n"
     ]
    },
    {
     "data": {
      "text/plain": [
       "array(['Player name', 'Appearances', 'Goals Overview', 'Wins', 'Losses',\n",
       "       'Goals per match', 'Headed goals', 'Goals with right foot',\n",
       "       'Goals with left foot', 'Penalties scored', 'Freekicks scored',\n",
       "       'Shots', 'Shots on target', 'Shooting accuracy %', 'Hit woodwork',\n",
       "       'Big chances missed', 'Assists', 'Passes', 'Passes per match',\n",
       "       'Big chances created', 'Crosses', 'Cross accuracy %',\n",
       "       'Through balls', 'Accurate long balls', 'Yellow cards',\n",
       "       'Red cards', 'Fouls', 'Offsides', 'Tackles', 'Tackle success %',\n",
       "       'Blocked shots', 'Interceptions', 'Clearances',\n",
       "       'Headed clearances', 'Recoveries', 'Duels won', 'Duels lost',\n",
       "       'Succesful 50/50s', 'Aerial battles won', 'Aerial battles lost',\n",
       "       'Errors leading to goal'], dtype=object)"
      ]
     },
     "execution_count": 151,
     "metadata": {},
     "output_type": "execute_result"
    }
   ],
   "source": [
    "# Midfielder\n",
    "print(\"Số lượng thuộc tính sau khi lọc của tiền vệ:\", dfMidfielder.columns.size)\n",
    "dfMidfielder.columns.to_numpy()"
   ]
  },
  {
   "attachments": {},
   "cell_type": "markdown",
   "metadata": {},
   "source": [
    "- Trong tất cả các mùa giải, tiền vệ có các thuộc tính như sau: \n",
    "  - Goals per match $\\Rightarrow$ Số bàn thắng trung bình mỗi trận.\n",
    "  - Headed goals $\\Rightarrow$ Tổng số bàn thắng bằng đầu.\n",
    "  - Goals with right foot $\\Rightarrow$ Tổng số bàn thắng bằng chân phải.\n",
    "  - Goals with left foot $\\Rightarrow$ Tổng số bàn thắng bằng chân trái.\n",
    "  - Penalties scored $\\Rightarrow$ Tổng số bàn thắng ghi từ chấm phạt đền.\n",
    "  - Freekicks scored $\\Rightarrow$ Tổng số bàn thắng ghi từ tình huống đá phạt trực tiếp.\n",
    "  - Shots $\\Rightarrow$ Tổng số cú sút.\n",
    "  - Shots on target $\\Rightarrow$ Tổng số cú sút trúng đích.\n",
    "  - Shooting accuracy %$\\Rightarrow$ Tỉ lệ chính xác của những cú sút.\n",
    "  - Hit woodwork $\\Rightarrow$ Tổng số cú sút chạm cột dọc hoặc xà ngang.\n",
    "  - Big chances missed $\\Rightarrow$ Tổng những cơ hội thành bàn bị bỏ lỡ.\n",
    "  - Crosses $\\Rightarrow$ Tổng số đường tạt bóng.\n",
    "  - Cross accuracy $\\Rightarrow$ Tỉ lệ tạt bóng chính xác.\n",
    "  - Through balls $\\Rightarrow$ Tổng số đường chọc khe.\n",
    "  - Accurate long balls $\\Rightarrow$ Tổng số đường chuyển dài chính xác.\n",
    "  - Offsides $\\Rightarrow$ Tổng số lần rơi vào thế việt vị.\n",
    "  - Tackle $\\Rightarrow$ Tổng số lần chủ động đoạt bóng.\n",
    "  - Blocked shots $\\Rightarrow$ Tổng số tình huống ngăn cản cú sút của đối thủ.\n",
    "  - Interceptions $\\Rightarrow$ Tổng số tình huống đánh chặn.\n",
    "  - Clearances $\\Rightarrow$ Tổng số tình huống phá bóng lên bằng chân.\n",
    "  - Headed Clearance $\\Rightarrow$ Tổng số tình huống phá bóng lên bằng đầu.\n",
    "  - Recoveries $\\Rightarrow$ Tổng số tình huống chiếm lại quyền kiểm soát bóng.\n",
    "  - Duels won $\\Rightarrow$ Tổng số tình huống đối đầu thành công.\n",
    "  - Duels lost $\\Rightarrow$ Tổng số tình huống đối đầu thất bại.\n",
    "  - Successful 50/50s $\\Rightarrow$ Tổng số tình huống tranh chấp bóng sống thành công.\n",
    "  - Aerial battles won $\\Rightarrow$ Tổng số tình huống tranh chấp bóng bổng thành công.\n",
    "  - Aerial battles lost $\\Rightarrow$ Tổng số tình huống tranh chấp bóng bổng thất bại.\n",
    "  - Own goals $\\Rightarrow$ Tổng số lần phản lưới nhà.\n",
    "  - Errors leading to goal $\\Rightarrow$ Tổng số lỗi dẫn đến bàn thua."
   ]
  },
  {
   "attachments": {},
   "cell_type": "markdown",
   "metadata": {},
   "source": [
    "- Ở bộ dữ liệu nào cũng có thuộc tính suy diễn (có thể tính toán, suy ra từ các thuộc tính khác), nhóm em xóa các thuộc tính đó để có bộ dữ liệu đạt chuẩn hơn.\n",
    "  - Thuộc tính suy diễn của thủ môn: Passes per match (= Passes / Appearances)\n",
    "  - Thuộc tính suy diễn của hậu vệ: Passes per match (= Passes / Appearances)\n",
    "  - Thuộc tính suy diễn của tiền vệ: Goals per match (= Goals / Appearances), Passes per match (= Passes / Appearances)\n",
    "  - Thuộc tính suy diễn của tiền đạo: Goals per match (= Goals / Appearances), Passes per match (= Passes / Appearances)\n",
    "- Dữ liệu không sử dụng đến cho các tác vụ phía sau: \n",
    "  - s\n",
    "---\n",
    "**TIỀN XỬ LÝ DỮ LIỆU: BỎ THUỘC TÍNH SUY DIỄN, THUỘC TÍNH KHÔNG CẦN THIẾT:**"
   ]
  },
  {
   "cell_type": "code",
   "execution_count": 152,
   "metadata": {},
   "outputs": [],
   "source": [
    "# CODE HERE - Dùng drop column - Thủ môn, trung vệ,...\n",
    "dfKeeper.drop('Passes per match', axis = 1, inplace = True)\n",
    "dfDefender.drop('Passes per match', axis = 1, inplace = True)\n",
    "dfMidfielder.drop('Goals per match', axis = 1, inplace = True)\n",
    "dfForward.drop('Goals per match', axis = 1, inplace = True)\n",
    "dfMidfielder.drop('Passes per match', axis = 1, inplace = True)\n",
    "dfForward.drop('Passes per match', axis = 1, inplace = True)"
   ]
  },
  {
   "attachments": {},
   "cell_type": "markdown",
   "metadata": {},
   "source": [
    "#### **3. Có sự lặp lại của các hàng không? Nếu có thì hãy chỉ ra sự trùng lắp đó.**\n",
    "- Bộ dữ liệu được lấy từ 2 mùa giải gần nhất để đánh giá nên sẽ có một số cầu thủ bị trùng lắp không hoàn toàn hoặc bị trùng lắp hoàn toàn:\n",
    "- **Sự trùng lắp hoàn toàn:** Các dòng giống nhau hoàn toàn, chỉ số và tên không thay đổi.\n",
    "- **Sự trùng lắp không hoàn toàn**: Sự trùng lắp về tên, các thuộc tính khác hoàn toàn (hoặc giống hoàn toàn). Lý giải cho việc đó là có một số cầu thủ năm trước sẽ đá lại cho năm sau làm cho thuộc tính thay đổi.\n",
    "- Vì dữ liệu theo hướng thực tế, cập nhật mỗi năm nên nhóm em chỉ lấy các cầu thủ xuất hiện đầu tiên (vì các thuộc tính mới nhất nằm ở đầu tiên vì phần tử đầu tiên được lấy từ bộ dữ liệu năm mới nhất), các cầu thủ trùng phía sau bị loại bỏ hết trong bộ dữ liệu:"
   ]
  },
  {
   "attachments": {},
   "cell_type": "markdown",
   "metadata": {},
   "source": [
    "---\n",
    "**TIỀN XỬ LÝ DỮ LIỆU: XÓA CÁC HÀNG TRÙNG:**"
   ]
  },
  {
   "cell_type": "code",
   "execution_count": 153,
   "metadata": {},
   "outputs": [
    {
     "name": "stdout",
     "output_type": "stream",
     "text": [
      "328\n",
      "356\n",
      "208\n",
      "117\n"
     ]
    }
   ],
   "source": [
    "# Loại bỏ kiểu dữ liệu trùng lắp hoàn toàn trước:\n",
    "# Tui tưởng trùng tên là loại th chứ trùng lắp hoàn toàn với k hoàn toàn làm gì á .-.\n",
    "# CODE HERE - drop duplicate, đếm số dòng unique (dùng nunique) cho 4 vị trí.\n",
    "dfDefender.drop_duplicates(subset=['Player name'], inplace = True)\n",
    "print(dfDefender.shape[0])\n",
    "\n",
    "dfMidfielder.drop_duplicates(subset=['Player name'], inplace = True)\n",
    "print(dfMidfielder.shape[0])\n",
    "\n",
    "dfForward.drop_duplicates(subset=['Player name'], inplace = True)\n",
    "print(dfForward.shape[0])\n",
    "\n",
    "dfKeeper.drop_duplicates(subset=['Player name'], inplace = True)\n",
    "print(dfKeeper.shape[0])"
   ]
  },
  {
   "attachments": {},
   "cell_type": "markdown",
   "metadata": {},
   "source": [
    "- Vậy với vị trí:\n",
    "  - Hậu vệ, ta có: 328 cầu thủ.\n",
    "  - Tiền vệ, ta có: 356 cầu thủ.\n",
    "  - Tiền đạo, ta có: 208 cầu thủ.\n",
    "  - Thủ môn, ta có: 117 cầu thủ."
   ]
  },
  {
   "attachments": {},
   "cell_type": "markdown",
   "metadata": {},
   "source": [
    "#### **4. Kiểu dữ liệu của mỗi cột là gì?**\n",
    "- Để xử lý được cho các bước tiếp theo, nhóm em xác định các kiểu dữ liệu của mỗi cột dựa vào các mô tả thuộc tính ở trên, bắt đầu ở thuộc tính chung của các bộ (kiểu dữ liệu mong muốn):\n",
    "  - **Player name**:              `string`\n",
    "  - **Appearances**:              `int`\n",
    "  - **Goals Overview**:           `int`\n",
    "  - **Wins**:                     `int`\n",
    "  - **Losses**:                   `int`\n",
    "  - **Yellow cards**:             `int`\n",
    "  - **Red cards**:                `int`\n",
    "  - **Assists**:                  `int`\n",
    "  - **Passes**:                   `int`\n",
    "- Ứng với mỗi vị trí, các thuộc tính ứng với kiểu dữ liệu sau đây:\n"
   ]
  },
  {
   "attachments": {},
   "cell_type": "markdown",
   "metadata": {},
   "source": [
    "KIỂU DỮ LIỆU CỦA THỦ MÔN\n",
    "- **Clean sheets**           `int`\n",
    "- **Saves**                  `int`\n",
    "- **Penalties Saved**        `int`    \n",
    "- **Punches**                `int`\n",
    "- **High Claims**            `int`\n",
    "- **Catches**                `int`\n",
    "- **Sweeper Clearances**     `int`        \n",
    "- **Throw Outs**             `int`\n",
    "- **Goal Kicks**             `int`\n",
    "- **Goals Conceded**         `int`    \n",
    "- **Errors leading to goal** `int`            \n",
    "- **Own goals**              `int`\n",
    "- **Accurate long balls**    `int`                                                \n"
   ]
  },
  {
   "attachments": {},
   "cell_type": "markdown",
   "metadata": {},
   "source": [
    "KIỂU DỮ LIỆU CỦA TIỀN VỆ\n",
    "- **Headed goals**              `int`        \n",
    "- **Goals with right foot**     `int`\n",
    "- **Goals with left foot**      `int`\n",
    "- **Penalties scored**          `int`\n",
    "- **Freekicks scored**          `int`\n",
    "- **Shots**                     `int`\n",
    "- **Shots on target**           `int`\n",
    "- **Shooting accuracy %**       `float`\n",
    "- **Hit woodwork**              `int`\n",
    "- **Big chances missed**        `int`\n",
    "- **Assists**                   `int`\n",
    "- **Passes**                    `int`\n",
    "- **Big chances created**       `int`\n",
    "- **Crosses**                   `int`\n",
    "- **Cross accuracy %**          `int`\n",
    "- **Through balls**             `int`\n",
    "- **Accurate long balls**       `int`\n",
    "- **Offsides**                  `int`\n",
    "- **Tackles**                   `int`\n",
    "- **Tackle success %**          `int`\n",
    "- **Blocked shots**             `int`\n",
    "- **Interceptions**             `int`\n",
    "- **Clearances**                `int`\n",
    "- **Headed clearances**         `int`\n",
    "- **Recoveries**                `int`\n",
    "- **Duels won**                 `int`\n",
    "- **Duels lost**                `int`\n",
    "- **Succesful 50/50s**          `int`\n",
    "- **Aerial battles won**        `int`\n",
    "- **Aerial battles lost**       `int`\n",
    "- **Errors leading to goal**    `int`"
   ]
  },
  {
   "cell_type": "code",
   "execution_count": 154,
   "metadata": {},
   "outputs": [
    {
     "data": {
      "text/plain": [
       "Index(['Player name', 'Appearances', 'Goals Overview', 'Wins', 'Losses',\n",
       "       'Headed goals', 'Goals with right foot', 'Goals with left foot',\n",
       "       'Penalties scored', 'Freekicks scored', 'Shots', 'Shots on target',\n",
       "       'Shooting accuracy %', 'Hit woodwork', 'Big chances missed', 'Assists',\n",
       "       'Passes', 'Big chances created', 'Crosses', 'Cross accuracy %',\n",
       "       'Through balls', 'Accurate long balls', 'Yellow cards', 'Red cards',\n",
       "       'Fouls', 'Offsides', 'Tackles', 'Tackle success %', 'Blocked shots',\n",
       "       'Interceptions', 'Clearances', 'Headed clearances', 'Recoveries',\n",
       "       'Duels won', 'Duels lost', 'Succesful 50/50s', 'Aerial battles won',\n",
       "       'Aerial battles lost', 'Errors leading to goal'],\n",
       "      dtype='object')"
      ]
     },
     "execution_count": 154,
     "metadata": {},
     "output_type": "execute_result"
    }
   ],
   "source": [
    "dfMidfielder.columns\n"
   ]
  },
  {
   "cell_type": "code",
   "execution_count": 155,
   "metadata": {},
   "outputs": [],
   "source": [
    "# CODE HERE - IN KIỂU DỮ LIỆU HIỆN TẠI..."
   ]
  },
  {
   "cell_type": "code",
   "execution_count": 156,
   "metadata": {},
   "outputs": [],
   "source": [
    "# CODE HERE - IN KIỂU DỮ LIỆU HIỆN TẠI..."
   ]
  },
  {
   "cell_type": "code",
   "execution_count": 157,
   "metadata": {},
   "outputs": [],
   "source": [
    "# CODE HERE - IN KIỂU DỮ LIỆU HIỆN TẠI..."
   ]
  },
  {
   "attachments": {},
   "cell_type": "markdown",
   "metadata": {},
   "source": [
    "- Kiểu dữ liệu mong muốn để xử lý vị trí mỗi cầu thủ (này để Nguyên xử lý)"
   ]
  },
  {
   "cell_type": "markdown",
   "metadata": {},
   "source": [
    "#### Task 2: \n",
    "- Liệt kê các cột bị thiếu (List chứa tên cột có dữ liệu rỗng, thiếu, Nan)\n",
    "- Liệt kê các dòng bị thiếu (như trên)\n",
    "- Điền các dòng, thiếu đó thành giá trị NaN của Pandas.\n",
    "- Có hàng nào bị trùng lắp dữ liệu không?\n",
    "  - Trên bộ dữ liệu có một số cầu thủ (sau dòng 980) trở đi là bị trùng lắp về tên nhưng không trùng lắp về thuộc tính. Thực hiện loại bỏ các cầu thủ có cùng tên nhưng xuất hiện ở lần thứ 2 (cầu thủ xuất hiện lần thứ 2 thì bỏ).\n",
    "- Yêu cầu: Làm bằng thư viện Pandas."
   ]
  },
  {
   "cell_type": "markdown",
   "metadata": {},
   "source": [
    "#### Task 3: Data Preprocessing\n",
    "- Loại bỏ các kí hiệu, các kí tự đặc biệt '/n', '/t', '%',... trong các cột dữ liệu.\n",
    "- Chuyển đổi kiểu dữ liệu sao cho phù hợp với bài và để tính toán về sau (kiểu dữ liệu của Pandas).\n",
    "- In ra những dòng trống, rỗng, NaN, toàn bộ là 0 và thuộc tính tương ứng của nó để bổ sung sau.\n",
    "- Điền giá trị thiếu bằng phương pháp constant (điền giá trị 0), mean, median vào giá trị thiếu cho cột numeric, và mode cho cột categorical, làm tròn ở 2 chữ số thập phân."
   ]
  },
  {
   "cell_type": "code",
   "execution_count": 158,
   "metadata": {},
   "outputs": [
    {
     "data": {
      "text/plain": [
       "False    230\n",
       "True     126\n",
       "Name: Appearances, dtype: int64"
      ]
     },
     "execution_count": 158,
     "metadata": {},
     "output_type": "execute_result"
    }
   ],
   "source": [
    "(dfMidfielder['Appearances'] == 0).value_counts()"
   ]
  },
  {
   "cell_type": "code",
   "execution_count": 159,
   "metadata": {},
   "outputs": [
    {
     "data": {
      "text/plain": [
       "False    205\n",
       "True     123\n",
       "Name: Appearances, dtype: int64"
      ]
     },
     "execution_count": 159,
     "metadata": {},
     "output_type": "execute_result"
    }
   ],
   "source": [
    "(dfDefender['Appearances'] == 0).value_counts()"
   ]
  },
  {
   "cell_type": "code",
   "execution_count": 160,
   "metadata": {},
   "outputs": [
    {
     "data": {
      "text/plain": [
       "False    155\n",
       "True      53\n",
       "Name: Appearances, dtype: int64"
      ]
     },
     "execution_count": 160,
     "metadata": {},
     "output_type": "execute_result"
    }
   ],
   "source": [
    "(dfForward['Appearances'] == 0).value_counts()"
   ]
  },
  {
   "cell_type": "code",
   "execution_count": 161,
   "metadata": {},
   "outputs": [
    {
     "data": {
      "text/plain": [
       "True     60\n",
       "False    57\n",
       "Name: Appearances, dtype: int64"
      ]
     },
     "execution_count": 161,
     "metadata": {},
     "output_type": "execute_result"
    }
   ],
   "source": [
    "(dfKeeper['Appearances'] == 0).value_counts()"
   ]
  }
 ],
 "metadata": {
  "kernelspec": {
   "display_name": "Python 3",
   "language": "python",
   "name": "python3"
  },
  "language_info": {
   "codemirror_mode": {
    "name": "ipython",
    "version": 3
   },
   "file_extension": ".py",
   "mimetype": "text/x-python",
   "name": "python",
   "nbconvert_exporter": "python",
   "pygments_lexer": "ipython3",
   "version": "3.10.6"
  },
  "orig_nbformat": 4,
  "vscode": {
   "interpreter": {
    "hash": "916dbcbb3f70747c44a77c7bcd40155683ae19c65e1c03b4aa3499c5328201f1"
   }
  }
 },
 "nbformat": 4,
 "nbformat_minor": 2
}

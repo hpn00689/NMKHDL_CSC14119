{
 "cells": [
  {
   "attachments": {},
   "cell_type": "markdown",
   "metadata": {},
   "source": [
    "# <p style=\"text-align:center\"> **GIAI ĐOẠN 4: XÂY DỰNG VÀ ĐÁNH GIÁ MÔ HÌNH** </p>\n"
   ]
  },
  {
   "attachments": {},
   "cell_type": "markdown",
   "metadata": {},
   "source": [
    "### <p style=\"text-align:center\"> **I. IMPORT THƯ VIỆN CẦN THIẾT** </p>"
   ]
  },
  {
   "cell_type": "code",
   "execution_count": 96,
   "metadata": {},
   "outputs": [],
   "source": [
    "# Import thư viện cần thiết để thao tác dữ liệu\n",
    "import pandas as pd\n",
    "import numpy as np \n",
    "\n",
    "# Import thư viện để trực quan những kết quả tìm hiểu được:\n",
    "import matplotlib.pyplot as plt\n",
    "\n",
    "#Import thư viện hỗ trợ xây dựng mô hình\n",
    "from sklearn.model_selection import train_test_split, cross_val_predict, cross_val_score,KFold, RepeatedStratifiedKFold, GridSearchCV, RandomizedSearchCV\n",
    "\n",
    "from sklearn.linear_model import LogisticRegression, SGDClassifier\n",
    "from sklearn.ensemble import RandomForestClassifier, GradientBoostingClassifier, AdaBoostClassifier, BaggingClassifier, ExtraTreesClassifier\n",
    "from sklearn.discriminant_analysis import LinearDiscriminantAnalysis\n",
    "from sklearn.neighbors import KNeighborsClassifier\n",
    "from sklearn.tree import DecisionTreeClassifier\n",
    "from sklearn.naive_bayes import GaussianNB\n",
    "from sklearn.svm import SVC\n",
    "\n",
    "from sklearn.metrics import accuracy_score, precision_score, recall_score, f1_score, classification_report\n",
    "\n",
    "from sklearn.metrics import mean_squared_error"
   ]
  },
  {
   "cell_type": "code",
   "execution_count": 97,
   "metadata": {},
   "outputs": [],
   "source": [
    "#Lấy các biến từ pha trước vào\n",
    "%store -r dfMidfielder\n",
    "%store -r dfKeeper\n",
    "%store -r dfForward\n",
    "%store -r dfDefender"
   ]
  },
  {
   "cell_type": "code",
   "execution_count": 98,
   "metadata": {},
   "outputs": [],
   "source": [
    "#Lưu trữ các biến lại để tránh bị dính các note ở các giá trị chưa được khai báo \n",
    "dfMidfieder = dfMidfielder\n",
    "dfKeeper = dfKeeper\n",
    "dfForward = dfForward\n",
    "dfDefender = dfDefender"
   ]
  },
  {
   "attachments": {},
   "cell_type": "markdown",
   "metadata": {},
   "source": [
    "### <p style=\"text-align:center\"> **II.XỬ LÍ DỮ LIỆU ĐỂ PHÙ HỢP XÂY DỰNG MÔ HÌNH** </p>"
   ]
  },
  {
   "attachments": {},
   "cell_type": "markdown",
   "metadata": {},
   "source": [
    "Đầu tiên, vì tính chất của bộ dữ liệu không đồng nhất về các cột đặc điểm, ta sẽ không sử dụng dữ liệu của các thủ môn để xây dựng mô hình. Kế tiếp, vì các đặc điểm của tiền vệ, hậu vệ, tiền đạo cũng không đồng nhất; ta chỉ sử dụng những đặc tính chung của loại cầu thủ đó mà thôi."
   ]
  },
  {
   "cell_type": "code",
   "execution_count": 99,
   "metadata": {},
   "outputs": [
    {
     "name": "stdout",
     "output_type": "stream",
     "text": [
      "['Player name', 'Appearances', 'Wins', 'Losses', 'Headed goals', 'Goals with right foot', 'Goals with left foot', 'Hit woodwork', 'Assists', 'Passes', 'Big chances created', 'Crosses', 'Yellow cards', 'Red cards', 'Fouls', 'Offsides', 'Tackles', 'Blocked shots', 'Interceptions', 'Clearances']\n"
     ]
    }
   ],
   "source": [
    "#Lấy các thuộc tính giống nhau trong 3 bộ dữ liệu của tiền vệ, tiền đạo và hậu vệ\n",
    "colMidfielder = dfMidfieder.columns\n",
    "colForward = dfForward.columns\n",
    "colDefender = dfDefender.columns\n",
    "\n",
    "same = [i for i in colMidfielder if i in colForward and i in colDefender]\n",
    "print(same)"
   ]
  },
  {
   "cell_type": "code",
   "execution_count": 100,
   "metadata": {},
   "outputs": [],
   "source": [
    "#Loại bỏ các cột dữ liệu dư thừa\n",
    "dfDefender = dfDefender[dfDefender.columns.intersection(same)]\n",
    "dfForward = dfForward[dfForward.columns.intersection(same)]\n",
    "dfMidfieder = dfMidfieder[dfMidfieder.columns.intersection(same)]"
   ]
  },
  {
   "cell_type": "code",
   "execution_count": 101,
   "metadata": {},
   "outputs": [
    {
     "name": "stderr",
     "output_type": "stream",
     "text": [
      "C:\\Users\\ADMIN\\AppData\\Local\\Temp\\ipykernel_20892\\2615243928.py:2: SettingWithCopyWarning: \n",
      "A value is trying to be set on a copy of a slice from a DataFrame.\n",
      "Try using .loc[row_indexer,col_indexer] = value instead\n",
      "\n",
      "See the caveats in the documentation: https://pandas.pydata.org/pandas-docs/stable/user_guide/indexing.html#returning-a-view-versus-a-copy\n",
      "  dfDefender['Position'] = 'DF'\n",
      "C:\\Users\\ADMIN\\AppData\\Local\\Temp\\ipykernel_20892\\2615243928.py:3: SettingWithCopyWarning: \n",
      "A value is trying to be set on a copy of a slice from a DataFrame.\n",
      "Try using .loc[row_indexer,col_indexer] = value instead\n",
      "\n",
      "See the caveats in the documentation: https://pandas.pydata.org/pandas-docs/stable/user_guide/indexing.html#returning-a-view-versus-a-copy\n",
      "  dfForward['Position'] = 'FW'\n",
      "C:\\Users\\ADMIN\\AppData\\Local\\Temp\\ipykernel_20892\\2615243928.py:4: SettingWithCopyWarning: \n",
      "A value is trying to be set on a copy of a slice from a DataFrame.\n",
      "Try using .loc[row_indexer,col_indexer] = value instead\n",
      "\n",
      "See the caveats in the documentation: https://pandas.pydata.org/pandas-docs/stable/user_guide/indexing.html#returning-a-view-versus-a-copy\n",
      "  dfMidfieder['Position'] = 'MF'\n"
     ]
    }
   ],
   "source": [
    "#Thêm một cột vị trí ở cuối cùng\n",
    "dfDefender['Position'] = 'DF'\n",
    "dfForward['Position'] = 'FW'\n",
    "dfMidfieder['Position'] = 'MF'"
   ]
  },
  {
   "cell_type": "code",
   "execution_count": 102,
   "metadata": {},
   "outputs": [],
   "source": [
    "#Gộp ba bảng lại thành một dataframe thống nhất\n",
    "df = pd.concat([dfDefender, dfForward, dfMidfieder], ignore_index=True)"
   ]
  },
  {
   "cell_type": "code",
   "execution_count": 103,
   "metadata": {},
   "outputs": [
    {
     "data": {
      "text/plain": [
       "(908, 21)"
      ]
     },
     "execution_count": 103,
     "metadata": {},
     "output_type": "execute_result"
    }
   ],
   "source": [
    "#Kiểm tra kích cỡ của bộ dữ liệu\n",
    "df.shape"
   ]
  },
  {
   "cell_type": "code",
   "execution_count": 104,
   "metadata": {},
   "outputs": [],
   "source": [
    "#Loại bỏ cột tên (không cần thiết cho việc xây dựng mô hình)\n",
    "df.drop(columns = 'Player name', inplace=True)"
   ]
  },
  {
   "attachments": {},
   "cell_type": "markdown",
   "metadata": {},
   "source": [
    "Đưa dữ liệu về dạng trung bình mỗi trận đấu để khoảng cách giữa dữ liệu của các cầu thủ mới chơi\n",
    "và các cầu thủ lâu năm không bị quá lệch nhau"
   ]
  },
  {
   "cell_type": "code",
   "execution_count": 105,
   "metadata": {},
   "outputs": [],
   "source": [
    "#Cầu thủ chưa ra sân nhưng lại có dữ liệu thi đấu (lỗi của data)\n",
    "df.drop([723], inplace = True)\n"
   ]
  },
  {
   "cell_type": "code",
   "execution_count": 106,
   "metadata": {},
   "outputs": [],
   "source": [
    "y = df['Position']\n",
    "y.replace({'FW': 1, 'MF': 2, 'DF': 3}, inplace = True)\n",
    "df.drop(columns='Position', inplace=True)"
   ]
  },
  {
   "cell_type": "code",
   "execution_count": 107,
   "metadata": {},
   "outputs": [
    {
     "data": {
      "text/plain": [
       "Wins                     float64\n",
       "Losses                   float64\n",
       "Tackles                  float64\n",
       "Blocked shots            float64\n",
       "Interceptions            float64\n",
       "Clearances               float64\n",
       "Assists                  float64\n",
       "Passes                   float64\n",
       "Big chances created      float64\n",
       "Crosses                  float64\n",
       "Yellow cards             float64\n",
       "Red cards                float64\n",
       "Fouls                    float64\n",
       "Offsides                 float64\n",
       "Headed goals             float64\n",
       "Goals with right foot    float64\n",
       "Goals with left foot     float64\n",
       "Hit woodwork             float64\n",
       "dtype: object"
      ]
     },
     "execution_count": 107,
     "metadata": {},
     "output_type": "execute_result"
    }
   ],
   "source": [
    "new_df = df.iloc[:,1:].apply(lambda x: round(x / df.Appearances, 2))\n",
    "new_df.dtypes"
   ]
  },
  {
   "cell_type": "code",
   "execution_count": 108,
   "metadata": {},
   "outputs": [
    {
     "data": {
      "text/html": [
       "<div>\n",
       "<style scoped>\n",
       "    .dataframe tbody tr th:only-of-type {\n",
       "        vertical-align: middle;\n",
       "    }\n",
       "\n",
       "    .dataframe tbody tr th {\n",
       "        vertical-align: top;\n",
       "    }\n",
       "\n",
       "    .dataframe thead th {\n",
       "        text-align: right;\n",
       "    }\n",
       "</style>\n",
       "<table border=\"1\" class=\"dataframe\">\n",
       "  <thead>\n",
       "    <tr style=\"text-align: right;\">\n",
       "      <th></th>\n",
       "      <th>Wins</th>\n",
       "      <th>Losses</th>\n",
       "      <th>Tackles</th>\n",
       "      <th>Blocked shots</th>\n",
       "      <th>Interceptions</th>\n",
       "      <th>Clearances</th>\n",
       "      <th>Assists</th>\n",
       "      <th>Passes</th>\n",
       "      <th>Big chances created</th>\n",
       "      <th>Crosses</th>\n",
       "      <th>Yellow cards</th>\n",
       "      <th>Red cards</th>\n",
       "      <th>Fouls</th>\n",
       "      <th>Offsides</th>\n",
       "      <th>Headed goals</th>\n",
       "      <th>Goals with right foot</th>\n",
       "      <th>Goals with left foot</th>\n",
       "      <th>Hit woodwork</th>\n",
       "    </tr>\n",
       "  </thead>\n",
       "  <tbody>\n",
       "    <tr>\n",
       "      <th>0</th>\n",
       "      <td>0.39</td>\n",
       "      <td>0.40</td>\n",
       "      <td>1.18</td>\n",
       "      <td>0.23</td>\n",
       "      <td>0.70</td>\n",
       "      <td>1.28</td>\n",
       "      <td>0.06</td>\n",
       "      <td>28.00</td>\n",
       "      <td>0.09</td>\n",
       "      <td>1.15</td>\n",
       "      <td>0.11</td>\n",
       "      <td>0.0</td>\n",
       "      <td>0.71</td>\n",
       "      <td>0.11</td>\n",
       "      <td>0.01</td>\n",
       "      <td>0.04</td>\n",
       "      <td>0.03</td>\n",
       "      <td>0.02</td>\n",
       "    </tr>\n",
       "    <tr>\n",
       "      <th>1</th>\n",
       "      <td>0.21</td>\n",
       "      <td>0.44</td>\n",
       "      <td>1.12</td>\n",
       "      <td>0.07</td>\n",
       "      <td>1.23</td>\n",
       "      <td>5.60</td>\n",
       "      <td>0.00</td>\n",
       "      <td>55.44</td>\n",
       "      <td>0.00</td>\n",
       "      <td>0.07</td>\n",
       "      <td>0.02</td>\n",
       "      <td>0.0</td>\n",
       "      <td>0.51</td>\n",
       "      <td>0.05</td>\n",
       "      <td>0.02</td>\n",
       "      <td>0.00</td>\n",
       "      <td>0.00</td>\n",
       "      <td>0.00</td>\n",
       "    </tr>\n",
       "    <tr>\n",
       "      <th>2</th>\n",
       "      <td>0.39</td>\n",
       "      <td>0.40</td>\n",
       "      <td>1.18</td>\n",
       "      <td>0.23</td>\n",
       "      <td>0.70</td>\n",
       "      <td>1.28</td>\n",
       "      <td>0.06</td>\n",
       "      <td>28.00</td>\n",
       "      <td>0.09</td>\n",
       "      <td>1.15</td>\n",
       "      <td>0.11</td>\n",
       "      <td>0.0</td>\n",
       "      <td>0.71</td>\n",
       "      <td>0.11</td>\n",
       "      <td>0.01</td>\n",
       "      <td>0.04</td>\n",
       "      <td>0.03</td>\n",
       "      <td>0.02</td>\n",
       "    </tr>\n",
       "    <tr>\n",
       "      <th>3</th>\n",
       "      <td>0.39</td>\n",
       "      <td>0.40</td>\n",
       "      <td>1.18</td>\n",
       "      <td>0.23</td>\n",
       "      <td>0.70</td>\n",
       "      <td>1.28</td>\n",
       "      <td>0.06</td>\n",
       "      <td>28.00</td>\n",
       "      <td>0.09</td>\n",
       "      <td>1.15</td>\n",
       "      <td>0.11</td>\n",
       "      <td>0.0</td>\n",
       "      <td>0.71</td>\n",
       "      <td>0.11</td>\n",
       "      <td>0.01</td>\n",
       "      <td>0.04</td>\n",
       "      <td>0.03</td>\n",
       "      <td>0.02</td>\n",
       "    </tr>\n",
       "    <tr>\n",
       "      <th>4</th>\n",
       "      <td>0.00</td>\n",
       "      <td>1.00</td>\n",
       "      <td>1.00</td>\n",
       "      <td>0.00</td>\n",
       "      <td>1.00</td>\n",
       "      <td>1.00</td>\n",
       "      <td>0.00</td>\n",
       "      <td>49.00</td>\n",
       "      <td>0.00</td>\n",
       "      <td>0.00</td>\n",
       "      <td>0.00</td>\n",
       "      <td>0.0</td>\n",
       "      <td>0.00</td>\n",
       "      <td>0.00</td>\n",
       "      <td>0.00</td>\n",
       "      <td>0.00</td>\n",
       "      <td>0.00</td>\n",
       "      <td>0.00</td>\n",
       "    </tr>\n",
       "    <tr>\n",
       "      <th>...</th>\n",
       "      <td>...</td>\n",
       "      <td>...</td>\n",
       "      <td>...</td>\n",
       "      <td>...</td>\n",
       "      <td>...</td>\n",
       "      <td>...</td>\n",
       "      <td>...</td>\n",
       "      <td>...</td>\n",
       "      <td>...</td>\n",
       "      <td>...</td>\n",
       "      <td>...</td>\n",
       "      <td>...</td>\n",
       "      <td>...</td>\n",
       "      <td>...</td>\n",
       "      <td>...</td>\n",
       "      <td>...</td>\n",
       "      <td>...</td>\n",
       "      <td>...</td>\n",
       "    </tr>\n",
       "    <tr>\n",
       "      <th>903</th>\n",
       "      <td>0.47</td>\n",
       "      <td>0.27</td>\n",
       "      <td>0.78</td>\n",
       "      <td>0.67</td>\n",
       "      <td>0.45</td>\n",
       "      <td>0.22</td>\n",
       "      <td>0.12</td>\n",
       "      <td>26.88</td>\n",
       "      <td>0.29</td>\n",
       "      <td>3.47</td>\n",
       "      <td>0.12</td>\n",
       "      <td>0.0</td>\n",
       "      <td>0.86</td>\n",
       "      <td>0.18</td>\n",
       "      <td>0.00</td>\n",
       "      <td>0.00</td>\n",
       "      <td>0.12</td>\n",
       "      <td>0.04</td>\n",
       "    </tr>\n",
       "    <tr>\n",
       "      <th>904</th>\n",
       "      <td>0.63</td>\n",
       "      <td>0.25</td>\n",
       "      <td>1.11</td>\n",
       "      <td>0.63</td>\n",
       "      <td>0.24</td>\n",
       "      <td>0.32</td>\n",
       "      <td>0.13</td>\n",
       "      <td>41.38</td>\n",
       "      <td>0.21</td>\n",
       "      <td>2.00</td>\n",
       "      <td>0.10</td>\n",
       "      <td>0.0</td>\n",
       "      <td>0.63</td>\n",
       "      <td>0.06</td>\n",
       "      <td>0.02</td>\n",
       "      <td>0.03</td>\n",
       "      <td>0.17</td>\n",
       "      <td>0.03</td>\n",
       "    </tr>\n",
       "    <tr>\n",
       "      <th>905</th>\n",
       "      <td>0.27</td>\n",
       "      <td>0.42</td>\n",
       "      <td>1.69</td>\n",
       "      <td>0.28</td>\n",
       "      <td>1.94</td>\n",
       "      <td>1.21</td>\n",
       "      <td>0.05</td>\n",
       "      <td>33.68</td>\n",
       "      <td>0.03</td>\n",
       "      <td>0.92</td>\n",
       "      <td>0.18</td>\n",
       "      <td>0.0</td>\n",
       "      <td>1.04</td>\n",
       "      <td>0.03</td>\n",
       "      <td>0.00</td>\n",
       "      <td>0.01</td>\n",
       "      <td>0.01</td>\n",
       "      <td>0.01</td>\n",
       "    </tr>\n",
       "    <tr>\n",
       "      <th>906</th>\n",
       "      <td>0.43</td>\n",
       "      <td>0.35</td>\n",
       "      <td>1.67</td>\n",
       "      <td>0.18</td>\n",
       "      <td>1.37</td>\n",
       "      <td>0.51</td>\n",
       "      <td>0.10</td>\n",
       "      <td>51.49</td>\n",
       "      <td>0.10</td>\n",
       "      <td>2.02</td>\n",
       "      <td>0.10</td>\n",
       "      <td>0.0</td>\n",
       "      <td>0.86</td>\n",
       "      <td>0.00</td>\n",
       "      <td>0.00</td>\n",
       "      <td>0.00</td>\n",
       "      <td>0.00</td>\n",
       "      <td>0.02</td>\n",
       "    </tr>\n",
       "    <tr>\n",
       "      <th>907</th>\n",
       "      <td>0.39</td>\n",
       "      <td>0.40</td>\n",
       "      <td>1.18</td>\n",
       "      <td>0.23</td>\n",
       "      <td>0.70</td>\n",
       "      <td>1.28</td>\n",
       "      <td>0.06</td>\n",
       "      <td>28.00</td>\n",
       "      <td>0.09</td>\n",
       "      <td>1.15</td>\n",
       "      <td>0.11</td>\n",
       "      <td>0.0</td>\n",
       "      <td>0.71</td>\n",
       "      <td>0.11</td>\n",
       "      <td>0.01</td>\n",
       "      <td>0.04</td>\n",
       "      <td>0.03</td>\n",
       "      <td>0.02</td>\n",
       "    </tr>\n",
       "  </tbody>\n",
       "</table>\n",
       "<p>907 rows × 18 columns</p>\n",
       "</div>"
      ],
      "text/plain": [
       "     Wins  Losses  Tackles  Blocked shots  Interceptions  Clearances  Assists  \\\n",
       "0    0.39    0.40     1.18           0.23           0.70        1.28     0.06   \n",
       "1    0.21    0.44     1.12           0.07           1.23        5.60     0.00   \n",
       "2    0.39    0.40     1.18           0.23           0.70        1.28     0.06   \n",
       "3    0.39    0.40     1.18           0.23           0.70        1.28     0.06   \n",
       "4    0.00    1.00     1.00           0.00           1.00        1.00     0.00   \n",
       "..    ...     ...      ...            ...            ...         ...      ...   \n",
       "903  0.47    0.27     0.78           0.67           0.45        0.22     0.12   \n",
       "904  0.63    0.25     1.11           0.63           0.24        0.32     0.13   \n",
       "905  0.27    0.42     1.69           0.28           1.94        1.21     0.05   \n",
       "906  0.43    0.35     1.67           0.18           1.37        0.51     0.10   \n",
       "907  0.39    0.40     1.18           0.23           0.70        1.28     0.06   \n",
       "\n",
       "     Passes  Big chances created  Crosses  Yellow cards  Red cards  Fouls  \\\n",
       "0     28.00                 0.09     1.15          0.11        0.0   0.71   \n",
       "1     55.44                 0.00     0.07          0.02        0.0   0.51   \n",
       "2     28.00                 0.09     1.15          0.11        0.0   0.71   \n",
       "3     28.00                 0.09     1.15          0.11        0.0   0.71   \n",
       "4     49.00                 0.00     0.00          0.00        0.0   0.00   \n",
       "..      ...                  ...      ...           ...        ...    ...   \n",
       "903   26.88                 0.29     3.47          0.12        0.0   0.86   \n",
       "904   41.38                 0.21     2.00          0.10        0.0   0.63   \n",
       "905   33.68                 0.03     0.92          0.18        0.0   1.04   \n",
       "906   51.49                 0.10     2.02          0.10        0.0   0.86   \n",
       "907   28.00                 0.09     1.15          0.11        0.0   0.71   \n",
       "\n",
       "     Offsides  Headed goals  Goals with right foot  Goals with left foot  \\\n",
       "0        0.11          0.01                   0.04                  0.03   \n",
       "1        0.05          0.02                   0.00                  0.00   \n",
       "2        0.11          0.01                   0.04                  0.03   \n",
       "3        0.11          0.01                   0.04                  0.03   \n",
       "4        0.00          0.00                   0.00                  0.00   \n",
       "..        ...           ...                    ...                   ...   \n",
       "903      0.18          0.00                   0.00                  0.12   \n",
       "904      0.06          0.02                   0.03                  0.17   \n",
       "905      0.03          0.00                   0.01                  0.01   \n",
       "906      0.00          0.00                   0.00                  0.00   \n",
       "907      0.11          0.01                   0.04                  0.03   \n",
       "\n",
       "     Hit woodwork  \n",
       "0            0.02  \n",
       "1            0.00  \n",
       "2            0.02  \n",
       "3            0.02  \n",
       "4            0.00  \n",
       "..            ...  \n",
       "903          0.04  \n",
       "904          0.03  \n",
       "905          0.01  \n",
       "906          0.02  \n",
       "907          0.02  \n",
       "\n",
       "[907 rows x 18 columns]"
      ]
     },
     "execution_count": 108,
     "metadata": {},
     "output_type": "execute_result"
    }
   ],
   "source": [
    "#FILL NA BY MEAN\n",
    "new_df.fillna(round(new_df.mean(), 2), inplace=True)\n",
    "new_df\n",
    "    "
   ]
  },
  {
   "attachments": {},
   "cell_type": "markdown",
   "metadata": {},
   "source": [
    "## PHÂN CHIA TẬP TRAIN VÀ TẬP TEST"
   ]
  },
  {
   "attachments": {},
   "cell_type": "markdown",
   "metadata": {},
   "source": [
    "KÍCH THƯỚC TẬP TEST LÀ 20%, random state tùy ý"
   ]
  },
  {
   "cell_type": "code",
   "execution_count": 109,
   "metadata": {},
   "outputs": [],
   "source": [
    "X_train, X_test, y_train, y_test = train_test_split(new_df, y, test_size=0.3, random_state=123)"
   ]
  },
  {
   "attachments": {},
   "cell_type": "markdown",
   "metadata": {},
   "source": [
    "### SGD Classifier"
   ]
  },
  {
   "cell_type": "code",
   "execution_count": 110,
   "metadata": {},
   "outputs": [],
   "source": [
    "%%capture\n",
    "param_grid = {'loss': ['hinge', 'huber', 'squared_hinge', 'perceptron'], \n",
    "            'penalty' : ['l1', 'l2', 'elasticnet'],\n",
    "            'shuffle' :[True,False], \n",
    "            'fit_intercept': [True, False],\n",
    "            'epsilon': [0.1, 0.5]}\n",
    "            \n",
    "cv = RepeatedStratifiedKFold(n_splits=5, n_repeats=10)\n",
    "\n",
    "sgd_grid = GridSearchCV( SGDClassifier(),param_grid = param_grid,\n",
    "                          cv=cv, \n",
    "                          scoring='completeness_score', \n",
    "                          verbose=3) \n",
    "sgd_grid.fit(X_train,y_train)"
   ]
  },
  {
   "cell_type": "code",
   "execution_count": 111,
   "metadata": {},
   "outputs": [
    {
     "name": "stdout",
     "output_type": "stream",
     "text": [
      "Best Score: 0.37564536530980897\n",
      "Best Hyperparameters: {'epsilon': 0.5, 'fit_intercept': False, 'loss': 'huber', 'penalty': 'elasticnet', 'shuffle': True}\n"
     ]
    }
   ],
   "source": [
    "print('Best Score: %s' % sgd_grid.best_score_)\n",
    "print('Best Hyperparameters: %s' % sgd_grid.best_params_)"
   ]
  },
  {
   "cell_type": "code",
   "execution_count": 112,
   "metadata": {},
   "outputs": [
    {
     "name": "stdout",
     "output_type": "stream",
     "text": [
      "              precision    recall  f1-score   support\n",
      "\n",
      "           1       0.02      0.20      0.04         5\n",
      "           2       0.00      0.00      0.00         0\n",
      "           3       0.98      0.40      0.57       268\n",
      "\n",
      "    accuracy                           0.40       273\n",
      "   macro avg       0.33      0.20      0.20       273\n",
      "weighted avg       0.96      0.40      0.56       273\n",
      "\n"
     ]
    },
    {
     "name": "stderr",
     "output_type": "stream",
     "text": [
      "c:\\Users\\ADMIN\\AppData\\Local\\Programs\\Python\\Python310\\lib\\site-packages\\sklearn\\metrics\\_classification.py:1327: UndefinedMetricWarning: Recall and F-score are ill-defined and being set to 0.0 in labels with no true samples. Use `zero_division` parameter to control this behavior.\n",
      "  _warn_prf(average, modifier, msg_start, len(result))\n",
      "c:\\Users\\ADMIN\\AppData\\Local\\Programs\\Python\\Python310\\lib\\site-packages\\sklearn\\metrics\\_classification.py:1327: UndefinedMetricWarning: Recall and F-score are ill-defined and being set to 0.0 in labels with no true samples. Use `zero_division` parameter to control this behavior.\n",
      "  _warn_prf(average, modifier, msg_start, len(result))\n",
      "c:\\Users\\ADMIN\\AppData\\Local\\Programs\\Python\\Python310\\lib\\site-packages\\sklearn\\metrics\\_classification.py:1327: UndefinedMetricWarning: Recall and F-score are ill-defined and being set to 0.0 in labels with no true samples. Use `zero_division` parameter to control this behavior.\n",
      "  _warn_prf(average, modifier, msg_start, len(result))\n"
     ]
    }
   ],
   "source": [
    "print(classification_report(sgd_grid.predict(X_test), y_test))"
   ]
  },
  {
   "attachments": {},
   "cell_type": "markdown",
   "metadata": {},
   "source": [
    "### k-NN Classifier"
   ]
  },
  {
   "cell_type": "code",
   "execution_count": 113,
   "metadata": {},
   "outputs": [],
   "source": [
    "%%capture\n",
    "param_grid = {'n_neighbors': [5, 7, 10], \n",
    "            'algorithm' : ['ball_tree', 'kd_tree', 'brute'],\n",
    "            'leaf_size': [30, 35, 40]}\n",
    "            \n",
    "cv = RepeatedStratifiedKFold(n_splits=5, n_repeats=10)\n",
    "\n",
    "knn_grid = GridSearchCV(KNeighborsClassifier(),param_grid = param_grid,\n",
    "                          cv=cv, \n",
    "                          scoring='completeness_score', \n",
    "                          verbose=3) \n",
    "knn_grid.fit(X_train,y_train)"
   ]
  },
  {
   "cell_type": "code",
   "execution_count": 114,
   "metadata": {},
   "outputs": [
    {
     "name": "stdout",
     "output_type": "stream",
     "text": [
      "Best Score: 0.17500831823347598\n",
      "Best Hyperparameters: {'algorithm': 'ball_tree', 'leaf_size': 35, 'n_neighbors': 5}\n"
     ]
    }
   ],
   "source": [
    "print('Best Score: %s' % knn_grid.best_score_)\n",
    "print('Best Hyperparameters: %s' % knn_grid.best_params_)"
   ]
  },
  {
   "cell_type": "code",
   "execution_count": 115,
   "metadata": {},
   "outputs": [
    {
     "name": "stdout",
     "output_type": "stream",
     "text": [
      "              precision    recall  f1-score   support\n",
      "\n",
      "           1       0.60      0.53      0.56        53\n",
      "           2       0.44      0.70      0.54        73\n",
      "           3       0.83      0.62      0.71       147\n",
      "\n",
      "    accuracy                           0.62       273\n",
      "   macro avg       0.62      0.62      0.60       273\n",
      "weighted avg       0.68      0.62      0.63       273\n",
      "\n"
     ]
    }
   ],
   "source": [
    "print(classification_report(knn_grid.predict(X_test), y_test))"
   ]
  },
  {
   "attachments": {},
   "cell_type": "markdown",
   "metadata": {},
   "source": [
    "## Random Forest Classifier"
   ]
  },
  {
   "cell_type": "code",
   "execution_count": 116,
   "metadata": {},
   "outputs": [],
   "source": [
    "%%capture\n",
    "param_grid = {'n_estimators' : [100, 150, 200], \n",
    "            'criterion' : [\"gini\", \"entropy\"],\n",
    "            'min_samples_split' : [2, 4, 6]}\n",
    "            \n",
    "cv = RepeatedStratifiedKFold(n_splits=5, n_repeats=10)\n",
    "\n",
    "rfc_grid = GridSearchCV(RandomForestClassifier(),param_grid = param_grid,\n",
    "                          cv=cv, \n",
    "                          scoring='completeness_score', \n",
    "                          verbose=3) \n",
    "rfc_grid.fit(X_train,y_train)"
   ]
  },
  {
   "cell_type": "code",
   "execution_count": 117,
   "metadata": {},
   "outputs": [
    {
     "name": "stdout",
     "output_type": "stream",
     "text": [
      "Best Score: 0.301164211398052\n",
      "Best Hyperparameters: {'criterion': 'entropy', 'min_samples_split': 6, 'n_estimators': 200}\n"
     ]
    }
   ],
   "source": [
    "print('Best Score: %s' % rfc_grid.best_score_)\n",
    "print('Best Hyperparameters: %s' % rfc_grid.best_params_)"
   ]
  },
  {
   "cell_type": "code",
   "execution_count": 118,
   "metadata": {},
   "outputs": [
    {
     "name": "stdout",
     "output_type": "stream",
     "text": [
      "              precision    recall  f1-score   support\n",
      "\n",
      "           1       0.57      0.71      0.64        38\n",
      "           2       0.88      0.57      0.69       179\n",
      "           3       0.47      0.93      0.63        56\n",
      "\n",
      "    accuracy                           0.66       273\n",
      "   macro avg       0.64      0.74      0.65       273\n",
      "weighted avg       0.75      0.66      0.67       273\n",
      "\n"
     ]
    }
   ],
   "source": [
    "print(classification_report(rfc_grid.predict(X_test), y_test))"
   ]
  },
  {
   "attachments": {},
   "cell_type": "markdown",
   "metadata": {},
   "source": [
    "## AdaBoost Classifier"
   ]
  },
  {
   "cell_type": "code",
   "execution_count": 119,
   "metadata": {},
   "outputs": [],
   "source": [
    "%%capture\n",
    "param_grid = {'n_estimators' : [50, 100, 150], \n",
    "            'learning_rate' : [0.4, 0.2, 0.7, 1.0],\n",
    "            'random_state' : [99, 388, 123]}\n",
    "            \n",
    "cv = RepeatedStratifiedKFold(n_splits=5, n_repeats=10)\n",
    "\n",
    "ab_grid = GridSearchCV(AdaBoostClassifier(),param_grid = param_grid,\n",
    "                          cv=cv, \n",
    "                          scoring='completeness_score', \n",
    "                          verbose=3) \n",
    "ab_grid.fit(X_train,y_train)"
   ]
  },
  {
   "cell_type": "code",
   "execution_count": 120,
   "metadata": {},
   "outputs": [
    {
     "name": "stdout",
     "output_type": "stream",
     "text": [
      "Best Score: 0.25393322641984406\n",
      "Best Hyperparameters: {'learning_rate': 0.2, 'n_estimators': 50, 'random_state': 99}\n"
     ]
    }
   ],
   "source": [
    "print('Best Score: %s' % ab_grid.best_score_)\n",
    "print('Best Hyperparameters: %s' % ab_grid.best_params_)"
   ]
  },
  {
   "cell_type": "code",
   "execution_count": 121,
   "metadata": {},
   "outputs": [
    {
     "name": "stdout",
     "output_type": "stream",
     "text": [
      "              precision    recall  f1-score   support\n",
      "\n",
      "           1       0.45      0.64      0.52        33\n",
      "           2       0.86      0.49      0.62       205\n",
      "           3       0.28      0.89      0.43        35\n",
      "\n",
      "    accuracy                           0.56       273\n",
      "   macro avg       0.53      0.67      0.53       273\n",
      "weighted avg       0.74      0.56      0.59       273\n",
      "\n"
     ]
    }
   ],
   "source": [
    "print(classification_report(ab_grid.predict(X_test), y_test))"
   ]
  },
  {
   "attachments": {},
   "cell_type": "markdown",
   "metadata": {},
   "source": [
    "## Decision Tree Classifier"
   ]
  },
  {
   "cell_type": "code",
   "execution_count": 122,
   "metadata": {},
   "outputs": [],
   "source": [
    "%%capture\n",
    "param_grid = {'criterion': ['gini', 'entropy', 'log_loss'],\n",
    "                            'splitter': ['best', 'random'],\n",
    "                            'max_depth': [5, 10, 15, 20, 25, 30, 35, 40, 45, 50]} \n",
    "cv = RepeatedStratifiedKFold(n_splits=5, n_repeats=10, random_state=1)\n",
    "\n",
    "dt_grid = GridSearchCV(DecisionTreeClassifier(), \n",
    "                    param_grid, \n",
    "                    cv=cv, \n",
    "                    scoring='completeness_score', \n",
    "                    verbose=3)\n",
    "                    \n",
    "print(dt_grid.fit(X_train, y_train))"
   ]
  },
  {
   "cell_type": "code",
   "execution_count": 123,
   "metadata": {},
   "outputs": [
    {
     "name": "stdout",
     "output_type": "stream",
     "text": [
      "Best Score: 0.25476249927326017\n",
      "Best Hyperparameters: {'criterion': 'gini', 'max_depth': 5, 'splitter': 'best'}\n"
     ]
    }
   ],
   "source": [
    "print('Best Score: %s' % dt_grid.best_score_)\n",
    "print('Best Hyperparameters: %s' % dt_grid.best_params_)"
   ]
  },
  {
   "cell_type": "code",
   "execution_count": 124,
   "metadata": {},
   "outputs": [
    {
     "name": "stdout",
     "output_type": "stream",
     "text": [
      "              precision    recall  f1-score   support\n",
      "\n",
      "           1       0.64      0.55      0.59        55\n",
      "           2       0.81      0.56      0.66       168\n",
      "           3       0.41      0.90      0.56        50\n",
      "\n",
      "    accuracy                           0.62       273\n",
      "   macro avg       0.62      0.67      0.60       273\n",
      "weighted avg       0.70      0.62      0.63       273\n",
      "\n"
     ]
    }
   ],
   "source": [
    "print(classification_report(dt_grid.predict(X_test), y_test))"
   ]
  },
  {
   "cell_type": "code",
   "execution_count": 125,
   "metadata": {},
   "outputs": [
    {
     "name": "stderr",
     "output_type": "stream",
     "text": [
      "c:\\Users\\ADMIN\\AppData\\Local\\Programs\\Python\\Python310\\lib\\site-packages\\sklearn\\metrics\\_classification.py:1327: UndefinedMetricWarning: Recall and F-score are ill-defined and being set to 0.0 in labels with no true samples. Use `zero_division` parameter to control this behavior.\n",
      "  _warn_prf(average, modifier, msg_start, len(result))\n",
      "c:\\Users\\ADMIN\\AppData\\Local\\Programs\\Python\\Python310\\lib\\site-packages\\sklearn\\metrics\\_classification.py:1327: UndefinedMetricWarning: Recall and F-score are ill-defined and being set to 0.0 in labels with no true samples. Use `zero_division` parameter to control this behavior.\n",
      "  _warn_prf(average, modifier, msg_start, len(result))\n",
      "c:\\Users\\ADMIN\\AppData\\Local\\Programs\\Python\\Python310\\lib\\site-packages\\sklearn\\metrics\\_classification.py:1327: UndefinedMetricWarning: Recall and F-score are ill-defined and being set to 0.0 in labels with no true samples. Use `zero_division` parameter to control this behavior.\n",
      "  _warn_prf(average, modifier, msg_start, len(result))\n"
     ]
    }
   ],
   "source": [
    "dt = classification_report(dt_grid.predict(X_test), y_test, output_dict=True)\n",
    "ab = classification_report(ab_grid.predict(X_test), y_test, output_dict=True)\n",
    "knn = classification_report(knn_grid.predict(X_test), y_test, output_dict=True)\n",
    "rfc = classification_report(rfc_grid.predict(X_test), y_test, output_dict=True)\n",
    "sgd = classification_report(sgd_grid.predict(X_test), y_test, output_dict=True)\n"
   ]
  },
  {
   "cell_type": "code",
   "execution_count": 126,
   "metadata": {},
   "outputs": [],
   "source": [
    "one = pd.DataFrame.from_dict([sgd['1'], knn['1'], rfc['1'], ab['1'], dt['1']])\n",
    "two = pd.DataFrame.from_dict([sgd['2'], knn['2'], rfc['2'], ab['2'], dt['2']])\n",
    "three = pd.DataFrame.from_dict([sgd['3'], knn['3'], rfc['3'], ab['3'], dt['3']])\n",
    "acc =  pd.DataFrame.from_dict([sgd['accuracy'], knn['accuracy'], rfc['accuracy'], ab['accuracy'], dt['accuracy']])\n",
    "\n",
    "one.set_axis(['SGD', 'k-NN', 'Random Forest', 'AdaBoost', 'Decision Tree'], inplace=True)\n",
    "two.set_axis(['SGD', 'k-NN', 'Random Forest', 'AdaBoost', 'Decision Tree'], inplace=True)\n",
    "three.set_axis(['SGD', 'k-NN', 'Random Forest', 'AdaBoost', 'Decision Tree'], inplace=True)\n",
    "acc.set_axis(['SGD', 'k-NN', 'Random Forest', 'AdaBoost', 'Decision Tree'], inplace=True)\n",
    "acc.set_axis(['Accuracy'], inplace=True, axis = 1)"
   ]
  },
  {
   "cell_type": "code",
   "execution_count": 127,
   "metadata": {},
   "outputs": [
    {
     "data": {
      "text/html": [
       "<div>\n",
       "<style scoped>\n",
       "    .dataframe tbody tr th:only-of-type {\n",
       "        vertical-align: middle;\n",
       "    }\n",
       "\n",
       "    .dataframe tbody tr th {\n",
       "        vertical-align: top;\n",
       "    }\n",
       "\n",
       "    .dataframe thead th {\n",
       "        text-align: right;\n",
       "    }\n",
       "</style>\n",
       "<table border=\"1\" class=\"dataframe\">\n",
       "  <thead>\n",
       "    <tr style=\"text-align: right;\">\n",
       "      <th></th>\n",
       "      <th>precision</th>\n",
       "      <th>recall</th>\n",
       "      <th>f1-score</th>\n",
       "      <th>support</th>\n",
       "    </tr>\n",
       "  </thead>\n",
       "  <tbody>\n",
       "    <tr>\n",
       "      <th>SGD</th>\n",
       "      <td>0.021277</td>\n",
       "      <td>0.200000</td>\n",
       "      <td>0.038462</td>\n",
       "      <td>5</td>\n",
       "    </tr>\n",
       "    <tr>\n",
       "      <th>k-NN</th>\n",
       "      <td>0.595745</td>\n",
       "      <td>0.528302</td>\n",
       "      <td>0.560000</td>\n",
       "      <td>53</td>\n",
       "    </tr>\n",
       "    <tr>\n",
       "      <th>Random Forest</th>\n",
       "      <td>0.574468</td>\n",
       "      <td>0.710526</td>\n",
       "      <td>0.635294</td>\n",
       "      <td>38</td>\n",
       "    </tr>\n",
       "    <tr>\n",
       "      <th>AdaBoost</th>\n",
       "      <td>0.446809</td>\n",
       "      <td>0.636364</td>\n",
       "      <td>0.525000</td>\n",
       "      <td>33</td>\n",
       "    </tr>\n",
       "    <tr>\n",
       "      <th>Decision Tree</th>\n",
       "      <td>0.638298</td>\n",
       "      <td>0.545455</td>\n",
       "      <td>0.588235</td>\n",
       "      <td>55</td>\n",
       "    </tr>\n",
       "  </tbody>\n",
       "</table>\n",
       "</div>"
      ],
      "text/plain": [
       "               precision    recall  f1-score  support\n",
       "SGD             0.021277  0.200000  0.038462        5\n",
       "k-NN            0.595745  0.528302  0.560000       53\n",
       "Random Forest   0.574468  0.710526  0.635294       38\n",
       "AdaBoost        0.446809  0.636364  0.525000       33\n",
       "Decision Tree   0.638298  0.545455  0.588235       55"
      ]
     },
     "execution_count": 127,
     "metadata": {},
     "output_type": "execute_result"
    }
   ],
   "source": [
    "one"
   ]
  },
  {
   "cell_type": "code",
   "execution_count": 128,
   "metadata": {},
   "outputs": [
    {
     "data": {
      "text/html": [
       "<div>\n",
       "<style scoped>\n",
       "    .dataframe tbody tr th:only-of-type {\n",
       "        vertical-align: middle;\n",
       "    }\n",
       "\n",
       "    .dataframe tbody tr th {\n",
       "        vertical-align: top;\n",
       "    }\n",
       "\n",
       "    .dataframe thead th {\n",
       "        text-align: right;\n",
       "    }\n",
       "</style>\n",
       "<table border=\"1\" class=\"dataframe\">\n",
       "  <thead>\n",
       "    <tr style=\"text-align: right;\">\n",
       "      <th></th>\n",
       "      <th>precision</th>\n",
       "      <th>recall</th>\n",
       "      <th>f1-score</th>\n",
       "      <th>support</th>\n",
       "    </tr>\n",
       "  </thead>\n",
       "  <tbody>\n",
       "    <tr>\n",
       "      <th>SGD</th>\n",
       "      <td>0.000000</td>\n",
       "      <td>0.000000</td>\n",
       "      <td>0.000000</td>\n",
       "      <td>0</td>\n",
       "    </tr>\n",
       "    <tr>\n",
       "      <th>k-NN</th>\n",
       "      <td>0.439655</td>\n",
       "      <td>0.698630</td>\n",
       "      <td>0.539683</td>\n",
       "      <td>73</td>\n",
       "    </tr>\n",
       "    <tr>\n",
       "      <th>Random Forest</th>\n",
       "      <td>0.879310</td>\n",
       "      <td>0.569832</td>\n",
       "      <td>0.691525</td>\n",
       "      <td>179</td>\n",
       "    </tr>\n",
       "    <tr>\n",
       "      <th>AdaBoost</th>\n",
       "      <td>0.862069</td>\n",
       "      <td>0.487805</td>\n",
       "      <td>0.623053</td>\n",
       "      <td>205</td>\n",
       "    </tr>\n",
       "    <tr>\n",
       "      <th>Decision Tree</th>\n",
       "      <td>0.810345</td>\n",
       "      <td>0.559524</td>\n",
       "      <td>0.661972</td>\n",
       "      <td>168</td>\n",
       "    </tr>\n",
       "  </tbody>\n",
       "</table>\n",
       "</div>"
      ],
      "text/plain": [
       "               precision    recall  f1-score  support\n",
       "SGD             0.000000  0.000000  0.000000        0\n",
       "k-NN            0.439655  0.698630  0.539683       73\n",
       "Random Forest   0.879310  0.569832  0.691525      179\n",
       "AdaBoost        0.862069  0.487805  0.623053      205\n",
       "Decision Tree   0.810345  0.559524  0.661972      168"
      ]
     },
     "execution_count": 128,
     "metadata": {},
     "output_type": "execute_result"
    }
   ],
   "source": [
    "two"
   ]
  },
  {
   "cell_type": "code",
   "execution_count": 129,
   "metadata": {},
   "outputs": [
    {
     "data": {
      "text/html": [
       "<div>\n",
       "<style scoped>\n",
       "    .dataframe tbody tr th:only-of-type {\n",
       "        vertical-align: middle;\n",
       "    }\n",
       "\n",
       "    .dataframe tbody tr th {\n",
       "        vertical-align: top;\n",
       "    }\n",
       "\n",
       "    .dataframe thead th {\n",
       "        text-align: right;\n",
       "    }\n",
       "</style>\n",
       "<table border=\"1\" class=\"dataframe\">\n",
       "  <thead>\n",
       "    <tr style=\"text-align: right;\">\n",
       "      <th></th>\n",
       "      <th>precision</th>\n",
       "      <th>recall</th>\n",
       "      <th>f1-score</th>\n",
       "      <th>support</th>\n",
       "    </tr>\n",
       "  </thead>\n",
       "  <tbody>\n",
       "    <tr>\n",
       "      <th>SGD</th>\n",
       "      <td>0.981818</td>\n",
       "      <td>0.402985</td>\n",
       "      <td>0.571429</td>\n",
       "      <td>268</td>\n",
       "    </tr>\n",
       "    <tr>\n",
       "      <th>k-NN</th>\n",
       "      <td>0.827273</td>\n",
       "      <td>0.619048</td>\n",
       "      <td>0.708171</td>\n",
       "      <td>147</td>\n",
       "    </tr>\n",
       "    <tr>\n",
       "      <th>Random Forest</th>\n",
       "      <td>0.472727</td>\n",
       "      <td>0.928571</td>\n",
       "      <td>0.626506</td>\n",
       "      <td>56</td>\n",
       "    </tr>\n",
       "    <tr>\n",
       "      <th>AdaBoost</th>\n",
       "      <td>0.281818</td>\n",
       "      <td>0.885714</td>\n",
       "      <td>0.427586</td>\n",
       "      <td>35</td>\n",
       "    </tr>\n",
       "    <tr>\n",
       "      <th>Decision Tree</th>\n",
       "      <td>0.409091</td>\n",
       "      <td>0.900000</td>\n",
       "      <td>0.562500</td>\n",
       "      <td>50</td>\n",
       "    </tr>\n",
       "  </tbody>\n",
       "</table>\n",
       "</div>"
      ],
      "text/plain": [
       "               precision    recall  f1-score  support\n",
       "SGD             0.981818  0.402985  0.571429      268\n",
       "k-NN            0.827273  0.619048  0.708171      147\n",
       "Random Forest   0.472727  0.928571  0.626506       56\n",
       "AdaBoost        0.281818  0.885714  0.427586       35\n",
       "Decision Tree   0.409091  0.900000  0.562500       50"
      ]
     },
     "execution_count": 129,
     "metadata": {},
     "output_type": "execute_result"
    }
   ],
   "source": [
    "three"
   ]
  },
  {
   "cell_type": "code",
   "execution_count": 130,
   "metadata": {},
   "outputs": [
    {
     "data": {
      "text/html": [
       "<div>\n",
       "<style scoped>\n",
       "    .dataframe tbody tr th:only-of-type {\n",
       "        vertical-align: middle;\n",
       "    }\n",
       "\n",
       "    .dataframe tbody tr th {\n",
       "        vertical-align: top;\n",
       "    }\n",
       "\n",
       "    .dataframe thead th {\n",
       "        text-align: right;\n",
       "    }\n",
       "</style>\n",
       "<table border=\"1\" class=\"dataframe\">\n",
       "  <thead>\n",
       "    <tr style=\"text-align: right;\">\n",
       "      <th></th>\n",
       "      <th>Accuracy</th>\n",
       "    </tr>\n",
       "  </thead>\n",
       "  <tbody>\n",
       "    <tr>\n",
       "      <th>SGD</th>\n",
       "      <td>0.399267</td>\n",
       "    </tr>\n",
       "    <tr>\n",
       "      <th>k-NN</th>\n",
       "      <td>0.622711</td>\n",
       "    </tr>\n",
       "    <tr>\n",
       "      <th>Random Forest</th>\n",
       "      <td>0.663004</td>\n",
       "    </tr>\n",
       "    <tr>\n",
       "      <th>AdaBoost</th>\n",
       "      <td>0.556777</td>\n",
       "    </tr>\n",
       "    <tr>\n",
       "      <th>Decision Tree</th>\n",
       "      <td>0.619048</td>\n",
       "    </tr>\n",
       "  </tbody>\n",
       "</table>\n",
       "</div>"
      ],
      "text/plain": [
       "               Accuracy\n",
       "SGD            0.399267\n",
       "k-NN           0.622711\n",
       "Random Forest  0.663004\n",
       "AdaBoost       0.556777\n",
       "Decision Tree  0.619048"
      ]
     },
     "execution_count": 130,
     "metadata": {},
     "output_type": "execute_result"
    }
   ],
   "source": [
    "acc"
   ]
  },
  {
   "attachments": {},
   "cell_type": "markdown",
   "metadata": {},
   "source": [
    "Sau nhiều lần chạy thử, nhóm em đi đến những kết luận sau:\n",
    "+ Mô hình SGD thường có độ chính xác khá thấp do nó thường dự đoán nghiêng hẳn về một nhãn (support > 90%) dẫn đến việc nhãn đó sẽ có precision cao vượt trội. Mô hình sẽ có ý nghĩa để nhận dạng liệu cầu thủ đó có chơi vị trí đang xét hay không\n",
    "+ Nhóm mô hình k-Nearest Neightbor, AdaBoost và Desicion có hiệu suất tương đối giống nhau.\n",
    "+ Mô hình Random Forest thường sẽ có hiệu suất tốt nhất với Accuracy cao và Recall ở cả ba nhẵn đều tương đối cao\n",
    "+ Tuy nhiên nhìn chung, các mô hình đều có Accuracy không cao. Điều này là do thực tế của bộ dữ liệu. Ví dụ, có những cầu thủ có chỉ số liên quan đến phòng thủ tốt nhưng lại được phân công chơi ở các vị trí Tiền đạo hay Tiền vệ. Tuy nhiên việc mô hình có độ chính xác cũng nói lên một vấn đề thực tế là có tương đối nhiều cầu thủ đang không được khai thác hết tiềm nay của mình. \n",
    "+ Về mặt thời gian, AdaBoost là mô hình tốn nhiều thời gian để chạy nhất (6-7p), hơn 2 phút so với mô hình lâu nhì là Random Forest. Nhanh nhất trong các thuật toán trên là Desicion Tree với thời gian chạy không vượt quá 30 giây ở các lần chạy. Các thuật toán còn lại thì có tốc độ chạy tương đương nhau, thường là 2-3p cho mỗi lần chạy"
   ]
  }
 ],
 "metadata": {
  "kernelspec": {
   "display_name": "Python 3",
   "language": "python",
   "name": "python3"
  },
  "language_info": {
   "codemirror_mode": {
    "name": "ipython",
    "version": 3
   },
   "file_extension": ".py",
   "mimetype": "text/x-python",
   "name": "python",
   "nbconvert_exporter": "python",
   "pygments_lexer": "ipython3",
   "version": "3.10.2 (tags/v3.10.2:a58ebcc, Jan 17 2022, 14:12:15) [MSC v.1929 64 bit (AMD64)]"
  },
  "orig_nbformat": 4,
  "vscode": {
   "interpreter": {
    "hash": "31671a60cee805c34c73116577b485118ff3a75c458d3004d49632c19702ac60"
   }
  }
 },
 "nbformat": 4,
 "nbformat_minor": 2
}

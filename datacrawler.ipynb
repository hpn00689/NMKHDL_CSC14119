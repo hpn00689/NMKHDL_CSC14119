{
 "cells": [
  {
   "cell_type": "markdown",
   "metadata": {},
   "source": [
    "THIS FILE IS FOR DATA CRAWLING ONLY!!!"
   ]
  },
  {
   "cell_type": "code",
   "execution_count": 156,
   "metadata": {},
   "outputs": [],
   "source": [
    "from bs4 import BeautifulSoup\n",
    "from selenium import webdriver\n",
    "from selenium.webdriver.common.by import By\n",
    "import time\n",
    "import numpy as np\n",
    "import pandas as pd"
   ]
  },
  {
   "cell_type": "code",
   "execution_count": 157,
   "metadata": {},
   "outputs": [],
   "source": [
    "browser = webdriver.Chrome()"
   ]
  },
  {
   "cell_type": "markdown",
   "metadata": {},
   "source": [
    "OPEN DATA PAGE"
   ]
  },
  {
   "cell_type": "code",
   "execution_count": 158,
   "metadata": {},
   "outputs": [],
   "source": [
    "browser.get('https://one-versus-one.com/en/rankings/all/statistics')\n",
    "browser.maximize_window()\n",
    "browser.implicitly_wait(20)\n",
    "browser.execute_script(\"window.scrollTo(0, 1400)\") "
   ]
  },
  {
   "cell_type": "markdown",
   "metadata": {},
   "source": [
    "ACCEPT COOKIES AND DATA PROCESSING"
   ]
  },
  {
   "cell_type": "code",
   "execution_count": 159,
   "metadata": {},
   "outputs": [],
   "source": [
    "browser.find_element(By.ID, \"cmpwelcomebtnyes\").click()"
   ]
  },
  {
   "cell_type": "markdown",
   "metadata": {},
   "source": [
    "STORE EACH LINK TO ARRAY"
   ]
  },
  {
   "cell_type": "code",
   "execution_count": 160,
   "metadata": {},
   "outputs": [
    {
     "name": "stdout",
     "output_type": "stream",
     "text": [
      "['https://one-versus-one.com/en/players/Kevin-de-Bruyne', 'https://one-versus-one.com/en/players/bukayo-saka', 'https://one-versus-one.com/en/players/antony-matheus-dos-santos', 'https://one-versus-one.com/en/players/rodri', 'https://one-versus-one.com/en/players/Lionel-Andres-Messi', 'https://one-versus-one.com/en/players/jamal-musiala', 'https://one-versus-one.com/en/players/neymar', 'https://one-versus-one.com/en/players/Joshua-Kimmich', 'https://one-versus-one.com/en/players/Joao-Cancelo-Joao-Cancelo', 'https://one-versus-one.com/en/players/Erling-Haaland', 'https://one-versus-one.com/en/players/gabriel-teodoro-martinelli-silva', 'https://one-versus-one.com/en/players/gabriel-magalhaes', 'https://one-versus-one.com/en/players/jack-grealish', 'https://one-versus-one.com/en/players/Juan-Guilherme-Nunes-Jesus', 'https://one-versus-one.com/en/players/Granit-Xhaka', 'https://one-versus-one.com/en/players/alphonso-davies', 'https://one-versus-one.com/en/players/Vinicius-Jose-Paixao-de-Oliveira-Junior', 'https://one-versus-one.com/en/players/Gabriel-Fernando-de-Jesus', 'https://one-versus-one.com/en/players/bernardo-silva', 'https://one-versus-one.com/en/players/jose-diogo-dalot-teixeira', 'https://one-versus-one.com/en/players/frenkie-de-jong', 'https://one-versus-one.com/en/players/sergio-busquets', 'https://one-versus-one.com/en/players/Karim-Benzema', 'https://one-versus-one.com/en/players/federico-valverde', 'https://one-versus-one.com/en/players/martin-odegaard', 'https://one-versus-one.com/en/players/Leon-Goretzka', 'https://one-versus-one.com/en/players/Leroy-Sane', 'https://one-versus-one.com/en/players/Dayotchanculle-Upamecano', 'https://one-versus-one.com/en/players/William-Saliba', 'https://one-versus-one.com/en/players/Harry-Kane', 'https://one-versus-one.com/en/players/Mohamed-Salah', 'https://one-versus-one.com/en/players/Paulo-Bruno-Dybala', 'https://one-versus-one.com/en/players/rodrigo-bentancur', 'https://one-versus-one.com/en/players/Kylian-Mbappe', 'https://one-versus-one.com/en/players/Achraf-Hakimi', 'https://one-versus-one.com/en/players/leandro-trossard', 'https://one-versus-one.com/en/players/bruno-fernandes', 'https://one-versus-one.com/en/players/Rafael-Toloi', 'https://one-versus-one.com/en/players/khvicha-kvaratskhelia', 'https://one-versus-one.com/en/players/ben-white']\n"
     ]
    }
   ],
   "source": [
    "href = []\n",
    "count = 1\n",
    "while(count < 5):\n",
    "    html_text = browser.page_source\n",
    "    tree = BeautifulSoup(html_text)\n",
    "    player_link = tree.find_all(\"a\", \"ranking-section__list-item-anchor\")\n",
    "    for i in player_link:\n",
    "        href.append(i.get('href'))\n",
    "    browser.find_element(By.XPATH, \"//div[@id = 'pagination-module']/div[9]\").click()\n",
    "    time.sleep(1)\n",
    "    count += 1\n",
    "print(href)    "
   ]
  },
  {
   "cell_type": "markdown",
   "metadata": {},
   "source": [
    "CRAWL DATA FROM EACH PLAYER"
   ]
  },
  {
   "cell_type": "code",
   "execution_count": 170,
   "metadata": {},
   "outputs": [],
   "source": [
    "player_data = []\n",
    "for i in href:\n",
    "    browser.get(i)\n",
    "    browser.execute_script(\"window.scrollTo(0, 1675)\") \n",
    "    time.sleep(0.5)\n",
    "    browser.execute_script(\"window.scrollTo(0, 1675)\")\n",
    "    browser.find_element(By.XPATH, \"//div[@class='btn btn-outline-light scouting-report__button']\").click()\n",
    "    time.sleep(2)\n",
    "    html_text = browser.page_source\n",
    "    tree = BeautifulSoup(html_text)\n",
    "    player_stats = tree.find_all(\"td\", \"scouting-report__item-ninety\")\n",
    "    for i in range(len(player_stats)):\n",
    "        player_stats[i] = float(player_stats[i].get_text())\n",
    "    player_data.append(player_stats)\n",
    "   "
   ]
  },
  {
   "cell_type": "markdown",
   "metadata": {},
   "source": [
    "READ PLAYER'S DATA AND REMOVE THE HIGHLIGHTED ONES"
   ]
  },
  {
   "cell_type": "code",
   "execution_count": 192,
   "metadata": {},
   "outputs": [
    {
     "name": "stdout",
     "output_type": "stream",
     "text": [
      "[3.68, 53.68, 76.0, 45.0, 31.0, 45.0, 0.81, 0.37, 1.03, 0.0, 31.0, 0.66, 0.81, 34.41, 5.81, 69.0, 2.57, 1.99, 0.0, 0.15, 0.0, 31.0, 53.68, 76.0, 1.88, 0.22, 0.81, 27.0, 0.96, 38.0, 0.15, 0.0, 0.11]\n",
      "[45. 46. 44. 65. 45. 44. 40. 49. 65. 34. 40. 73. 53. 70. 55. 58. 43. 40.\n",
      " 44. 65. 65. 66. 39. 62. 41. 54. 54. 69. 72. 35. 28. 47. 61. 32. 53. 33.\n",
      " 41. 70. 40. 58.]\n"
     ]
    }
   ],
   "source": [
    "\n",
    "player_data_X = [[player_data[j][i] for j in range(len(player_data))] for i in range(len(player_data[0]))]\n",
    "player_data_X = np.array(player_data_X)\n",
    "player_data_X = np.delete(player_data_X, 0, 0)\n",
    "player_data_X = np.delete(player_data_X, 0, 0)\n",
    "player_data_X = np.delete(player_data_X, 0, 0)\n",
    "player_data_X = np.delete(player_data_X, 0, 0)\n",
    "player_data_X = np.delete(player_data_X, 0, 0)"
   ]
  },
  {
   "cell_type": "markdown",
   "metadata": {},
   "source": [
    "INPUT DATA TO DATAFRAME"
   ]
  },
  {
   "cell_type": "code",
   "execution_count": 193,
   "metadata": {},
   "outputs": [],
   "source": [
    "data = {\"CHALLENGES WON, %\": player_data_X[0],\n",
    "        \"AIR CHALLENGES LOST\": player_data_X[1],\n",
    "        \"AIR CHALLENGES WON\": player_data_X[2],\n",
    "        \"FOULS\": player_data_X[3],\n",
    "        \"YELLOW CARDS\": player_data_X[4],\n",
    "        \"AIR CHALLENGES, %\": player_data_X[5],\n",
    "        \"ASSISTS\": player_data_X[6],\n",
    "        \"EXPECTED ASSISTS (XA)\": player_data_X[7],\n",
    "        \"PASSES INTO FINAL THIRD\": player_data_X[8],\n",
    "        \"CROSSES\": player_data_X[9],\n",
    "        \"SUCCESSFUL DRIBBLES, %\": player_data_X[10],\n",
    "        \"TACKLES\": player_data_X[11],\n",
    "        \"PASS INTERCEPTIONS\": player_data_X[12],\n",
    "        \"ERRORS LEADING TO GOAL\": player_data_X[13],\n",
    "        \"BLOCKED SHOTS\": player_data_X[14],\n",
    "        \"CLEARANCES\": player_data_X[15],\n",
    "        \"TACKLES WON, %\": player_data_X[16],\n",
    "        \"PASSES\": player_data_X[17],\n",
    "        \"PASS COMPLETION, %\": player_data_X[18],\n",
    "        \"PASSING SPEED\": player_data_X[19],\n",
    "        \"GOALS\": player_data_X[20],\n",
    "        \"BIG CHANCES\": player_data_X[21],\n",
    "        \"CONVERSION OF BIG CHANCES, %\": player_data_X[22],\n",
    "        \"SHOTS ON TARGET\": player_data_X[23],\n",
    "        \"SHOTS ON TARGET CONVERSION RATE, %\": player_data_X[24],\n",
    "        \"EXPECTED GOALS (XG)\": player_data_X[25],\n",
    "        \"GOALS WITH HEAD\": player_data_X[26],\n",
    "        \"XG CONVERSION\": player_data_X[27],\n",
    "        }   \n",
    "df = pd.DataFrame.from_dict(data)"
   ]
  },
  {
   "cell_type": "markdown",
   "metadata": {},
   "source": [
    "EXPORT TO CSV FILE"
   ]
  },
  {
   "cell_type": "code",
   "execution_count": 195,
   "metadata": {},
   "outputs": [],
   "source": [
    "df.to_csv(\"data.csv\")"
   ]
  }
 ],
 "metadata": {
  "kernelspec": {
   "display_name": "Python 3.10.2 64-bit",
   "language": "python",
   "name": "python3"
  },
  "language_info": {
   "codemirror_mode": {
    "name": "ipython",
    "version": 3
   },
   "file_extension": ".py",
   "mimetype": "text/x-python",
   "name": "python",
   "nbconvert_exporter": "python",
   "pygments_lexer": "ipython3",
   "version": "3.10.2"
  },
  "orig_nbformat": 4,
  "vscode": {
   "interpreter": {
    "hash": "31671a60cee805c34c73116577b485118ff3a75c458d3004d49632c19702ac60"
   }
  }
 },
 "nbformat": 4,
 "nbformat_minor": 2
}

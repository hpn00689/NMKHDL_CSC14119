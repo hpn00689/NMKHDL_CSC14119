{
 "cells": [
  {
   "cell_type": "markdown",
   "metadata": {},
   "source": [
    "THIS FILE IS FOR DATA CRAWLING ONLY!!!"
   ]
  },
  {
   "cell_type": "code",
   "execution_count": 35,
   "metadata": {},
   "outputs": [],
   "source": [
    "from bs4 import BeautifulSoup\n",
    "from selenium import webdriver\n",
    "from selenium.webdriver.common.by import By\n",
    "import time\n",
    "import numpy as np\n",
    "import pandas as pd"
   ]
  },
  {
   "cell_type": "code",
   "execution_count": 11,
   "metadata": {},
   "outputs": [],
   "source": [
    "browser = webdriver.Chrome()"
   ]
  },
  {
   "cell_type": "markdown",
   "metadata": {},
   "source": [
    "OPEN DATA PAGE"
   ]
  },
  {
   "cell_type": "code",
   "execution_count": 36,
   "metadata": {},
   "outputs": [],
   "source": [
    "browser = webdriver.Chrome()"
   ]
  },
  {
   "cell_type": "code",
   "execution_count": 37,
   "metadata": {},
   "outputs": [],
   "source": [
    "browser.get('https://one-versus-one.com/en/rankings/all/statistics')\n",
    "browser.maximize_window()\n",
    "browser.implicitly_wait(20)\n",
    "browser.execute_script(\"window.scrollTo(0, 1400)\") "
   ]
  },
  {
   "cell_type": "markdown",
   "metadata": {},
   "source": [
    "ACCEPT COOKIES AND DATA PROCESSING"
   ]
  },
  {
   "cell_type": "code",
   "execution_count": 13,
   "metadata": {},
   "outputs": [],
   "source": [
    "# browser.find_element(By.ID, \"cmpwelcomebtnyes\").click()"
   ]
  },
  {
   "cell_type": "markdown",
   "metadata": {},
   "source": [
    "STORE EACH LINK TO ARRAY"
   ]
  },
  {
   "cell_type": "code",
   "execution_count": 38,
   "metadata": {},
   "outputs": [
    {
     "data": {
      "text/plain": [
       "'Thomas Mangani'"
      ]
     },
     "execution_count": 38,
     "metadata": {},
     "output_type": "execute_result"
    }
   ],
   "source": [
    "href = []\n",
    "player_name = []\n",
    "count = 1\n",
    "while(count < 5):\n",
    "    html_text = browser.page_source\n",
    "    tree = BeautifulSoup(html_text)\n",
    "    name = tree.find_all(\"div\", \"ranking-section__list-item-info-name\")\n",
    "    player_link = tree.find_all(\"a\", \"ranking-section__list-item-anchor\")\n",
    "    for i in player_link:\n",
    "        href.append(i.get('href'))\n",
    "    for i in name:\n",
    "        player_name.append(i.get_text())\n",
    "    if count != 144:\n",
    "        browser.find_element(By.XPATH, \"//div[@id = 'pagination-module']/div[9]\").click()\n",
    "    time.sleep(1)\n",
    "    count += 1 \n",
    "\n",
    "href.pop()\n",
    "href.pop(307) #dead link\n",
    "href.pop(489) #dead link\n",
    "href.pop(693) #dead link\n",
    "href.pop(1133)  #dead link\n",
    "href.pop(1144)  #dead link\n",
    "href.pop(1161)  #dead link\n",
    "href.pop(1261)  #dead link\n",
    "\n",
    "player_name.pop()\n",
    "player_name.pop(307) #dead link\n",
    "player_name.pop(489) #dead link\n",
    "player_name.pop(693) #dead link\n",
    "player_name.pop(1133)  #dead link\n",
    "player_name.pop(1144)  #dead link\n",
    "player_name.pop(1161)  #dead link\n",
    "player_name.pop(1261)  #dead link"
   ]
  },
  {
   "cell_type": "code",
   "execution_count": 47,
   "metadata": {},
   "outputs": [
    {
     "data": {
      "text/html": [
       "<div>\n",
       "<style scoped>\n",
       "    .dataframe tbody tr th:only-of-type {\n",
       "        vertical-align: middle;\n",
       "    }\n",
       "\n",
       "    .dataframe tbody tr th {\n",
       "        vertical-align: top;\n",
       "    }\n",
       "\n",
       "    .dataframe thead th {\n",
       "        text-align: right;\n",
       "    }\n",
       "</style>\n",
       "<table border=\"1\" class=\"dataframe\">\n",
       "  <thead>\n",
       "    <tr style=\"text-align: right;\">\n",
       "      <th></th>\n",
       "      <th>PLAYER NAME</th>\n",
       "    </tr>\n",
       "  </thead>\n",
       "  <tbody>\n",
       "    <tr>\n",
       "      <th>0</th>\n",
       "      <td>Kevin de Bruyne</td>\n",
       "    </tr>\n",
       "    <tr>\n",
       "      <th>1</th>\n",
       "      <td>Bukayo Saka</td>\n",
       "    </tr>\n",
       "    <tr>\n",
       "      <th>2</th>\n",
       "      <td>Antony Matheus</td>\n",
       "    </tr>\n",
       "    <tr>\n",
       "      <th>3</th>\n",
       "      <td>Rodri</td>\n",
       "    </tr>\n",
       "    <tr>\n",
       "      <th>4</th>\n",
       "      <td>Lionel Messi</td>\n",
       "    </tr>\n",
       "    <tr>\n",
       "      <th>...</th>\n",
       "      <td>...</td>\n",
       "    </tr>\n",
       "    <tr>\n",
       "      <th>1427</th>\n",
       "      <td>Francesco Caputo</td>\n",
       "    </tr>\n",
       "    <tr>\n",
       "      <th>1428</th>\n",
       "      <td>Ezequiel Ponce Martinez</td>\n",
       "    </tr>\n",
       "    <tr>\n",
       "      <th>1429</th>\n",
       "      <td>Anthony Lozano</td>\n",
       "    </tr>\n",
       "    <tr>\n",
       "      <th>1430</th>\n",
       "      <td>Sebastian Polter</td>\n",
       "    </tr>\n",
       "    <tr>\n",
       "      <th>1431</th>\n",
       "      <td>Andrea Petagna</td>\n",
       "    </tr>\n",
       "  </tbody>\n",
       "</table>\n",
       "<p>1432 rows × 1 columns</p>\n",
       "</div>"
      ],
      "text/plain": [
       "                  PLAYER NAME\n",
       "0             Kevin de Bruyne\n",
       "1                 Bukayo Saka\n",
       "2              Antony Matheus\n",
       "3                       Rodri\n",
       "4                Lionel Messi\n",
       "...                       ...\n",
       "1427         Francesco Caputo\n",
       "1428  Ezequiel Ponce Martinez\n",
       "1429           Anthony Lozano\n",
       "1430         Sebastian Polter\n",
       "1431           Andrea Petagna\n",
       "\n",
       "[1432 rows x 1 columns]"
      ]
     },
     "execution_count": 47,
     "metadata": {},
     "output_type": "execute_result"
    }
   ],
   "source": [
    "dfPN = pd.DataFrame(player_name)\n",
    "dfPN.to_csv('player_name.csv', index=False, header =False)\n",
    "dfPN.columns = ['PLAYER NAME']\n",
    "dfPN"
   ]
  },
  {
   "cell_type": "markdown",
   "metadata": {},
   "source": [
    "CRAWL DATA FROM EACH PLAYER"
   ]
  },
  {
   "cell_type": "code",
   "execution_count": null,
   "metadata": {},
   "outputs": [
    {
     "ename": "ElementClickInterceptedException",
     "evalue": "Message: element click intercepted: Element is not clickable at point (952, 1996)\n  (Session info: chrome=104.0.5112.101)\nStacktrace:\n#0 0x561df4cc4403 <unknown>\n#1 0x561df4aca778 <unknown>\n#2 0x561df4b09355 <unknown>\n#3 0x561df4b06ee2 <unknown>\n#4 0x561df4b04584 <unknown>\n#5 0x561df4b031f5 <unknown>\n#6 0x561df4af6e49 <unknown>\n#7 0x561df4b1fa02 <unknown>\n#8 0x561df4af6703 <unknown>\n#9 0x561df4b1fb0e <unknown>\n#10 0x561df4b32c74 <unknown>\n#11 0x561df4b1f8f3 <unknown>\n#12 0x561df4af50d8 <unknown>\n#13 0x561df4af6205 <unknown>\n#14 0x561df4d0be3d <unknown>\n#15 0x561df4d0edb6 <unknown>\n#16 0x561df4cf513e <unknown>\n#17 0x561df4d0f9b5 <unknown>\n#18 0x561df4ce9970 <unknown>\n#19 0x561df4d2c228 <unknown>\n#20 0x561df4d2c3bf <unknown>\n#21 0x561df4d46abe <unknown>\n#22 0x7fa3fc92ab43 <unknown>\n",
     "output_type": "error",
     "traceback": [
      "\u001b[0;31m---------------------------------------------------------------------------\u001b[0m",
      "\u001b[0;31mElementClickInterceptedException\u001b[0m          Traceback (most recent call last)",
      "\u001b[0;32m/tmp/ipykernel_49945/1175606722.py\u001b[0m in \u001b[0;36m<module>\u001b[0;34m\u001b[0m\n\u001b[1;32m      5\u001b[0m     \u001b[0mtime\u001b[0m\u001b[0;34m.\u001b[0m\u001b[0msleep\u001b[0m\u001b[0;34m(\u001b[0m\u001b[0;36m0.5\u001b[0m\u001b[0;34m)\u001b[0m\u001b[0;34m\u001b[0m\u001b[0;34m\u001b[0m\u001b[0m\n\u001b[1;32m      6\u001b[0m     \u001b[0mbrowser\u001b[0m\u001b[0;34m.\u001b[0m\u001b[0mexecute_script\u001b[0m\u001b[0;34m(\u001b[0m\u001b[0;34m\"window.scrollTo(0, 1675)\"\u001b[0m\u001b[0;34m)\u001b[0m\u001b[0;34m\u001b[0m\u001b[0;34m\u001b[0m\u001b[0m\n\u001b[0;32m----> 7\u001b[0;31m     \u001b[0mbrowser\u001b[0m\u001b[0;34m.\u001b[0m\u001b[0mfind_element\u001b[0m\u001b[0;34m(\u001b[0m\u001b[0mBy\u001b[0m\u001b[0;34m.\u001b[0m\u001b[0mXPATH\u001b[0m\u001b[0;34m,\u001b[0m \u001b[0;34m\"//div[@class='btn btn-outline-light scouting-report__button']\"\u001b[0m\u001b[0;34m)\u001b[0m\u001b[0;34m.\u001b[0m\u001b[0mclick\u001b[0m\u001b[0;34m(\u001b[0m\u001b[0;34m)\u001b[0m\u001b[0;34m\u001b[0m\u001b[0;34m\u001b[0m\u001b[0m\n\u001b[0m\u001b[1;32m      8\u001b[0m     \u001b[0mtime\u001b[0m\u001b[0;34m.\u001b[0m\u001b[0msleep\u001b[0m\u001b[0;34m(\u001b[0m\u001b[0;36m2\u001b[0m\u001b[0;34m)\u001b[0m\u001b[0;34m\u001b[0m\u001b[0;34m\u001b[0m\u001b[0m\n\u001b[1;32m      9\u001b[0m     \u001b[0mhtml_text\u001b[0m \u001b[0;34m=\u001b[0m \u001b[0mbrowser\u001b[0m\u001b[0;34m.\u001b[0m\u001b[0mpage_source\u001b[0m\u001b[0;34m\u001b[0m\u001b[0;34m\u001b[0m\u001b[0m\n",
      "\u001b[0;32m~/.local/lib/python3.10/site-packages/selenium/webdriver/remote/webelement.py\u001b[0m in \u001b[0;36mclick\u001b[0;34m(self)\u001b[0m\n\u001b[1;32m     86\u001b[0m     \u001b[0;32mdef\u001b[0m \u001b[0mclick\u001b[0m\u001b[0;34m(\u001b[0m\u001b[0mself\u001b[0m\u001b[0;34m)\u001b[0m \u001b[0;34m->\u001b[0m \u001b[0;32mNone\u001b[0m\u001b[0;34m:\u001b[0m\u001b[0;34m\u001b[0m\u001b[0;34m\u001b[0m\u001b[0m\n\u001b[1;32m     87\u001b[0m         \u001b[0;34m\"\"\"Clicks the element.\"\"\"\u001b[0m\u001b[0;34m\u001b[0m\u001b[0;34m\u001b[0m\u001b[0m\n\u001b[0;32m---> 88\u001b[0;31m         \u001b[0mself\u001b[0m\u001b[0;34m.\u001b[0m\u001b[0m_execute\u001b[0m\u001b[0;34m(\u001b[0m\u001b[0mCommand\u001b[0m\u001b[0;34m.\u001b[0m\u001b[0mCLICK_ELEMENT\u001b[0m\u001b[0;34m)\u001b[0m\u001b[0;34m\u001b[0m\u001b[0;34m\u001b[0m\u001b[0m\n\u001b[0m\u001b[1;32m     89\u001b[0m \u001b[0;34m\u001b[0m\u001b[0m\n\u001b[1;32m     90\u001b[0m     \u001b[0;32mdef\u001b[0m \u001b[0msubmit\u001b[0m\u001b[0;34m(\u001b[0m\u001b[0mself\u001b[0m\u001b[0;34m)\u001b[0m\u001b[0;34m:\u001b[0m\u001b[0;34m\u001b[0m\u001b[0;34m\u001b[0m\u001b[0m\n",
      "\u001b[0;32m~/.local/lib/python3.10/site-packages/selenium/webdriver/remote/webelement.py\u001b[0m in \u001b[0;36m_execute\u001b[0;34m(self, command, params)\u001b[0m\n\u001b[1;32m    394\u001b[0m             \u001b[0mparams\u001b[0m \u001b[0;34m=\u001b[0m \u001b[0;34m{\u001b[0m\u001b[0;34m}\u001b[0m\u001b[0;34m\u001b[0m\u001b[0;34m\u001b[0m\u001b[0m\n\u001b[1;32m    395\u001b[0m         \u001b[0mparams\u001b[0m\u001b[0;34m[\u001b[0m\u001b[0;34m'id'\u001b[0m\u001b[0;34m]\u001b[0m \u001b[0;34m=\u001b[0m \u001b[0mself\u001b[0m\u001b[0;34m.\u001b[0m\u001b[0m_id\u001b[0m\u001b[0;34m\u001b[0m\u001b[0;34m\u001b[0m\u001b[0m\n\u001b[0;32m--> 396\u001b[0;31m         \u001b[0;32mreturn\u001b[0m \u001b[0mself\u001b[0m\u001b[0;34m.\u001b[0m\u001b[0m_parent\u001b[0m\u001b[0;34m.\u001b[0m\u001b[0mexecute\u001b[0m\u001b[0;34m(\u001b[0m\u001b[0mcommand\u001b[0m\u001b[0;34m,\u001b[0m \u001b[0mparams\u001b[0m\u001b[0;34m)\u001b[0m\u001b[0;34m\u001b[0m\u001b[0;34m\u001b[0m\u001b[0m\n\u001b[0m\u001b[1;32m    397\u001b[0m \u001b[0;34m\u001b[0m\u001b[0m\n\u001b[1;32m    398\u001b[0m     \u001b[0;32mdef\u001b[0m \u001b[0mfind_element\u001b[0m\u001b[0;34m(\u001b[0m\u001b[0mself\u001b[0m\u001b[0;34m,\u001b[0m \u001b[0mby\u001b[0m\u001b[0;34m=\u001b[0m\u001b[0mBy\u001b[0m\u001b[0;34m.\u001b[0m\u001b[0mID\u001b[0m\u001b[0;34m,\u001b[0m \u001b[0mvalue\u001b[0m\u001b[0;34m=\u001b[0m\u001b[0;32mNone\u001b[0m\u001b[0;34m)\u001b[0m \u001b[0;34m->\u001b[0m \u001b[0mWebElement\u001b[0m\u001b[0;34m:\u001b[0m\u001b[0;34m\u001b[0m\u001b[0;34m\u001b[0m\u001b[0m\n",
      "\u001b[0;32m~/.local/lib/python3.10/site-packages/selenium/webdriver/remote/webdriver.py\u001b[0m in \u001b[0;36mexecute\u001b[0;34m(self, driver_command, params)\u001b[0m\n\u001b[1;32m    427\u001b[0m         \u001b[0mresponse\u001b[0m \u001b[0;34m=\u001b[0m \u001b[0mself\u001b[0m\u001b[0;34m.\u001b[0m\u001b[0mcommand_executor\u001b[0m\u001b[0;34m.\u001b[0m\u001b[0mexecute\u001b[0m\u001b[0;34m(\u001b[0m\u001b[0mdriver_command\u001b[0m\u001b[0;34m,\u001b[0m \u001b[0mparams\u001b[0m\u001b[0;34m)\u001b[0m\u001b[0;34m\u001b[0m\u001b[0;34m\u001b[0m\u001b[0m\n\u001b[1;32m    428\u001b[0m         \u001b[0;32mif\u001b[0m \u001b[0mresponse\u001b[0m\u001b[0;34m:\u001b[0m\u001b[0;34m\u001b[0m\u001b[0;34m\u001b[0m\u001b[0m\n\u001b[0;32m--> 429\u001b[0;31m             \u001b[0mself\u001b[0m\u001b[0;34m.\u001b[0m\u001b[0merror_handler\u001b[0m\u001b[0;34m.\u001b[0m\u001b[0mcheck_response\u001b[0m\u001b[0;34m(\u001b[0m\u001b[0mresponse\u001b[0m\u001b[0;34m)\u001b[0m\u001b[0;34m\u001b[0m\u001b[0;34m\u001b[0m\u001b[0m\n\u001b[0m\u001b[1;32m    430\u001b[0m             response['value'] = self._unwrap_value(\n\u001b[1;32m    431\u001b[0m                 response.get('value', None))\n",
      "\u001b[0;32m~/.local/lib/python3.10/site-packages/selenium/webdriver/remote/errorhandler.py\u001b[0m in \u001b[0;36mcheck_response\u001b[0;34m(self, response)\u001b[0m\n\u001b[1;32m    241\u001b[0m                 \u001b[0malert_text\u001b[0m \u001b[0;34m=\u001b[0m \u001b[0mvalue\u001b[0m\u001b[0;34m[\u001b[0m\u001b[0;34m'alert'\u001b[0m\u001b[0;34m]\u001b[0m\u001b[0;34m.\u001b[0m\u001b[0mget\u001b[0m\u001b[0;34m(\u001b[0m\u001b[0;34m'text'\u001b[0m\u001b[0;34m)\u001b[0m\u001b[0;34m\u001b[0m\u001b[0;34m\u001b[0m\u001b[0m\n\u001b[1;32m    242\u001b[0m             \u001b[0;32mraise\u001b[0m \u001b[0mexception_class\u001b[0m\u001b[0;34m(\u001b[0m\u001b[0mmessage\u001b[0m\u001b[0;34m,\u001b[0m \u001b[0mscreen\u001b[0m\u001b[0;34m,\u001b[0m \u001b[0mstacktrace\u001b[0m\u001b[0;34m,\u001b[0m \u001b[0malert_text\u001b[0m\u001b[0;34m)\u001b[0m  \u001b[0;31m# type: ignore[call-arg]  # mypy is not smart enough here\u001b[0m\u001b[0;34m\u001b[0m\u001b[0;34m\u001b[0m\u001b[0m\n\u001b[0;32m--> 243\u001b[0;31m         \u001b[0;32mraise\u001b[0m \u001b[0mexception_class\u001b[0m\u001b[0;34m(\u001b[0m\u001b[0mmessage\u001b[0m\u001b[0;34m,\u001b[0m \u001b[0mscreen\u001b[0m\u001b[0;34m,\u001b[0m \u001b[0mstacktrace\u001b[0m\u001b[0;34m)\u001b[0m\u001b[0;34m\u001b[0m\u001b[0;34m\u001b[0m\u001b[0m\n\u001b[0m",
      "\u001b[0;31mElementClickInterceptedException\u001b[0m: Message: element click intercepted: Element is not clickable at point (952, 1996)\n  (Session info: chrome=104.0.5112.101)\nStacktrace:\n#0 0x561df4cc4403 <unknown>\n#1 0x561df4aca778 <unknown>\n#2 0x561df4b09355 <unknown>\n#3 0x561df4b06ee2 <unknown>\n#4 0x561df4b04584 <unknown>\n#5 0x561df4b031f5 <unknown>\n#6 0x561df4af6e49 <unknown>\n#7 0x561df4b1fa02 <unknown>\n#8 0x561df4af6703 <unknown>\n#9 0x561df4b1fb0e <unknown>\n#10 0x561df4b32c74 <unknown>\n#11 0x561df4b1f8f3 <unknown>\n#12 0x561df4af50d8 <unknown>\n#13 0x561df4af6205 <unknown>\n#14 0x561df4d0be3d <unknown>\n#15 0x561df4d0edb6 <unknown>\n#16 0x561df4cf513e <unknown>\n#17 0x561df4d0f9b5 <unknown>\n#18 0x561df4ce9970 <unknown>\n#19 0x561df4d2c228 <unknown>\n#20 0x561df4d2c3bf <unknown>\n#21 0x561df4d46abe <unknown>\n#22 0x7fa3fc92ab43 <unknown>\n"
     ]
    }
   ],
   "source": [
    "player_data = []\n",
    "for i in href:\n",
    "    browser.get(i)\n",
    "    browser.execute_script(\"window.scrollTo(0, 1675)\") \n",
    "    time.sleep(0.5)\n",
    "    browser.execute_script(\"window.scrollTo(0, 1675)\")\n",
    "    browser.find_element(By.XPATH, \"//div[@class='btn btn-outline-light scouting-report__button']\").click()\n",
    "    time.sleep(2)\n",
    "    html_text = browser.page_source\n",
    "    tree = BeautifulSoup(html_text)\n",
    "    player_stats = tree.find_all(\"td\", \"scouting-report__item-ninety\")\n",
    "    for i in range(len(player_stats)):\n",
    "        player_stats[i] = float(player_stats[i].get_text())\n",
    "    player_data.append(player_stats)\n",
    "   "
   ]
  },
  {
   "cell_type": "markdown",
   "metadata": {},
   "source": [
    "READ PLAYER'S DATA AND REMOVE THE HIGHLIGHTED ONES"
   ]
  },
  {
   "cell_type": "code",
   "execution_count": null,
   "metadata": {},
   "outputs": [],
   "source": [
    "player_data_X = [[player_data[j][i] for j in range(len(player_data))] for i in range(len(player_data[0]))]\n"
   ]
  },
  {
   "cell_type": "markdown",
   "metadata": {},
   "source": [
    "INPUT DATA TO DATAFRAME"
   ]
  },
  {
   "cell_type": "code",
   "execution_count": null,
   "metadata": {},
   "outputs": [],
   "source": [
    "data = {\"CHALLENGES WON, %\": player_data_X[0],\n",
    "        \"AIR CHALLENGES LOST\": player_data_X[1],\n",
    "        \"AIR CHALLENGES WON\": player_data_X[2],\n",
    "        \"FOULS\": player_data_X[3],\n",
    "        \"YELLOW CARDS\": player_data_X[4],\n",
    "        \"AIR CHALLENGES, %\": player_data_X[5],\n",
    "        \"ASSISTS\": player_data_X[6],\n",
    "        \"EXPECTED ASSISTS (XA)\": player_data_X[7],\n",
    "        \"PASSES INTO FINAL THIRD\": player_data_X[8],\n",
    "        \"CROSSES\": player_data_X[9],\n",
    "        \"SUCCESSFUL DRIBBLES, %\": player_data_X[10],\n",
    "        \"TACKLES\": player_data_X[11],\n",
    "        \"PASS INTERCEPTIONS\": player_data_X[12],\n",
    "        \"ERRORS LEADING TO GOAL\": player_data_X[13],\n",
    "        \"BLOCKED SHOTS\": player_data_X[14],\n",
    "        \"CLEARANCES\": player_data_X[15],\n",
    "        \"TACKLES WON, %\": player_data_X[16],\n",
    "        \"PASSES\": player_data_X[17],\n",
    "        \"PASS COMPLETION, %\": player_data_X[18],\n",
    "        \"PASSING SPEED\": player_data_X[19],\n",
    "        \"GOALS\": player_data_X[20],\n",
    "        \"BIG CHANCES\": player_data_X[21],\n",
    "        \"CONVERSION OF BIG CHANCES, %\": player_data_X[22],\n",
    "        \"SHOTS ON TARGET\": player_data_X[23],\n",
    "        \"SHOTS ON TARGET CONVERSION RATE, %\": player_data_X[24],\n",
    "        \"EXPECTED GOALS (XG)\": player_data_X[25],\n",
    "        \"GOALS WITH HEAD\": player_data_X[26],\n",
    "        \"XG CONVERSION\": player_data_X[27],\n",
    "        }   \n",
    "df = pd.DataFrame.from_dict(data)"
   ]
  },
  {
   "cell_type": "markdown",
   "metadata": {},
   "source": [
    "EXPORT TO CSV FILE"
   ]
  },
  {
   "cell_type": "code",
   "execution_count": null,
   "metadata": {},
   "outputs": [],
   "source": [
    "df.to_csv(\"data.csv\")"
   ]
  }
 ],
 "metadata": {
  "kernelspec": {
   "display_name": "Python 3.10.6 64-bit",
   "language": "python",
   "name": "python3"
  },
  "language_info": {
   "codemirror_mode": {
    "name": "ipython",
    "version": 3
   },
   "file_extension": ".py",
   "mimetype": "text/x-python",
   "name": "python",
   "nbconvert_exporter": "python",
   "pygments_lexer": "ipython3",
   "version": "3.10.6"
  },
  "orig_nbformat": 4,
  "vscode": {
   "interpreter": {
    "hash": "916dbcbb3f70747c44a77c7bcd40155683ae19c65e1c03b4aa3499c5328201f1"
   }
  }
 },
 "nbformat": 4,
 "nbformat_minor": 2
}

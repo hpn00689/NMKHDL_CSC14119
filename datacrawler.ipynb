{
 "cells": [
  {
   "cell_type": "markdown",
   "metadata": {},
   "source": [
    "THIS FILE IS FOR DATA CRAWLING ONLY!!!"
   ]
  },
  {
   "cell_type": "code",
   "execution_count": null,
   "metadata": {},
   "outputs": [],
   "source": [
    "\n",
    "from bs4 import BeautifulSoup\n",
    "from selenium import webdriver\n",
    "from selenium.webdriver.common.by import By\n",
    "import time\n",
    "import numpy as np\n",
    "import pandas as pd"
   ]
  },
  {
   "cell_type": "markdown",
   "metadata": {},
   "source": [
    "OPEN DATA PAGE"
   ]
  },
  {
   "cell_type": "code",
   "execution_count": null,
   "metadata": {},
   "outputs": [],
   "source": [
    "browser = webdriver.Chrome()"
   ]
  },
  {
   "cell_type": "code",
   "execution_count": null,
   "metadata": {},
   "outputs": [],
   "source": [
    "browser.get('https://one-versus-one.com/en/rankings/all/statistics')\n",
    "browser.maximize_window()\n",
    "browser.implicitly_wait(20)\n",
    "browser.execute_script(\"window.scrollTo(0, 1400)\") "
   ]
  },
  {
   "cell_type": "markdown",
   "metadata": {},
   "source": [
    "ACCEPT COOKIES AND DATA PROCESSING"
   ]
  },
  {
   "cell_type": "code",
   "execution_count": null,
   "metadata": {},
   "outputs": [],
   "source": [
    "browser.find_element(By.ID, \"cmpwelcomebtnyes\").click()"
   ]
  },
  {
   "cell_type": "markdown",
   "metadata": {},
   "source": [
    "STORE EACH LINK TO ARRAY"
   ]
  },
  {
   "cell_type": "code",
   "execution_count": null,
   "metadata": {},
   "outputs": [],
   "source": [
    "href = []\n",
    "count = 1\n",
    "while(count < 145):\n",
    "    html_text = browser.page_source\n",
    "    tree = BeautifulSoup(html_text)\n",
    "    player_link = tree.find_all(\"a\", \"ranking-section__list-item-anchor\")\n",
    "    for i in player_link:\n",
    "        href.append(i.get('href'))\n",
    "    if count != 144:\n",
    "        browser.find_element(By.XPATH, \"//div[@id = 'pagination-module']/div[9]\").click()\n",
    "    time.sleep(1)\n",
    "    count += 1 \n",
    "\n",
    "href.pop()\n",
    "href.pop(307) #dead link\n",
    "href.pop(489) #dead link\n",
    "href.pop(693) #dead link\n",
    "href.pop(1133)  #dead link\n",
    "href.pop(1144)  #dead link\n",
    "href.pop(1161)  #dead link\n",
    "href.pop(1261)  #dead link\n"
   ]
  },
  {
   "cell_type": "code",
   "execution_count": null,
   "metadata": {},
   "outputs": [],
   "source": [
    "href.pop(1261)  #dead link"
   ]
  },
  {
   "cell_type": "code",
   "execution_count": null,
   "metadata": {},
   "outputs": [],
   "source": [
    "print(href[1261])"
   ]
  },
  {
   "cell_type": "code",
   "execution_count": null,
   "metadata": {},
   "outputs": [],
   "source": []
  },
  {
   "cell_type": "markdown",
   "metadata": {},
   "source": [
    "CRAWL DATA FROM EACH PLAYER"
   ]
  },
  {
   "cell_type": "code",
   "execution_count": 65,
   "metadata": {},
   "outputs": [],
   "source": [
    "player_data = []\n",
    "for i in range(len(href)):\n",
    "    browser.get(href[i])\n",
    "    html_text = browser.page_source\n",
    "    tree = BeautifulSoup(html_text)\n",
    "    player_name = tree.find_all(\"h1\", \"players-page-header__name section-big-text\")\n",
    "    no_data = tree.find_all(\"div\", \"player-no-data-warning\")\n",
    "    if (no_data != []):\n",
    "        continue\n",
    "    for i in range(len(player_name)):\n",
    "        player_name[i] = player_name[i].get_text()\n",
    "    record_tab = tree.find_all(\"div\", \"records__total-switch records-total-switch\")\n",
    "    hl = tree.find_all(\"td\", \"scouting-report__item-metric\")\n",
    "    if (record_tab != [] and hl != []):\n",
    "        browser.execute_script(\"window.scrollTo(0, 1650)\") \n",
    "        time.sleep(0.5)\n",
    "        browser.execute_script(\"window.scrollTo(0, 1675)\")\n",
    "    elif (record_tab != [] and hl == []):\n",
    "        browser.execute_script(\"window.scrollTo(0, 1400)\") \n",
    "        time.sleep(0.5)\n",
    "        browser.execute_script(\"window.scrollTo(0, 1400)\")\n",
    "    elif(record_tab == []):\n",
    "        browser.execute_script(\"window.scrollTo(0, 1200)\") \n",
    "        time.sleep(0.5)\n",
    "        browser.execute_script(\"window.scrollTo(0, 1200)\")\n",
    "    time.sleep(0.1)\n",
    "    browser.find_element(By.XPATH, \"//div[@class='btn btn-outline-light scouting-report__button']\").click()\n",
    "    player_stats = []\n",
    "    while (len(player_stats) <= 5):\n",
    "        html_text = browser.page_source\n",
    "        tree = BeautifulSoup(html_text)\n",
    "        player_stats = tree.find_all(\"td\", \"scouting-report__item-ninety\")\n",
    "    if (len(player_stats) == 33):\n",
    "        player_stats.pop(0)\n",
    "        player_stats.pop(0)\n",
    "        player_stats.pop(0)\n",
    "        player_stats.pop(0)\n",
    "        player_stats.pop(0)\n",
    "    for j in range(len(player_stats)):\n",
    "        player_stats[j] = float(player_stats[j].get_text())\n",
    "    player_data.append(player_stats)"
   ]
  },
  {
   "cell_type": "markdown",
   "metadata": {},
   "source": [
    "TRANSPOSE THE DATA"
   ]
  },
  {
   "cell_type": "code",
   "execution_count": 69,
   "metadata": {},
   "outputs": [],
   "source": [
    "player_data_X = [[player_data[j][i] for j in range(len(player_data))] for i in range(len(player_data[0]))]\n",
    "player_data_X = np.array(player_data_X)"
   ]
  },
  {
   "cell_type": "markdown",
   "metadata": {},
   "source": [
    "\n",
    "INPUT DATA TO DATAFRAME"
   ]
  },
  {
   "cell_type": "code",
   "execution_count": 70,
   "metadata": {},
   "outputs": [],
   "source": [
    "data = {\"CHALLENGES WON, %\": player_data_X[0],\n",
    "        \"AIR CHALLENGES LOST\": player_data_X[1],\n",
    "        \"AIR CHALLENGES WON\": player_data_X[2],\n",
    "        \"FOULS\": player_data_X[3],\n",
    "        \"YELLOW CARDS\": player_data_X[4],\n",
    "        \"AIR CHALLENGES, %\": player_data_X[5],\n",
    "        \"ASSISTS\": player_data_X[6],\n",
    "        \"EXPECTED ASSISTS (XA)\": player_data_X[7],\n",
    "        \"PASSES INTO FINAL THIRD\": player_data_X[8],\n",
    "        \"CROSSES\": player_data_X[9],\n",
    "        \"SUCCESSFUL DRIBBLES, %\": player_data_X[10],\n",
    "        \"TACKLES\": player_data_X[11],\n",
    "        \"PASS INTERCEPTIONS\": player_data_X[12],\n",
    "        \"ERRORS LEADING TO GOAL\": player_data_X[13],\n",
    "        \"BLOCKED SHOTS\": player_data_X[14],\n",
    "        \"CLEARANCES\": player_data_X[15],\n",
    "        \"TACKLES WON, %\": player_data_X[16],\n",
    "        \"PASSES\": player_data_X[17],\n",
    "        \"PASS COMPLETION, %\": player_data_X[18],\n",
    "        \"PASSING SPEED\": player_data_X[19],\n",
    "        \"GOALS\": player_data_X[20],\n",
    "        \"BIG CHANCES\": player_data_X[21],\n",
    "        \"CONVERSION OF BIG CHANCES, %\": player_data_X[22],\n",
    "        \"SHOTS ON TARGET\": player_data_X[23],\n",
    "        \"SHOTS ON TARGET CONVERSION RATE, %\": player_data_X[24],\n",
    "        \"EXPECTED GOALS (XG)\": player_data_X[25],\n",
    "        \"GOALS WITH HEAD\": player_data_X[26],\n",
    "        \"XG CONVERSION\": player_data_X[27],\n",
    "        }   \n",
    "df = pd.DataFrame.from_dict(data)"
   ]
  },
  {
   "cell_type": "markdown",
   "metadata": {},
   "source": [
    "\n",
    "EXPORT TO CSV FILE"
   ]
  },
  {
   "cell_type": "code",
   "execution_count": 71,
   "metadata": {},
   "outputs": [],
   "source": [
    "df.to_csv(\"data4.csv\")"
   ]
  }
 ],
 "metadata": {
  "kernelspec": {
   "display_name": "Python 3.10.2 64-bit",
   "language": "python",
   "name": "python3"
  },
  "language_info": {
   "codemirror_mode": {
    "name": "ipython",
    "version": 3
   },
   "file_extension": ".py",
   "mimetype": "text/x-python",
   "name": "python",
   "nbconvert_exporter": "python",
   "pygments_lexer": "ipython3",
   "version": "3.10.2"
  },
  "orig_nbformat": 4,
  "vscode": {
   "interpreter": {
    "hash": "31671a60cee805c34c73116577b485118ff3a75c458d3004d49632c19702ac60"
   }
  }
 },
 "nbformat": 4,
 "nbformat_minor": 2
}
